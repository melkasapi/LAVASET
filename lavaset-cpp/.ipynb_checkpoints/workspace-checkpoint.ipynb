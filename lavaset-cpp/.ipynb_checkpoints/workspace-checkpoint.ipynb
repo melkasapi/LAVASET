{
 "cells": [
  {
   "cell_type": "code",
   "execution_count": 1,
   "metadata": {},
   "outputs": [
    {
     "data": {
      "text/plain": [
       "array([23.46, 12.16,  2.24,  0.04])"
      ]
     },
     "execution_count": 1,
     "metadata": {},
     "output_type": "execute_result"
    }
   ],
   "source": [
    "import numpy as np\n",
    "from math import fabs\n",
    "from sklearn import datasets\n",
    "from sklearn.tree import DecisionTreeClassifier\n",
    "import pandas as pd\n",
    "import cython\n",
    "\n",
    "f = np.array([5.1, 3.8, 1.6, 0.2])\n",
    "b = np.array([4.6, 3.2, 1.4, 0.2])\n",
    "f*b"
   ]
  },
  {
   "cell_type": "code",
   "execution_count": 2,
   "metadata": {},
   "outputs": [
    {
     "data": {
      "text/plain": [
       "37.89999999999999"
      ]
     },
     "execution_count": 2,
     "metadata": {},
     "output_type": "execute_result"
    }
   ],
   "source": [
    "np.dot(f,b)"
   ]
  },
  {
   "cell_type": "code",
   "execution_count": 9,
   "metadata": {},
   "outputs": [
    {
     "name": "stdout",
     "output_type": "stream",
     "text": [
      "0.49037338888761706\n",
      "0.48\n"
     ]
    }
   ],
   "source": [
    "y_left = [0,0,0,0,1,1,1,1,1,1]\n",
    "p_left = (np.bincount(np.array(y_left, dtype=np.int64)))/len(y_left)\n",
    "\n",
    "gini_l = 1-np.sum(p_left**2)\n",
    "gl = 22261\n",
    "j=208\n",
    "gl = 1 - gl/((j+1)*(j+1))\n",
    "print(gl)\n",
    "print(gini_l)"
   ]
  },
  {
   "cell_type": "code",
   "execution_count": 4,
   "metadata": {},
   "outputs": [
    {
     "data": {
      "text/plain": [
       "733"
      ]
     },
     "execution_count": 4,
     "metadata": {},
     "output_type": "execute_result"
    }
   ],
   "source": [
    "M = 367\n",
    "L = 2 * np.ceil(M/1).astype(int) - 1\n",
    "L"
   ]
  },
  {
   "cell_type": "code",
   "execution_count": 15,
   "metadata": {},
   "outputs": [
    {
     "data": {
      "text/plain": [
       "array([[4.8, 3. , 1.4, 0.3],\n",
       "       [5.1, 3.8, 1.6, 0.2],\n",
       "       [4.6, 3.2, 1.4, 0.2],\n",
       "       [5.3, 3.7, 1.5, 0.2],\n",
       "       [5. , 3.3, 1.4, 0.2],\n",
       "       [7. , 3.2, 4.7, 1.4],\n",
       "       [6.4, 3.2, 4.5, 1.5],\n",
       "       [6.9, 3.1, 4.9, 1.5],\n",
       "       [5.5, 2.3, 4. , 1.3],\n",
       "       [6.5, 2.8, 4.6, 1.5]])"
      ]
     },
     "execution_count": 15,
     "metadata": {},
     "output_type": "execute_result"
    }
   ],
   "source": [
    "iris = datasets.load_iris()\n",
    "X = iris.data[45:55]  \n",
    "y = np.array(iris.target[45:55],dtype=np.int32)#.tolist()\n",
    "X"
   ]
  },
  {
   "cell_type": "code",
   "execution_count": 17,
   "metadata": {},
   "outputs": [
    {
     "data": {
      "text/plain": [
       "array([1., 0., 0., 0.])"
      ]
     },
     "execution_count": 17,
     "metadata": {},
     "output_type": "execute_result"
    }
   ],
   "source": []
  },
  {
   "cell_type": "code",
   "execution_count": 32,
   "metadata": {},
   "outputs": [
    {
     "data": {
      "text/plain": [
       "array([0., 0., 0., 0., 0., 0., 0., 0., 0., 0., 0., 0., 0., 0., 0., 0., 0.,\n",
       "       0., 0., 0., 0., 0., 0., 0., 0., 0., 0., 0., 0., 0., 0., 0., 0., 0.,\n",
       "       0., 0., 0., 0., 0., 0., 0., 0., 0., 0., 0., 0., 0., 0., 0., 0., 0.,\n",
       "       0., 0., 0., 0., 0., 0., 0., 0., 0., 0., 0., 0., 0., 0., 0., 0., 0.,\n",
       "       0., 0., 0., 0., 0., 0., 0., 0., 0., 0., 0., 0., 0., 0., 0., 0., 0.,\n",
       "       0., 0., 0., 0., 0., 0., 0., 0., 0., 0., 0., 0., 0., 0., 0., 0., 0.,\n",
       "       0., 0., 0., 0., 0., 0., 0., 0., 0., 0., 0., 0., 0., 0., 0., 0., 0.,\n",
       "       0., 0., 0., 0., 0., 0., 0., 0., 0., 0., 0., 0., 0., 0., 0., 0., 0.,\n",
       "       0., 0., 0., 0., 0., 0., 0., 0., 0., 0., 0., 0., 0., 0., 0., 0., 0.,\n",
       "       0., 0., 0., 0., 0., 0., 0., 0., 0., 0., 0., 0., 0., 0., 0., 0., 0.,\n",
       "       0., 0., 0., 0., 0., 0., 0., 0., 0., 0., 0., 0., 0., 0., 0., 0., 0.,\n",
       "       0., 0., 0., 0., 0., 0., 0., 0., 0., 0., 0., 1., 0.])"
      ]
     },
     "execution_count": 32,
     "metadata": {},
     "output_type": "execute_result"
    }
   ],
   "source": [
    "nmr_peaks = pd.read_csv('~/Documents/IBS/NMR_data/IBS_HNMR_data_n267.csv')\n",
    "\n",
    "# y = np.array(nmr_peaks.iloc[:, 1])\n",
    "\n",
    "\n",
    "X = np.array(nmr_peaks.iloc[:10, 15000:15200])\n",
    "# #y = np.array(nmr_peaks.iloc[:, 1])\n",
    "# y = pd.read_csv('testing/formate_cluster_labels.txt', header=None).iloc[:, 0].to_numpy(dtype=int)\n",
    "y = np.array(nmr_peaks.iloc[:10, 1], dtype=np.int32)\n",
    "pd.DataFrame(X).iloc[:, 105:]\n",
    "\n",
    "tree = DecisionTreeClassifier()\n",
    "tree.fit(X,y)\n",
    "tree.feature_importances_"
   ]
  },
  {
   "cell_type": "code",
   "execution_count": 32,
   "metadata": {},
   "outputs": [
    {
     "data": {
      "text/plain": [
       "True"
      ]
     },
     "execution_count": 32,
     "metadata": {},
     "output_type": "execute_result"
    }
   ],
   "source": [
    "(np.array([6.4, 6.4, 6.4, 6.4])<np.array([7.,7., 7., 7.])).all()\n",
    "np.all(np.array([6.4, 6.4, 6.4, 6.4])<np.array([7.,7., 7., 7.]))"
   ]
  },
  {
   "cell_type": "code",
   "execution_count": 45,
   "metadata": {},
   "outputs": [],
   "source": [
    "# distutils: language = c++\n",
    "from cmath import sqrt\n",
    "import numpy as np\n",
    "import sys\n",
    "from sklearn import datasets \n",
    "from math import fabs\n",
    "import pandas as pd\n",
    "from sympy import difference_delta\n",
    "import time\n",
    "import sys\n",
    "\n",
    "def quicksort(data, labels, left, right):\n",
    "    pivot, fl = 0, 1\n",
    "    tsd, pivot_indx = 0, 0\n",
    "    ll, rr = left, right\n",
    "    if left < right:\n",
    "        pivot = data[left]\n",
    "        while fl == 1:\n",
    "            while np.all(data[ll] < pivot):\n",
    "                ll += 1\n",
    "            while np.all(data[rr] > pivot):\n",
    "                rr -= 1\n",
    "            if ll < rr:\n",
    "                tsd = data[ll]\n",
    "                data[ll] = data[rr]\n",
    "                data[rr] = tsd\n",
    "\n",
    "                tsd = labels[ll]\n",
    "                labels[ll] = labels[rr]\n",
    "                labels[rr] = tsd\n",
    "\n",
    "                rr -= 1\n",
    "            else:\n",
    "                pivot_indx = rr\n",
    "                fl = 0\n",
    "\n",
    "        quicksort(data, labels, left, pivot_indx)\n",
    "        quicksort(data, labels, pivot_indx+1, right)\n",
    "        return data\n",
    "\n",
    "\n",
    "\n",
    "def GBCP(M,  N,  Labels,  Data,  minleaf,  num_labels,  bcvar,  bcval):\n",
    "    \n",
    "    # cdef double bh, ch, gr, gl,\n",
    "    # cdef int i, j, cl, nl, mj\n",
    "    # cdef ndarray[double, ndim=2] sorted_data\n",
    "    # cdef list diff_labels_l, diff_labels_r, diff_labels, sorted_labels\n",
    "\n",
    "    sorted_data = np.zeros((M,N))\n",
    "\n",
    "    diff_labels_l = list(range(num_labels))\n",
    "    diff_labels_r = list(range(num_labels))\n",
    "    diff_labels = list(range(num_labels))\n",
    "    sorted_labels = list(range(M))\n",
    "\n",
    "    # sorted_data = np.zeros(M)\n",
    "    # bh, ch, gr, gl = 0, 0, 0, 0\n",
    "    # diff_labels_l = np.zeros(num_labels, dtype=int)\n",
    "    # diff_labels_r = np.zeros(num_labels, dtype=int)\n",
    "    # diff_labels = np.zeros(num_labels, dtype=int)\n",
    "    # sorted_labels = np.zeros(M, dtype=int)\n",
    "    \n",
    "    for nl in range(num_labels):\n",
    "        diff_labels[nl]=0\n",
    "    \n",
    "    for j in range(M):\n",
    "        cl = Labels[j]\n",
    "        diff_labels[cl-1]+=1\n",
    "    bh=0\n",
    "    for nl in range(num_labels):\n",
    "        bh+=diff_labels[nl]*diff_labels[nl]\n",
    "    bh = 1 - (bh/(M*M))\n",
    "    for i in range(N):\n",
    "        for nl in range(num_labels):\n",
    "            diff_labels_l[nl] = 0\n",
    "\n",
    "            diff_labels_r[nl] = diff_labels[nl]\n",
    "        \n",
    "        for j in range(M):\n",
    "            sorted_data[j] =  Data[j,i]#Data[i*M+j]\n",
    "            sorted_labels[j] = Labels[j]\n",
    "        sorted_data = quicksort(sorted_data, sorted_labels, 0, M-1)\n",
    "        for mj in range(minleaf-1):\n",
    "            cl=sorted_labels[mj]\n",
    "            diff_labels_l[cl-1]-=1\n",
    "            diff_labels_r[cl-1]+=1\n",
    "            j -= 1\n",
    "        \n",
    "        for j in range(minleaf-1, M-minleaf):\n",
    "            cl=sorted_labels[j]\n",
    "            diff_labels_l[cl-1]-=1\n",
    "            diff_labels_r[cl-1]+=1\n",
    "            gr = 0\n",
    "            gl = 0\n",
    "\n",
    "\n",
    "            for nl in range(num_labels):\n",
    "                gl+=diff_labels_l[nl]*diff_labels_l[nl]\n",
    "                gr+=diff_labels_r[nl]*diff_labels_r[nl]\n",
    "            gl = 1 - gl/((j+1)*(j+1))\n",
    "            gr = 1 - gr/((M-j-1)*(M-j-1))\n",
    "            ch = ((j+1)*gl/M) + ((M-j-1)*gr/M)\n",
    "\n",
    "            if ch<bh:\n",
    "                split_array = sorted_data[j+1]-sorted_data[j]\n",
    "                if np.abs(split_array).any()>1e-15:\n",
    "                    bh=ch\n",
    "                    bcvar[0] = int(i) # check if it should be i ot i+1\n",
    "                    bcval[0] = np.unique(0.5*(sorted_data[j+1]+sorted_data[j]))\n",
    "    del diff_labels_l\n",
    "    del diff_labels_r\n",
    "    del diff_labels\n",
    "    del sorted_labels\n",
    "    del sorted_data\n",
    "    return bcvar, bcval\n",
    "    # free(diff_labels_l)\n",
    "    # free(diff_labels_r)\n",
    "    # free(diff_labels)\n",
    "    # free(sorted_labels)\n",
    "    # free(sorted_data)\n",
    "\n",
    "iris = datasets.load_iris()\n",
    "X = iris.data[47:53, 1:]  \n",
    "y = iris.target[47:53]\n",
    "\n"
   ]
  },
  {
   "cell_type": "code",
   "execution_count": 46,
   "metadata": {},
   "outputs": [
    {
     "name": "stdout",
     "output_type": "stream",
     "text": [
      "([6, 0.0], [array([27941.85925757]), 0.0])\n",
      "17.73022198677063\n"
     ]
    }
   ],
   "source": [
    "X = np.array(nmr_peaks.iloc[:90, 1500:1900])\n",
    "# #y = np.array(nmr_peaks.iloc[:, 1])\n",
    "# y = pd.read_csv('testing/formate_cluster_labels.txt', header=None).iloc[:, 0].to_numpy(dtype=int)\n",
    "y = np.array(nmr_peaks.iloc[:90, 1], dtype=np.int32)\n",
    "M, N = X.shape\n",
    "start = time.time()\n",
    "\n",
    "print(GBCP(M, N, y, X, 1, 2, [-1. ,0.], [0.,0.]))\n",
    "# distutils: language = c++\n",
    "\n",
    "end = time.time()\n",
    "\n",
    "print(end-start)\n"
   ]
  },
  {
   "cell_type": "code",
   "execution_count": 14,
   "metadata": {},
   "outputs": [],
   "source": [
    "%load_ext cython"
   ]
  },
  {
   "cell_type": "code",
   "execution_count": 43,
   "metadata": {},
   "outputs": [
    {
     "name": "stderr",
     "output_type": "stream",
     "text": [
      "In file included from /home/mk218/anaconda3/envs/py39-CMR/lib/python3.9/site-packages/numpy/core/include/numpy/ndarraytypes.h:1969,\n",
      "                 from /home/mk218/anaconda3/envs/py39-CMR/lib/python3.9/site-packages/numpy/core/include/numpy/ndarrayobject.h:12,\n",
      "                 from /home/mk218/anaconda3/envs/py39-CMR/lib/python3.9/site-packages/numpy/core/include/numpy/arrayobject.h:4,\n",
      "                 from /home/mk218/.cache/ipython/cython/_cython_magic_681de95ff916e97f59f18c2ec9271a13.c:778:\n",
      "/home/mk218/anaconda3/envs/py39-CMR/lib/python3.9/site-packages/numpy/core/include/numpy/npy_1_7_deprecated_api.h:17:2: warning: #warning \"Using deprecated NumPy API, disable it with \" \"#define NPY_NO_DEPRECATED_API NPY_1_7_API_VERSION\" [-Wcpp]\n",
      "   17 | #warning \"Using deprecated NumPy API, disable it with \" \\\n",
      "      |  ^~~~~~~\n",
      "/home/mk218/.cache/ipython/cython/_cython_magic_681de95ff916e97f59f18c2ec9271a13.c:2415:18: warning: '__pyx_f_46_cython_magic_681de95ff916e97f59f18c2ec9271a13_GBCP' defined but not used [-Wunused-function]\n",
      " 2415 | static PyObject *__pyx_f_46_cython_magic_681de95ff916e97f59f18c2ec9271a13_GBCP(int __pyx_v_M, int __pyx_v_N, PyArrayObject *__pyx_v_Labels, PyArrayObject *__pyx_v_Data, int __pyx_v_minleaf, int __pyx_v_num_labels, PyArrayObject *__pyx_v_bcvar, PyArrayObject *__pyx_v_bcval) {\n",
      "      |                  ^~~~~~~~~~~~~~~~~~~~~~~~~~~~~~~~~~~~~~~~~~~~~~~~~~~~~~~~~~~~~\n"
     ]
    }
   ],
   "source": [
    "%%cython \n",
    "import numpy as np\n",
    "from libc.stdlib cimport malloc, free\n",
    "from libc.math cimport fabs\n",
    "from cython.parallel import prange\n",
    "from numpy cimport ndarray, float64_t, int_t\n",
    "from libc.stdio cimport printf\n",
    "# cdef extern from \"quickie.h\":\n",
    "#     void quicksort(ndarray[double, ndim=2]Data, list Labels, int left, int right)\n",
    "#     # void quicksort(ndarray[double, ndim=2]Data, list Labels, double* W, int left, int right\n",
    "\n",
    "\n",
    "# Define the quicksort function, using the same template as the C++ implementation\n",
    "cdef quicksort(ndarray[double, ndim=2] data, ndarray[int, ndim=1] labels, int left, int right):\n",
    "    # Declare variables\n",
    "    # cdef ndarray[double, ndim=2] pivot, tsd\n",
    "    cdef int pivot_indx=0, ll=left, rr=right, fl=1, tsd_int=1\n",
    "    cdef ndarray[double, ndim=1] pivot, tsd\n",
    "\n",
    "    # Check if there are at least two elements to sort\n",
    "    if left < right:\n",
    "        # Set the pivot as the leftmost element of the subarray\n",
    "        pivot = data[left]\n",
    "\n",
    "        # Iterate until the pointers meet or cross over\n",
    "        while fl == 1:\n",
    "            # Move the left pointer until it reaches an element greater than or equal to the pivot\n",
    "            while np.all(data[ll] < pivot):\n",
    "                ll += 1\n",
    "            # Move the right pointer until it reaches an element less than or equal to the pivot\n",
    "            while np.all(data[rr] > pivot):\n",
    "                rr -= 1\n",
    "            # If the left pointer is still to the left of the right pointer, swap the elements they're pointing to\n",
    "            if ll < rr:\n",
    "                tsd = data[ll]\n",
    "                data[ll] = data[rr]\n",
    "                data[rr] = tsd\n",
    "                \n",
    "                tsd_int = labels[ll]\n",
    "                labels[ll] = labels[rr]\n",
    "                labels[rr] = tsd_int\n",
    "                \n",
    "                # Decrement the right pointer to continue the iteration\n",
    "                rr -= 1\n",
    "            else:\n",
    "                # The pointers have met or crossed over, set the pivot index and exit the loop\n",
    "                pivot_indx = rr\n",
    "                fl = 0\n",
    "        \n",
    "        # Recursively sort the left and right subarrays\n",
    "        quicksort(data, labels, left, pivot_indx)\n",
    "        quicksort(data, labels, pivot_indx+1, right)\n",
    "        return data\n",
    "\n",
    "# @cython.boundscheck(False)\n",
    "# @cython.nonecheck(True)\n",
    "# @cython.wraparound(False)\n",
    "# @cython.cdivision(True)\n",
    "cdef GBCP(int M, int N, ndarray[int, ndim=1] Labels, ndarray[double, ndim=2] Data, int minleaf, int num_labels, ndarray[double, ndim=1] bcvar, ndarray[double, ndim=1] bcval):\n",
    "    \n",
    "    cdef double bh, ch, gr, gl\n",
    "    cdef int i, j, nl, mj, cl\n",
    "    cdef ndarray[double, ndim=2] sorted_data\n",
    "    cdef ndarray[int, ndim=1] diff_labels_l, diff_labels_r, diff_labels, sorted_labels\n",
    "    # sorted_data = <ndarray[double, ndim=2]>malloc(M * sizeof(double))\n",
    "    # diff_labels_l = <list>malloc(num_labels * sizeof(int))\n",
    "    # diff_labels_r = <list>malloc(num_labels * sizeof(int))\n",
    "    # diff_labels = <list>malloc(num_labels * sizeof(int))\n",
    "    # sorted_labels = <list>malloc(M * sizeof(int))\n",
    "\n",
    "    sorted_data = np.zeros((M,N), dtype=np.double)\n",
    "    diff_labels_l = np.zeros(num_labels, dtype=np.int32)\n",
    "    diff_labels_r = np.zeros(num_labels, dtype=np.int32)\n",
    "    diff_labels = np.zeros(num_labels, dtype=np.int32)\n",
    "    sorted_labels = np.zeros(M, dtype=np.int32)\n",
    "    \n",
    "    # sorted_data = <ndarray[double, ndim=2]>np.zeros((N,M))\n",
    "    # diff_labels_l = <list>(range(N))\n",
    "    # diff_labels_r = <list>(range(N))\n",
    "    # diff_labels = <list>(range(N))\n",
    "    # sorted_labels = <list>(range(M))\n",
    "    \n",
    "    \n",
    "    for nl in range(num_labels):\n",
    "        diff_labels[nl]=0\n",
    "    \n",
    "    for j in range(M):\n",
    "        cl = Labels[j]\n",
    "        diff_labels[cl-1]+=1\n",
    "    bh=0\n",
    "    for nl in range(num_labels):\n",
    "        bh+=diff_labels[nl]*diff_labels[nl]\n",
    "    bh = 1 - (bh/(M*M))\n",
    "    \n",
    "    for i in range(N):\n",
    "        \n",
    "        for nl in range(num_labels):\n",
    "            diff_labels_l[nl] = 0\n",
    "            diff_labels_r[nl] = diff_labels[nl]\n",
    "        \n",
    "        for j in range(M):\n",
    "            sorted_data[j] = Data[j,i]\n",
    "            sorted_labels[j] = Labels[j]\n",
    "        sorted_data = quicksort(sorted_data, sorted_labels, 0, M-1)\n",
    "        \n",
    "        for mj in range(minleaf-1):\n",
    "            cl=sorted_labels[j]\n",
    "            # print('cl', cl)\n",
    "            diff_labels_l[cl-1]-=1\n",
    "            diff_labels_r[cl-1]+=1\n",
    "            j -= 1\n",
    "        \n",
    "        for j in range(minleaf-1, M-minleaf):\n",
    "            cl=sorted_labels[j]\n",
    "            diff_labels_l[cl-1]-=1\n",
    "            diff_labels_r[cl-1]+=1\n",
    "            gr = 0.0\n",
    "            gl = 0.0\n",
    "            # print('diff', diff_labels_l, diff_labels_r)\n",
    "            for nl in range(num_labels):\n",
    "                gl+=diff_labels_l[nl]*diff_labels_l[nl]\n",
    "                gr+=diff_labels_r[nl]*diff_labels_r[nl]\n",
    "            gl = 1 - gl/((j+1)*(j+1))\n",
    "            gr = 1 - gr/((M-j-1)*(M-j-1))\n",
    "            \n",
    "            ch = ((j+1)*gl/M) + ((M-j-1)*gr/M)\n",
    "            # print('gl', gl, 'gr', gr)\n",
    "            if (ch<bh):\n",
    "                if (np.abs(sorted_data[j+1]-sorted_data[j]).any()>1e-15):\n",
    "                    # print('ch', ch, 'bh', bh)\n",
    "                    bh=ch\n",
    "                    bcvar[0] = i\n",
    "                    bcval[0] = np.unique(0.5*(sorted_data[j+1]+sorted_data[j]))\n",
    "    \n",
    "    del diff_labels_l\n",
    "    del diff_labels_r\n",
    "    del diff_labels\n",
    "    del sorted_labels\n",
    "    del sorted_data\n",
    "    return bcvar, bcval"
   ]
  },
  {
   "cell_type": "code",
   "execution_count": 44,
   "metadata": {},
   "outputs": [
    {
     "name": "stdout",
     "output_type": "stream",
     "text": [
      "(array([6., 0.]), array([27941.85925757,     0.        ]))\n",
      "17.818430423736572\n"
     ]
    }
   ],
   "source": [
    "\n",
    "# y = np.array(nmr_peaks.iloc[:, 1])\n",
    "\n",
    "iris = datasets.load_iris()\n",
    "X = iris.data[47:53, 1:]  \n",
    "y = np.array(iris.target[47:53],  dtype=np.int32)\n",
    "\n",
    "\n",
    "\n",
    "# sorted_data=np.array([[4.6, 4.6, 4.6, 4.6],\n",
    "#  [5.3, 5.3, 5.3, 5.3],\n",
    "#  [5.,  5.,  5.,  5. ],\n",
    "#  [7.,  7.,  7.,  7. ],\n",
    "#  [6.4, 6.4, 6.4, 6.4],\n",
    "#  [6.9, 6.9, 6.9, 6.9]])\n",
    "# sorted_labels = np.array([0, 0, 0,1, 1, 1], dtype=np.int32)\n",
    "# print(quicksort(sorted_data, sorted_labels, 0, M-1))\n",
    "nmr_peaks = pd.read_csv('~/Documents/IBS/NMR_data/IBS_HNMR_data_n267.csv')\n",
    "\n",
    "# y = np.array(nmr_peaks.iloc[:, 1])\n",
    "\n",
    "X = np.array(nmr_peaks.iloc[:90, 1500:1900])\n",
    "# #y = np.array(nmr_peaks.iloc[:, 1])\n",
    "# y = pd.read_csv('testing/formate_cluster_labels.txt', header=None).iloc[:, 0].to_numpy(dtype=int)\n",
    "y = np.array(nmr_peaks.iloc[:90, 1], dtype=np.int32)\n",
    "M, N = X.shape\n",
    "\n",
    "\n",
    "start = time.time()\n",
    "print(GBCP(M, N, y, X, 1, 2, np.array([-1. ,0.]), np.array([0.,0.])))\n",
    "end = time.time()\n",
    "print(end-start)\n",
    "\n",
    "\n",
    "# y = nmr_peaks.iloc[:, 1].to_list()"
   ]
  },
  {
   "cell_type": "code",
   "execution_count": 26,
   "metadata": {},
   "outputs": [
    {
     "data": {
      "text/plain": [
       "array([[3.2, 1.4, 0.2],\n",
       "       [3.7, 1.5, 0.2],\n",
       "       [3.3, 1.4, 0.2],\n",
       "       [3.2, 4.7, 1.4],\n",
       "       [3.2, 4.5, 1.5],\n",
       "       [3.1, 4.9, 1.5]])"
      ]
     },
     "execution_count": 26,
     "metadata": {},
     "output_type": "execute_result"
    }
   ],
   "source": [
    "iris = datasets.load_iris()\n",
    "X = iris.data[47:53, 1:]  \n",
    "y = np.array(iris.target[47:53],  dtype=np.int32)\n",
    "X"
   ]
  },
  {
   "cell_type": "code",
   "execution_count": 33,
   "metadata": {},
   "outputs": [
    {
     "data": {
      "text/plain": [
       "array([0., 0., 0., 0., 0., 0., 0., 1., 0., 0.])"
      ]
     },
     "execution_count": 33,
     "metadata": {},
     "output_type": "execute_result"
    }
   ],
   "source": [
    "tree = DecisionTreeClassifier()\n",
    "tree.fit(X,y)\n",
    "tree.feature_importances_"
   ]
  },
  {
   "cell_type": "code",
   "execution_count": null,
   "metadata": {},
   "outputs": [],
   "source": []
  }
 ],
 "metadata": {
  "interpreter": {
   "hash": "f6e2dfc68791f1f0dc0e41fd4086dd60ac80459d8906db29f1a908fe08bd1d7f"
  },
  "kernelspec": {
   "display_name": "Python 3.9.7 ('py39-CMR')",
   "language": "python",
   "name": "python3"
  },
  "language_info": {
   "codemirror_mode": {
    "name": "ipython",
    "version": 3
   },
   "file_extension": ".py",
   "mimetype": "text/x-python",
   "name": "python",
   "nbconvert_exporter": "python",
   "pygments_lexer": "ipython3",
   "version": "3.9.7"
  },
  "orig_nbformat": 4
 },
 "nbformat": 4,
 "nbformat_minor": 2
}
