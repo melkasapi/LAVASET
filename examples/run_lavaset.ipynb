{
 "cells": [
  {
   "cell_type": "code",
   "execution_count": 2,
   "metadata": {},
   "outputs": [],
   "source": [
    "from lavaset.lavaset import LAVASET\n",
    "import numpy as np\n",
    "import pandas as pd\n",
    "from scipy.spatial import distance_matrix\n",
    "from sklearn.metrics import accuracy_score, precision_score, recall_score, f1_score\n",
    "from sklearn.model_selection import train_test_split"
   ]
  },
  {
   "cell_type": "markdown",
   "metadata": {},
   "source": [
    "### Load the HNMR metabolomics dataset\n",
    "\n",
    "Here we are loading the MTBLS1 publically available dataset, setting the X and y targets for classification and splitting our dataset to training and testing sets."
   ]
  },
  {
   "cell_type": "code",
   "execution_count": 3,
   "metadata": {},
   "outputs": [],
   "source": [
    "mtbls1 = pd.read_csv('example_data/MTBLS1.csv')\n",
    "X = np.array(mtbls1.iloc[:, 1:])\n",
    "y = np.array(mtbls1.iloc[:, 0], dtype=np.double)\n",
    "\n",
    "if np.unique(y).any() != 0:\n",
    "    y = np.where(y == 1, 0, 1).astype(np.double)\n",
    "\n",
    "X_train, X_test, y_train, y_test = train_test_split(X, y, test_size=0.2, random_state=180)"
   ]
  },
  {
   "cell_type": "markdown",
   "metadata": {},
   "source": [
    "### Run LAVASET\n",
    "\n",
    "Here we are calling the LAVASET model and the `knn_calculation` function from the model that calculates the nearest neighbors, either based on a number of neighbors set by the user or a distance matrix. "
   ]
  },
  {
   "cell_type": "code",
   "execution_count": 4,
   "metadata": {},
   "outputs": [],
   "source": [
    "model = LAVASET(ntrees=100, n_neigh=10, distance=False, nvartosample='sqrt', nsamtosample=0.5, oobe=True) \n",
    "knn = model.knn_calculation(mtbls1.columns[1:], data_type='1D')"
   ]
  },
  {
   "cell_type": "markdown",
   "metadata": {},
   "source": [
    "- ntrees: number of trees (or estimators) for the ensemble (int)\n",
    "- n_neigh: number of neighbors to take for the calculation of the latent variable; this excludes the feature that has been selected for split, therefore the latent variable is calculated by the total of n+1 features (int)\n",
    "- distance: parameter indicating whether the input for neighbor calculation is a distance matrix, default is False; if True, then n_neigh should be 0 (boolean)\n",
    "- nvartosample: the number of features picked for each split, 'sqrt' indicates the squared root of total number of features, if int then takes that specific number of features (string or int)\n",
    "- nsamtosample: the number of sample to consider for each tree, if float (like 0.5) then it considers `float * total number of samples`, if int then takes that specific number of samples (float or int)\n",
    "- oobe: parameter for calcualting the out-of-bag score, default=True (boolean)\n",
    "\n",
    "If the input to the `knn_calculation` function is a distance matrix then:\n",
    "```bash\n",
    "model = LAVASET(ntrees=100, n_neigh=0, distance=True, nvartosample='sqrt', nsamtosample=0.5, oobe=True) \n",
    "\n",
    "knn = model.knn_calculation(distance_matrix, data_type='distance_matrix')\n",
    "```\n",
    "If the neighbors need to be calculated from the 1D spectrum ppm values of an HNMR dataset, then the input is the 1D array with the ppm values. Here the model parameters should be set as `distance=False` and `n_neigh=k`. The `data_type` parameter for the `knn_calculation` in this case will be set to `1D`, as also shown in the MTBLS1 example above. All options include:\n",
    "- 'distance_matrix' is used for distance matrix input, \n",
    "- '1D' is used for 1D data like signals or spectra, \n",
    "- 'VCG' is used for VCG data, \n",
    "- 'other' is used for any other type of data, where it calculates the nearest neighbors based on the 2D data input. "
   ]
  },
  {
   "cell_type": "markdown",
   "metadata": {},
   "source": [
    "Here, we are fitting LAVASET to the training data by calling the LAVASET-specific fitting function called `fit_lavaset`."
   ]
  },
  {
   "cell_type": "code",
   "execution_count": 5,
   "metadata": {},
   "outputs": [
    {
     "name": "stderr",
     "output_type": "stream",
     "text": [
      "[Parallel(n_jobs=-1)]: Using backend LokyBackend with 16 concurrent workers.\n"
     ]
    },
    {
     "name": "stdout",
     "output_type": "stream",
     "text": [
      "building tree 3\n",
      "building tree 0\n",
      "building tree 2\n",
      "building tree 9\n",
      "building tree 4\n",
      "building tree 5\n",
      "building tree 11\n",
      "building tree 6\n",
      "building tree 7\n",
      "building tree 13\n",
      "building tree 8\n",
      "building tree 12\n",
      "building tree 1\n",
      "building tree 10\n",
      "building tree 14\n",
      "building tree 15\n",
      "building tree 16\n",
      "building tree 17\n",
      "building tree 18\n",
      "building tree 19\n",
      "building tree 20\n",
      "building tree 21\n",
      "building tree 22\n",
      "building tree 23\n",
      "building tree 24\n",
      "building tree 25\n"
     ]
    },
    {
     "name": "stderr",
     "output_type": "stream",
     "text": [
      "[Parallel(n_jobs=-1)]: Done   9 tasks      | elapsed:    5.6s\n"
     ]
    },
    {
     "name": "stdout",
     "output_type": "stream",
     "text": [
      "building tree 26\n",
      "building tree 27\n",
      "building tree 28\n",
      "building tree 29\n",
      "building tree 30\n",
      "building tree 31\n",
      "building tree 32\n",
      "building tree 33\n",
      "building tree 34\n"
     ]
    },
    {
     "name": "stderr",
     "output_type": "stream",
     "text": [
      "[Parallel(n_jobs=-1)]: Done  18 tasks      | elapsed:    8.0s\n"
     ]
    },
    {
     "name": "stdout",
     "output_type": "stream",
     "text": [
      "building tree 35\n",
      "building tree 36\n",
      "building tree 37\n",
      "building tree 38\n",
      "building tree 39\n",
      "building tree 40\n",
      "building tree 41\n",
      "building tree 42\n",
      "building tree 43\n",
      "building tree 44\n",
      "building tree 45\n"
     ]
    },
    {
     "name": "stderr",
     "output_type": "stream",
     "text": [
      "[Parallel(n_jobs=-1)]: Done  29 tasks      | elapsed:    9.3s\n"
     ]
    },
    {
     "name": "stdout",
     "output_type": "stream",
     "text": [
      "building tree 46\n",
      "building tree 47\n",
      "building tree 48\n",
      "building tree 49\n",
      "building tree 50\n",
      "building tree 51\n",
      "building tree 52\n",
      "building tree 53\n",
      "building tree 54\n",
      "building tree 55\n"
     ]
    },
    {
     "name": "stderr",
     "output_type": "stream",
     "text": [
      "[Parallel(n_jobs=-1)]: Done  40 tasks      | elapsed:   11.9s\n"
     ]
    },
    {
     "name": "stdout",
     "output_type": "stream",
     "text": [
      "building tree 56\n",
      "building tree 57\n",
      "building tree 58\n",
      "building tree 59\n",
      "building tree 60\n",
      "building tree 61\n",
      "building tree 62\n",
      "building tree 63\n",
      "building tree 64\n",
      "building tree 65\n",
      "building tree 66\n",
      "building tree 67\n",
      "building tree 68\n"
     ]
    },
    {
     "name": "stderr",
     "output_type": "stream",
     "text": [
      "[Parallel(n_jobs=-1)]: Done  53 tasks      | elapsed:   14.3s\n"
     ]
    },
    {
     "name": "stdout",
     "output_type": "stream",
     "text": [
      "building tree 69\n",
      "building tree 70\n",
      "building tree 71\n",
      "building tree 72\n",
      "building tree 73\n",
      "building tree 74\n",
      "building tree 75\n",
      "building tree 76\n",
      "building tree 77\n",
      "building tree 78\n",
      "building tree 79\n",
      "building tree 80\n"
     ]
    },
    {
     "name": "stderr",
     "output_type": "stream",
     "text": [
      "[Parallel(n_jobs=-1)]: Done  66 tasks      | elapsed:   16.9s\n"
     ]
    },
    {
     "name": "stdout",
     "output_type": "stream",
     "text": [
      "building tree 81\n",
      "building tree 82\n",
      "building tree 83\n",
      "building tree 84\n",
      "building tree 85\n",
      "building tree 86\n",
      "building tree 87\n",
      "building tree 88\n",
      "building tree 89\n",
      "building tree 90\n",
      "building tree 91\n",
      "building tree 92\n",
      "building tree 93\n",
      "building tree 94\n"
     ]
    },
    {
     "name": "stderr",
     "output_type": "stream",
     "text": [
      "[Parallel(n_jobs=-1)]: Done  80 out of 100 | elapsed:   19.7s remaining:    4.9s\n"
     ]
    },
    {
     "name": "stdout",
     "output_type": "stream",
     "text": [
      "building tree 95\n",
      "building tree 96\n",
      "building tree 97\n",
      "building tree 98\n",
      "building tree 99\n"
     ]
    },
    {
     "name": "stderr",
     "output_type": "stream",
     "text": [
      "[Parallel(n_jobs=-1)]: Done  91 out of 100 | elapsed:   21.3s remaining:    2.1s\n",
      "[Parallel(n_jobs=-1)]: Done 100 out of 100 | elapsed:   22.4s finished\n"
     ]
    }
   ],
   "source": [
    "lavaset = model.fit_lavaset(X_train, y_train, knn, random_state=5)"
   ]
  },
  {
   "cell_type": "markdown",
   "metadata": {},
   "source": [
    "Here, we are predicting the test data, with the LAVASET-specific predict function. The output of `predict_lavaset` consists of three items. The y predictions, the votes for each tree, and the out-of-bag (oobe) score. "
   ]
  },
  {
   "cell_type": "code",
   "execution_count": 6,
   "metadata": {},
   "outputs": [],
   "source": [
    "y_preds, votes, oobe = model.predict_lavaset(X_test, lavaset)"
   ]
  },
  {
   "cell_type": "markdown",
   "metadata": {},
   "source": [
    "Below is an example of different metrics that can be called via the `sklearn` package for testing the performance of LAVASET."
   ]
  },
  {
   "cell_type": "code",
   "execution_count": 7,
   "metadata": {},
   "outputs": [],
   "source": [
    "accuracy = accuracy_score(y_test, np.array(y_preds, dtype=int))\n",
    "precision = precision_score(y_test, np.array(y_preds, dtype=int))\n",
    "recall = recall_score(y_test, np.array(y_preds, dtype=int))\n",
    "f1 = f1_score(y_test, np.array(y_preds, dtype=int))"
   ]
  },
  {
   "cell_type": "markdown",
   "metadata": {},
   "source": [
    "Finally, to get the feature importance calculations from LAVASET you can call the `feature_evaluation` function by setting the data for which the models has been trained on, here `X_train` and the fitted model, here `lavaset` as defined above. The output is a numpy array consisting of 3 vectors, the first shows the number of times the feature (in the specific index) is considered for a split, the second vector shows the number of times selected for a split, and finally the third vector is the gini value. "
   ]
  },
  {
   "cell_type": "code",
   "execution_count": 10,
   "metadata": {},
   "outputs": [],
   "source": [
    "feature_importance_df = pd.DataFrame(model.feature_evaluation(X_train, lavaset), columns=['Times Considered', 'Times Selected', 'Gini'])"
   ]
  },
  {
   "cell_type": "code",
   "execution_count": null,
   "metadata": {},
   "outputs": [],
   "source": []
  }
 ],
 "metadata": {
  "kernelspec": {
   "display_name": "Python 3 (ipykernel)",
   "language": "python",
   "name": "python3"
  },
  "language_info": {
   "codemirror_mode": {
    "name": "ipython",
    "version": 3
   },
   "file_extension": ".py",
   "mimetype": "text/x-python",
   "name": "python",
   "nbconvert_exporter": "python",
   "pygments_lexer": "ipython3",
   "version": "3.10.13"
  }
 },
 "nbformat": 4,
 "nbformat_minor": 4
}
