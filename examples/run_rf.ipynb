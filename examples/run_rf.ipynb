{
 "cells": [
  {
   "cell_type": "code",
   "execution_count": 17,
   "metadata": {},
   "outputs": [],
   "source": [
    "from lavaset_new import LAVASET \n",
    "import numpy as np\n",
    "import pandas as pd \n",
    "from sklearn.metrics import accuracy_score, precision_score, recall_score, f1_score\n",
    "from sklearn.preprocessing import StandardScaler\n",
    "from sklearn.model_selection import train_test_split\n",
    "import time"
   ]
  },
  {
   "cell_type": "code",
   "execution_count": 15,
   "metadata": {},
   "outputs": [],
   "source": [
    "nmr_peaks = pd.read_csv('~/Documents/IBS/NMR_data/IBS_HNMR_data_n267.csv')\n",
    "X = np.array(nmr_peaks.iloc[:, 3:])\n",
    "y = np.array(nmr_peaks.iloc[:, 1], dtype=np.double)\n",
    "# y = pd.read_csv('~/Documents/cmr_rf/LAVASET/lavaset-cpp/formate-testing/formate_cluster_labels.txt', header=None).iloc[:, 0].to_numpy(dtype=np.double)\n",
    "# y = pd.read_excel('ethanol-uracil-testing/simulated_groups.xlsx').iloc[:, 1]\n",
    "if np.unique(y).any() != 0:\n",
    "    y = np.where(y == 1, 0, 1).astype(np.double)\n",
    "# nn = knn_calculation(nmr_peaks.columns[3:], 1s0)\n",
    "\n",
    "X_train, X_test, y_train, y_test = train_test_split(X, y, test_size=0.2, random_state=180)"
   ]
  },
  {
   "cell_type": "code",
   "execution_count": 18,
   "metadata": {},
   "outputs": [
    {
     "name": "stdout",
     "output_type": "stream",
     "text": [
      "random_state 10\n",
      "18600\n",
      "building tree 7\n",
      "building tree 6\n",
      "building tree 5\n",
      "building tree 9\n",
      "building tree 8\n",
      "building tree 0\n",
      "building tree 2\n",
      "building tree 1building tree 3\n",
      "\n",
      "building tree 4\n"
     ]
    },
    {
     "ename": "UnboundLocalError",
     "evalue": "local variable 'oobe_mean' referenced before assignment",
     "output_type": "error",
     "traceback": [
      "\u001b[0;31m---------------------------------------------------------------------------\u001b[0m",
      "\u001b[0;31mUnboundLocalError\u001b[0m                         Traceback (most recent call last)",
      "Cell \u001b[0;32mIn[18], line 10\u001b[0m\n\u001b[1;32m      8\u001b[0m \u001b[39m# knn = pd.read_csv('~/Documents/cmr_rf/cmr_100nn_index.csv').to_numpy()\u001b[39;00m\n\u001b[1;32m      9\u001b[0m lavaset \u001b[39m=\u001b[39m model\u001b[39m.\u001b[39mfit_lavaset(X_train, y_train, knn, random_state\u001b[39m=\u001b[39m\u001b[39m10\u001b[39m)\n\u001b[0;32m---> 10\u001b[0m y_preds, votes, oobe \u001b[39m=\u001b[39m model\u001b[39m.\u001b[39;49mpredict_lavaset(X_test, lavaset)\n\u001b[1;32m     11\u001b[0m accuracy \u001b[39m=\u001b[39m accuracy_score(y_test, np\u001b[39m.\u001b[39marray(y_preds, dtype\u001b[39m=\u001b[39m\u001b[39mint\u001b[39m))\n\u001b[1;32m     12\u001b[0m precision \u001b[39m=\u001b[39m precision_score(y_test, np\u001b[39m.\u001b[39marray(y_preds, dtype\u001b[39m=\u001b[39m\u001b[39mint\u001b[39m))\n",
      "File \u001b[0;32m~/Documents/cmr_rf/LAVASET/lavaset-cpp/lavaset_new.py:313\u001b[0m, in \u001b[0;36mLAVASET.predict_lavaset\u001b[0;34m(self, Data, Random_Forest, oobe)\u001b[0m\n\u001b[1;32m    310\u001b[0m \u001b[39melif\u001b[39;00m method \u001b[39m==\u001b[39m \u001b[39m'\u001b[39m\u001b[39mr\u001b[39m\u001b[39m'\u001b[39m:\n\u001b[1;32m    311\u001b[0m     f_output \u001b[39m=\u001b[39m np\u001b[39m.\u001b[39mmean(f_votes, axis\u001b[39m=\u001b[39m\u001b[39m0\u001b[39m)\n\u001b[0;32m--> 313\u001b[0m \u001b[39mreturn\u001b[39;00m f_output, f_votes, oobe_mean\n",
      "\u001b[0;31mUnboundLocalError\u001b[0m: local variable 'oobe_mean' referenced before assignment"
     ]
    }
   ],
   "source": [
    "st = time.time()\n",
    "\n",
    "results = []\n",
    "for i in [10]:\n",
    "    print('random_state', i)\n",
    "    model = LAVASET(ntrees=i, nvartosample='sqrt', n_neigh=10, nsamtosample=150, oobe=True) # 425taking 1/3 of samples for bootstrapping\n",
    "    knn = model.knn_calculation(nmr_peaks.columns[3:])\n",
    "    # knn = pd.read_csv('~/Documents/cmr_rf/cmr_100nn_index.csv').to_numpy()\n",
    "    lavaset = model.fit_lavaset(X_train, y_train, knn, random_state=10)\n",
    "    y_preds, votes, oobe = model.predict_lavaset(X_test, lavaset)\n",
    "    accuracy = accuracy_score(y_test, np.array(y_preds, dtype=int))\n",
    "    precision = precision_score(y_test, np.array(y_preds, dtype=int))\n",
    "    recall = recall_score(y_test, np.array(y_preds, dtype=int))\n",
    "    f1 = f1_score(y_test, np.array(y_preds, dtype=int))\n",
    "\n",
    "    result = {'Random State': i, 'Accuracy': accuracy, 'Precision': precision, 'Recall': recall, 'F1 Score': f1, 'oobe': oobe}\n",
    "    results.append(result)\n",
    "    # pd.DataFrame(model.feature_evaluation(X_train, lavaset)).to_csv(f'lavaset_feature_impo_{i}t100nnHCMvsHC1273_random_state10.csv')\n",
    "\n",
    "print(results)\n",
    "fields = ['Random State', 'Accuracy', 'Precision', 'Recall', 'F1 Score', 'oobe']\n",
    "en = time.time()\n",
    "print(en-st)"
   ]
  },
  {
   "cell_type": "code",
   "execution_count": null,
   "metadata": {},
   "outputs": [],
   "source": []
  }
 ],
 "metadata": {
  "kernelspec": {
   "display_name": "Python 3 (ipykernel)",
   "language": "python",
   "name": "python3"
  },
  "language_info": {
   "codemirror_mode": {
    "name": "ipython",
    "version": 3
   },
   "file_extension": ".py",
   "mimetype": "text/x-python",
   "name": "python",
   "nbconvert_exporter": "python",
   "pygments_lexer": "ipython3",
   "version": "3.9.7"
  }
 },
 "nbformat": 4,
 "nbformat_minor": 4
}
