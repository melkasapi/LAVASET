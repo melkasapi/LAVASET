{
 "cells": [
  {
   "cell_type": "code",
   "execution_count": 11,
   "metadata": {},
   "outputs": [],
   "source": [
    "from lavaset.rf import StochasticBosque\n",
    "import numpy as np\n",
    "import pandas as pd\n",
    "from scipy.spatial import distance_matrix\n",
    "from sklearn.metrics import accuracy_score, precision_score, recall_score, f1_score\n",
    "from sklearn.model_selection import train_test_split\n",
    "from sklearn.preprocessing import StandardScaler"
   ]
  },
  {
   "cell_type": "code",
   "execution_count": 12,
   "metadata": {},
   "outputs": [],
   "source": [
    "mtbls1 = pd.read_csv('example_data/MTBLS1.csv')\n",
    "X = np.array(mtbls1.iloc[:, 1:])\n",
    "y = np.array(mtbls1.iloc[:, 0], dtype=np.double)\n",
    "\n",
    "X_train, X_test, y_train, y_test = train_test_split(X, y, test_size=0.2, random_state=180)\n",
    "scaler = StandardScaler()\n",
    "X_train = scaler.fit_transform(X_train)\n",
    "X_test = scaler.transform(X_test)"
   ]
  },
  {
   "cell_type": "code",
   "execution_count": 14,
   "metadata": {},
   "outputs": [],
   "source": [
    "\n",
    "model = StochasticBosque(ntrees=100, nvartosample='sqrt', nsamtosample=int(X_train.shape[0]*0.9), oobe=True)\n",
    "rf = model.fit_sb(X_train, y_train, random_state=5)\n",
    "y_preds, votes, oobe = model.predict_sb(X_test, rf)\n",
    "accuracy = accuracy_score(y_test, np.array(y_preds, dtype=int))\n",
    "precision = precision_score(y_test, np.array(y_preds, dtype=int))\n",
    "recall = recall_score(y_test, np.array(y_preds, dtype=int))\n",
    "f1 = f1_score(y_test, np.array(y_preds, dtype=int))\n",
    "\n",
    "result = {'Accuracy': accuracy, 'Precision': precision, 'Recall': recall, 'F1 Score': f1, 'oobe': oobe}\n"
   ]
  },
  {
   "cell_type": "code",
   "execution_count": null,
   "metadata": {},
   "outputs": [],
   "source": [
    "feature_importance = pd.DataFrame(model.feature_evaluation(X_train, rf))\n"
   ]
  }
 ],
 "metadata": {
  "kernelspec": {
   "display_name": "py310-lavaset",
   "language": "python",
   "name": "python3"
  },
  "language_info": {
   "codemirror_mode": {
    "name": "ipython",
    "version": 3
   },
   "file_extension": ".py",
   "mimetype": "text/x-python",
   "name": "python",
   "nbconvert_exporter": "python",
   "pygments_lexer": "ipython3",
   "version": "3.10.8"
  }
 },
 "nbformat": 4,
 "nbformat_minor": 2
}
