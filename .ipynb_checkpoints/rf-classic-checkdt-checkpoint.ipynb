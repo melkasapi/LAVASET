{
 "cells": [
  {
   "cell_type": "code",
   "execution_count": 1,
   "id": "8fd43c66-0590-44ed-bd29-597b450d46de",
   "metadata": {},
   "outputs": [],
   "source": [
    "from re import A\n",
    "from numba.np.numpy_support import as_dtype\n",
    "import numpy as np\n",
    "import matplotlib.pyplot as plt\n",
    "from numpy.ma import right_shift\n",
    "import pandas as pd\n",
    "from collections import Counter\n",
    "from scipy.spatial import KDTree\n",
    "import sys\n",
    "from sklearn.decomposition import PCA\n",
    "from sklearn.preprocessing import StandardScaler\n",
    "from random import Random, random, randrange\n",
    "from joblib import Parallel, delayed\n",
    "from numba import njit, int32, float32, jit, prange\n",
    "from numba.experimental import jitclass\n",
    "from numba.typed import Dict, List\n",
    "import numba\n",
    "import time\n",
    "from sklearn.metrics import accuracy_score, classification_report\n",
    "from sklearn.tree import DecisionTreeClassifier\n",
    "from sklearn.model_selection import train_test_split\n",
    "import cython \n",
    "from cython.parallel import prange, parallel\n",
    "from sklearn import datasets\n"
   ]
  },
  {
   "cell_type": "code",
   "execution_count": 2,
   "id": "01fd2bbc-09db-4031-8946-4af8dcb66c85",
   "metadata": {},
   "outputs": [],
   "source": [
    "%load_ext cython"
   ]
  },
  {
   "cell_type": "code",
   "execution_count": 52,
   "id": "86f8b961-248f-4628-9446-8e680a12e338",
   "metadata": {},
   "outputs": [
    {
     "name": "stdout",
     "output_type": "stream",
     "text": [
      "[0.0, 1.0, 1.0, 1.0, 1.0, 0.0, 1.0, 1.0, 0.0, 1.0, 0.0, 0.0, 0.0, 0.0, 1.0, 1.0]\n",
      "0.0625\n",
      "0.9375\n",
      "[1.]\n",
      "[0.4 0.6]\n"
     ]
    },
    {
     "data": {
      "text/plain": [
       "0.042187500000000044"
      ]
     },
     "execution_count": 52,
     "metadata": {},
     "output_type": "execute_result"
    }
   ],
   "source": [
    "def gini_index( y_left, y_right):\n",
    "\n",
    "\n",
    "    parent_node_y = y_left+y_right\n",
    "    print(parent_node_y)\n",
    "    proportion_left = len(y_left) / len(parent_node_y)\n",
    "    print(proportion_left)\n",
    "    proportion_right = len(y_right) / len(parent_node_y)\n",
    "    print(proportion_right)\n",
    "    p_parent = (np.bincount(np.array(parent_node_y, dtype=np.int64)))/len(parent_node_y)\n",
    "\n",
    "    p_left = (np.bincount(np.array(y_left, dtype=np.int64)))/len(y_left)\n",
    "    print(p_left)\n",
    "    p_right = (np.bincount(np.array(y_right, dtype=np.int64)))/len(y_right)\n",
    "    print(p_right)\n",
    "    gini_l = 1-np.sum(p_left**2)\n",
    "    gini_r = 1-np.sum(p_right**2)\n",
    "    gini_p = 1-np.sum(p_parent**2)\n",
    "    \n",
    "    gini_gain = gini_p - (proportion_left*gini_l + proportion_right*gini_r)\n",
    "    \n",
    "    return gini_gain\n",
    "\n",
    "# display(gini_index([1.0, 1.0, 1.0, 1.0, 0.0, 1.0, 1.0, 1.0, 1.0], [0.0, 0.0, 0.0, 0.0, 0.0, 0.0, 1.0]))\n",
    "gini_index( [0.0] ,[1.0, 1.0, 1.0, 1.0, 0.0, 1.0, 1.0, 0.0, 1.0, 0.0, 0.0, 0.0, 0.0, 1.0, 1.0])"
   ]
  },
  {
   "cell_type": "code",
   "execution_count": 61,
   "id": "f031af4f-a3ea-4e4e-be60-87578a330c19",
   "metadata": {},
   "outputs": [
    {
     "name": "stderr",
     "output_type": "stream",
     "text": [
      "cc1plus: warning: command line option ‘-Wstrict-prototypes’ is valid for C/ObjC but not for C++\n",
      "In file included from /home/mk218/anaconda3/envs/py38/lib/python3.8/site-packages/numpy/core/include/numpy/ndarraytypes.h:1969,\n",
      "                 from /home/mk218/anaconda3/envs/py38/lib/python3.8/site-packages/numpy/core/include/numpy/ndarrayobject.h:12,\n",
      "                 from /home/mk218/anaconda3/envs/py38/lib/python3.8/site-packages/numpy/core/include/numpy/arrayobject.h:4,\n",
      "                 from /home/mk218/.cache/ipython/cython/_cython_magic_ebc84f9105788ae415378d81cb7decd3.cpp:758:\n",
      "/home/mk218/anaconda3/envs/py38/lib/python3.8/site-packages/numpy/core/include/numpy/npy_1_7_deprecated_api.h:17:2: warning: #warning \"Using deprecated NumPy API, disable it with \" \"#define NPY_NO_DEPRECATED_API NPY_1_7_API_VERSION\" [-Wcpp]\n",
      "   17 | #warning \"Using deprecated NumPy API, disable it with \" \\\n",
      "      |  ^~~~~~~\n",
      "/home/mk218/.cache/ipython/cython/_cython_magic_ebc84f9105788ae415378d81cb7decd3.cpp:2094:23: warning: ‘PyArrayObject* __pyx_f_46_cython_magic_ebc84f9105788ae415378d81cb7decd3_get_bootstrap(PyArrayObject*)’ defined but not used [-Wunused-function]\n",
      " 2094 | static PyArrayObject *__pyx_f_46_cython_magic_ebc84f9105788ae415378d81cb7decd3_get_bootstrap(PyArrayObject *__pyx_v_data) {\n",
      "      |                       ^~~~~~~~~~~~~~~~~~~~~~~~~~~~~~~~~~~~~~~~~~~~~~~~~~~~~~~~~~~~~~~~~~~~~~\n",
      "/home/mk218/.cache/ipython/cython/_cython_magic_ebc84f9105788ae415378d81cb7decd3.cpp: In function ‘PyObject* __pyx_f_46_cython_magic_ebc84f9105788ae415378d81cb7decd3_get_best_split(PyArrayObject*, int)’:\n",
      "/home/mk218/.cache/ipython/cython/_cython_magic_ebc84f9105788ae415378d81cb7decd3.cpp:9655:34: warning: ‘__pyx_v_i’ may be used uninitialized in this function [-Wmaybe-uninitialized]\n",
      " 9655 |             return PyInt_FromLong((long) value);\n",
      "      |                                  ^\n",
      "/home/mk218/.cache/ipython/cython/_cython_magic_ebc84f9105788ae415378d81cb7decd3.cpp:3472:12: note: ‘__pyx_v_i’ was declared here\n",
      " 3472 |   npy_intp __pyx_v_i;\n",
      "      |            ^~~~~~~~~\n",
      "/home/mk218/.cache/ipython/cython/_cython_magic_ebc84f9105788ae415378d81cb7decd3.cpp:9889:34: warning: ‘__pyx_v_b_predictor’ may be used uninitialized in this function [-Wmaybe-uninitialized]\n",
      " 9889 |             return PyInt_FromLong((long) value);\n",
      "      |                                  ^\n",
      "/home/mk218/.cache/ipython/cython/_cython_magic_ebc84f9105788ae415378d81cb7decd3.cpp:3471:7: note: ‘__pyx_v_b_predictor’ was declared here\n",
      " 3471 |   int __pyx_v_b_predictor;\n",
      "      |       ^~~~~~~~~~~~~~~~~~~\n",
      "/home/mk218/.cache/ipython/cython/_cython_magic_ebc84f9105788ae415378d81cb7decd3.cpp:4177:33: warning: ‘__pyx_v_b_split_point’ may be used uninitialized in this function [-Wmaybe-uninitialized]\n",
      " 4177 |   __pyx_t_6 = PyFloat_FromDouble(__pyx_v_b_split_point); if (unlikely(!__pyx_t_6)) __PYX_ERR(0, 126, __pyx_L1_error)\n",
      "      |               ~~~~~~~~~~~~~~~~~~^~~~~~~~~~~~~~~~~~~~~~~\n"
     ]
    }
   ],
   "source": [
    "%%cython\n",
    "# distutils: language=c++\n",
    "import numpy as np\n",
    "cimport numpy as np\n",
    "cimport cython\n",
    "from numpy cimport ndarray, float64_t, int_t\n",
    "from libcpp cimport bool\n",
    "from libc.stdlib cimport qsort\n",
    "from libc.math cimport ceil, sqrt\n",
    "from cython.parallel import prange, parallel\n",
    "\n",
    "\n",
    "cdef ndarray[float64_t, ndim=2] get_bootstrap(ndarray[float64_t, ndim=2] data):\n",
    "    return data[np.random.choice(data.shape[0], 100, replace=True), :]\n",
    "\n",
    "cpdef bool is_pure(list Y):\n",
    "    return np.unique(Y).size == 1\n",
    "\n",
    "cpdef add_endnode(dict node, bool left, bool right):\n",
    "    cdef int most_common_class\n",
    "    if left:\n",
    "        most_common_class = np.bincount(np.array(node['y_left']).astype('int')).argmax()\n",
    "        node['left_node'] = {'end_node': True, 'y_hat': most_common_class}\n",
    "        del node['y_left']\n",
    "    if right:\n",
    "        most_common_class = np.bincount(np.array(node['y_right']).astype('int')).argmax()\n",
    "        node['right_node'] = {'end_node': True, 'y_hat': most_common_class}\n",
    "        del node['y_right']\n",
    "\n",
    "# void qsort(void *base, size_t nitems, size_t size, int (*compar)(const void *, const void*))\n",
    "\n",
    "@cython.wraparound(False)\n",
    "@cython.boundscheck(False)\n",
    "@cython.cdivision(True)\n",
    "#cpdef double gini_index(ndarray[float64_t, ndim=1] y_left, ndarray[float64_t, ndim=1] y_right):\n",
    "cpdef double gini_index(list y_left, list y_right):\n",
    "    cdef:\n",
    "        double gini_gain = 0.0\n",
    "        double proportion_left, proportion_right, p_parent, p_left, p_right, gini_l, gini_r, gini_p\n",
    "    print('gini_ys', y_left, y_right)\n",
    "    parent_node_y = y_left+y_right\n",
    "    print(parent_node_y)\n",
    "    proportion_left = <double>len(y_left) / len(parent_node_y)\n",
    "    print(len(y_left), len(parent_node_y), proportion_left)\n",
    "    proportion_right = <double>len(y_right) / len(parent_node_y)\n",
    "    print(proportion_right)\n",
    "    p_parent = (np.bincount(np.array(parent_node_y, dtype=np.int64)))/len(parent_node_y)\n",
    "\n",
    "    p_left = (np.bincount(np.array(y_left, dtype=np.int64)))/len(y_left)\n",
    "    print(p_left)\n",
    "    p_right = (np.bincount(np.array(y_right, dtype=np.int64)))/len(y_right)\n",
    "    print(p_right)\n",
    "    gini_l = 1-np.sum(p_left**2)\n",
    "    gini_r = 1-np.sum(p_right**2)\n",
    "    gini_p = 1-np.sum(p_parent**2)\n",
    "    \n",
    "    gini_gain = gini_p - (proportion_left*gini_l + proportion_right*gini_r)\n",
    "    print('g_gain', gini_gain)\n",
    "    return gini_gain\n",
    "\n",
    "@cython.boundscheck(False)\n",
    "@cython.wraparound(False)\n",
    "@cython.cdivision(True)\n",
    "cpdef dict get_best_split(ndarray[float64_t, ndim=2] data):#), ndarray[int_t, ndim=1] features):\n",
    "    cdef:\n",
    "        # ndarray[double, ndim=1] y_left, y_right\n",
    "        # ndarray[double, ndim=1] samples_left, samples_right\n",
    "        list  df_left, df_right, b_left, b_right, b_samples_right, b_samples_left, b_y_left, b_y_right\n",
    "        double split_point, b_split_point, gini, b_gini = -1\n",
    "        int b_predictor, f_idx, predictor, row_i\n",
    "        # int num_random_predictors = <int>ceil(sqrt(data.shape[1]-1)) # size of random_predictors array\n",
    "        # ndarray[int_t, ndim=1] random_predictors = np.random.choice(data.shape[1]-1, num_random_predictors, replace=False)\n",
    "        dict gini_dict\n",
    "        ndarray[float64_t, ndim=1] loading_weight\n",
    "        double node_gini\n",
    "    #print('data', data, data.shape[0])\n",
    "    #print('unique', np.unique(data), np.unique(data).shape[0])\n",
    "\n",
    "    for i in range(data.shape[1]):#, f_idx in enumerate(features):\n",
    "        \n",
    "        print(i)\n",
    "        # Split data 1. For every predictor value => For every row, to get best left / right split\n",
    "        # print(split_point)\n",
    "        unique = np.unique(data[:, i])\n",
    "        for split_point in unique:\n",
    "            df_left = [[int(j), row[len(row)-1]] for j, row in enumerate(data) if row[i] <= split_point]\n",
    "            df_right = [[int(j), row[len(row)-1]] for j, row in enumerate(data) if row[i] > split_point]\n",
    "            # print(df_right, df_left)\n",
    "            samples_left = [int(i[0]) for i in df_left]\n",
    "            samples_right = [int(i[0]) for i in df_right]\n",
    "            y_left = [i[1] for i in df_left]\n",
    "            y_right = [i[1] for i in df_right]\n",
    "            print(y_right, y_left)\n",
    "\n",
    "            gini = gini_index(y_left, y_right)\n",
    "            print('g', gini, 'bg', b_gini)\n",
    "            if gini > b_gini:\n",
    "                b_split_point, b_predictor = split_point, i #f_idx\n",
    "                # print(b_split_point, split_point)\n",
    "                b_y_left, b_y_right = y_left.copy(), y_right.copy()\n",
    "                b_samples_left, b_samples_right = samples_left.copy(), samples_right.copy() \n",
    "                b_gini = gini\n",
    "                # best_split_dict = {\n",
    "                #                 'feature_index': i,\n",
    "                #                 'split_point': b_split_point, \n",
    "                #                 # 'left': b_left, \n",
    "                #                 # 'right': b_right, \n",
    "                #                 'y_left': y_left,\n",
    "                #                 'y_right': y_right,\n",
    "                #                 'samples_left': samples_left,  \n",
    "                #                 'samples_right':samples_right,\n",
    "                #                 'predictor': b_predictor, \n",
    "                #                 'gini': b_gini,#gain\n",
    "                #                 #'gini_latent': gini_dict\n",
    "                #             }\n",
    "            # else:\n",
    "            #     best_split_dict = {}\n",
    "\n",
    "        # best_split_dict = best_split_dict\n",
    "\n",
    "                        # best_info_gain = gain\n",
    "\n",
    "# else:\n",
    "#     print('no data in both subsets')\n",
    "    print({\n",
    "                                'feature_index': i,\n",
    "                                'split_point': b_split_point, \n",
    "                                # 'left': b_left, \n",
    "                                # 'right': b_right, \n",
    "                                'y_left': b_y_left,\n",
    "                                'y_right': b_y_right,\n",
    "                                'samples_left': b_samples_left,  \n",
    "                                'samples_right':b_samples_right,\n",
    "                                'predictor': b_predictor, \n",
    "                                'gini': b_gini,#gain\n",
    "                                #'gini_latent': gini_dict\n",
    "                            })\n",
    "    return {\n",
    "                                'feature_index': i,\n",
    "                                'split_point': b_split_point, \n",
    "                                # 'left': b_left, \n",
    "                                # 'right': b_right, \n",
    "                                'y_left': b_y_left,\n",
    "                                'y_right': b_y_right,\n",
    "                                'samples_left': b_samples_left,  \n",
    "                                'samples_right':b_samples_right,\n",
    "                                'predictor': b_predictor, \n",
    "                                'gini': b_gini,#gain\n",
    "                                #'gini_latent': gini_dict\n",
    "                            }\n",
    "#                 b_gini, b_split_point, b_predictor = gini, split_point, predictor\n",
    "#                 b_left, b_right = left.copy(), right.copy()\n",
    "\n",
    "#     # TODO add proportional gini change for Variable-Importance measure\n",
    "#     return {'left': b_left, 'right': b_right, 'split_point': b_split_point, 'predictor': b_predictor, 'gini': b_gini}\n",
    "\n",
    "@cython.boundscheck(False)\n",
    "@cython.wraparound(False)\n",
    "@cython.cdivision(True)\n",
    "\n",
    "cpdef dict recurse_tree(dict node, int depth, int max_depth, int max_x):\n",
    "    cdef:\n",
    "        dict left_node, right_node\n",
    "\n",
    "    # CHECK Zero-Node left or right => both have same class\n",
    "    if len(node['y_left']) == 0 or len(node['y_right']) == 0:\n",
    "        # print(node)\n",
    "        if len(node['y_left']) == 0:\n",
    "            node['y_left'] = node['y_right']\n",
    "        else:\n",
    "            node['y_right'] = node['y_left']\n",
    "        add_endnode(node, left=True, right=True)\n",
    "        if depth == 1:\n",
    "            return node\n",
    "        return\n",
    "\n",
    "    # CHECK branch depth\n",
    "    if depth >= max_depth:\n",
    "        add_endnode(node, left=True, right=True)\n",
    "        return\n",
    "    \n",
    "    # CHECK max_x & convergence else: recurse further\n",
    "    if len(node['y_left']) <= max_x or is_pure(node['y_left'][:, -1].astype('int')):\n",
    "        add_endnode(node, left=True, right=False)\n",
    "    else:\n",
    "        left_node = get_best_split(node['y_left'])\n",
    "        del node['y_left']\n",
    "        node['left_node'] = left_node\n",
    "        recurse_tree(node['left_node'], depth+1, max_depth, max_x)\n",
    "\n",
    "\n",
    "    if node['y_right'].shape[0] <= max_x or is_pure(node['y_right'][:, -1].astype('int')):\n",
    "        add_endnode(node, right=True, left=False)\n",
    "    else:\n",
    "        right_node = get_best_split(node['right'])\n",
    "        del node['y_right']\n",
    "        node['right_node'] = right_node\n",
    "        recurse_tree(node['right_node'], depth+1, max_depth, max_x)\n",
    "\n",
    "    # entire decision-tree\n",
    "    return node\n"
   ]
  },
  {
   "cell_type": "code",
   "execution_count": 62,
   "id": "edbda481-13d6-45d1-874f-41463165d4ae",
   "metadata": {},
   "outputs": [
    {
     "name": "stdout",
     "output_type": "stream",
     "text": [
      "0\n",
      "[1.0, 1.0, 1.0, 1.0, 0.0, 1.0, 1.0, 0.0, 1.0, 0.0, 0.0, 0.0, 0.0, 1.0, 1.0] [0.0]\n",
      "gini_ys [0.0] [1.0, 1.0, 1.0, 1.0, 0.0, 1.0, 1.0, 0.0, 1.0, 0.0, 0.0, 0.0, 0.0, 1.0, 1.0]\n",
      "[0.0, 1.0, 1.0, 1.0, 1.0, 0.0, 1.0, 1.0, 0.0, 1.0, 0.0, 0.0, 0.0, 0.0, 1.0, 1.0]\n",
      "1 16 0.0625\n",
      "0.9375\n"
     ]
    },
    {
     "ename": "TypeError",
     "evalue": "only size-1 arrays can be converted to Python scalars",
     "output_type": "error",
     "traceback": [
      "\u001b[0;31m---------------------------------------------------------------------------\u001b[0m",
      "\u001b[0;31mTypeError\u001b[0m                                 Traceback (most recent call last)",
      "\u001b[0;31mTypeError\u001b[0m: only size-1 arrays can be converted to Python scalars"
     ]
    },
    {
     "name": "stderr",
     "output_type": "stream",
     "text": [
      "Exception ignored in: '_cython_magic_ebc84f9105788ae415378d81cb7decd3.gini_index'\n",
      "Traceback (most recent call last):\n",
      "  File \"/tmp/ipykernel_629611/1138057044.py\", line 105, in _build\n",
      "TypeError: only size-1 arrays can be converted to Python scalars\n"
     ]
    },
    {
     "name": "stdout",
     "output_type": "stream",
     "text": [
      "g 0.0 bg -1.0\n",
      "[1.0, 1.0, 1.0, 1.0, 0.0, 1.0, 1.0, 0.0, 1.0, 0.0, 0.0, 0.0, 1.0, 1.0] [0.0, 0.0]\n",
      "gini_ys [0.0, 0.0] [1.0, 1.0, 1.0, 1.0, 0.0, 1.0, 1.0, 0.0, 1.0, 0.0, 0.0, 0.0, 1.0, 1.0]\n",
      "[0.0, 0.0, 1.0, 1.0, 1.0, 1.0, 0.0, 1.0, 1.0, 0.0, 1.0, 0.0, 0.0, 0.0, 1.0, 1.0]\n",
      "2 16 0.125\n",
      "0.875\n"
     ]
    },
    {
     "ename": "TypeError",
     "evalue": "only size-1 arrays can be converted to Python scalars",
     "output_type": "error",
     "traceback": [
      "\u001b[0;31m---------------------------------------------------------------------------\u001b[0m",
      "\u001b[0;31mTypeError\u001b[0m                                 Traceback (most recent call last)",
      "\u001b[0;31mTypeError\u001b[0m: only size-1 arrays can be converted to Python scalars"
     ]
    },
    {
     "name": "stderr",
     "output_type": "stream",
     "text": [
      "Exception ignored in: '_cython_magic_ebc84f9105788ae415378d81cb7decd3.gini_index'\n",
      "Traceback (most recent call last):\n",
      "  File \"/tmp/ipykernel_629611/1138057044.py\", line 105, in _build\n",
      "TypeError: only size-1 arrays can be converted to Python scalars\n"
     ]
    },
    {
     "name": "stdout",
     "output_type": "stream",
     "text": [
      "g 0.0 bg 0.0\n",
      "[1.0, 1.0, 1.0, 1.0, 0.0, 1.0, 1.0, 0.0, 1.0, 0.0, 0.0, 1.0, 1.0] [0.0, 0.0, 0.0]\n",
      "gini_ys [0.0, 0.0, 0.0] [1.0, 1.0, 1.0, 1.0, 0.0, 1.0, 1.0, 0.0, 1.0, 0.0, 0.0, 1.0, 1.0]\n",
      "[0.0, 0.0, 0.0, 1.0, 1.0, 1.0, 1.0, 0.0, 1.0, 1.0, 0.0, 1.0, 0.0, 0.0, 1.0, 1.0]\n",
      "3 16 0.1875\n",
      "0.8125\n"
     ]
    },
    {
     "ename": "TypeError",
     "evalue": "only size-1 arrays can be converted to Python scalars",
     "output_type": "error",
     "traceback": [
      "\u001b[0;31m---------------------------------------------------------------------------\u001b[0m",
      "\u001b[0;31mTypeError\u001b[0m                                 Traceback (most recent call last)",
      "\u001b[0;31mTypeError\u001b[0m: only size-1 arrays can be converted to Python scalars"
     ]
    },
    {
     "name": "stderr",
     "output_type": "stream",
     "text": [
      "Exception ignored in: '_cython_magic_ebc84f9105788ae415378d81cb7decd3.gini_index'\n",
      "Traceback (most recent call last):\n",
      "  File \"/tmp/ipykernel_629611/1138057044.py\", line 105, in _build\n",
      "TypeError: only size-1 arrays can be converted to Python scalars\n"
     ]
    },
    {
     "name": "stdout",
     "output_type": "stream",
     "text": [
      "g 0.0 bg 0.0\n",
      "[1.0, 1.0, 1.0, 1.0, 0.0, 1.0, 1.0, 0.0, 1.0, 0.0, 1.0, 1.0] [0.0, 0.0, 0.0, 0.0]\n",
      "gini_ys [0.0, 0.0, 0.0, 0.0] [1.0, 1.0, 1.0, 1.0, 0.0, 1.0, 1.0, 0.0, 1.0, 0.0, 1.0, 1.0]\n",
      "[0.0, 0.0, 0.0, 0.0, 1.0, 1.0, 1.0, 1.0, 0.0, 1.0, 1.0, 0.0, 1.0, 0.0, 1.0, 1.0]\n",
      "4 16 0.25\n",
      "0.75\n"
     ]
    },
    {
     "ename": "TypeError",
     "evalue": "only size-1 arrays can be converted to Python scalars",
     "output_type": "error",
     "traceback": [
      "\u001b[0;31m---------------------------------------------------------------------------\u001b[0m",
      "\u001b[0;31mTypeError\u001b[0m                                 Traceback (most recent call last)",
      "\u001b[0;31mTypeError\u001b[0m: only size-1 arrays can be converted to Python scalars"
     ]
    },
    {
     "name": "stderr",
     "output_type": "stream",
     "text": [
      "Exception ignored in: '_cython_magic_ebc84f9105788ae415378d81cb7decd3.gini_index'\n",
      "Traceback (most recent call last):\n",
      "  File \"/tmp/ipykernel_629611/1138057044.py\", line 105, in _build\n",
      "TypeError: only size-1 arrays can be converted to Python scalars\n"
     ]
    },
    {
     "name": "stdout",
     "output_type": "stream",
     "text": [
      "g 0.0 bg 0.0\n",
      "[1.0, 1.0, 1.0, 1.0, 0.0, 1.0, 1.0, 0.0, 1.0, 0.0, 1.0] [0.0, 0.0, 0.0, 0.0, 1.0]\n",
      "gini_ys [0.0, 0.0, 0.0, 0.0, 1.0] [1.0, 1.0, 1.0, 1.0, 0.0, 1.0, 1.0, 0.0, 1.0, 0.0, 1.0]\n",
      "[0.0, 0.0, 0.0, 0.0, 1.0, 1.0, 1.0, 1.0, 1.0, 0.0, 1.0, 1.0, 0.0, 1.0, 0.0, 1.0]\n",
      "5 16 0.3125\n",
      "0.6875\n"
     ]
    },
    {
     "ename": "TypeError",
     "evalue": "only size-1 arrays can be converted to Python scalars",
     "output_type": "error",
     "traceback": [
      "\u001b[0;31m---------------------------------------------------------------------------\u001b[0m",
      "\u001b[0;31mTypeError\u001b[0m                                 Traceback (most recent call last)",
      "\u001b[0;31mTypeError\u001b[0m: only size-1 arrays can be converted to Python scalars"
     ]
    },
    {
     "name": "stderr",
     "output_type": "stream",
     "text": [
      "Exception ignored in: '_cython_magic_ebc84f9105788ae415378d81cb7decd3.gini_index'\n",
      "Traceback (most recent call last):\n",
      "  File \"/tmp/ipykernel_629611/1138057044.py\", line 105, in _build\n",
      "TypeError: only size-1 arrays can be converted to Python scalars\n"
     ]
    },
    {
     "name": "stdout",
     "output_type": "stream",
     "text": [
      "g 0.0 bg 0.0\n",
      "[1.0, 1.0, 1.0, 1.0, 0.0, 1.0, 1.0, 1.0, 0.0, 1.0] [0.0, 0.0, 0.0, 0.0, 0.0, 1.0]\n",
      "gini_ys [0.0, 0.0, 0.0, 0.0, 0.0, 1.0] [1.0, 1.0, 1.0, 1.0, 0.0, 1.0, 1.0, 1.0, 0.0, 1.0]\n",
      "[0.0, 0.0, 0.0, 0.0, 0.0, 1.0, 1.0, 1.0, 1.0, 1.0, 0.0, 1.0, 1.0, 1.0, 0.0, 1.0]\n",
      "6 16 0.375\n",
      "0.625\n"
     ]
    },
    {
     "ename": "TypeError",
     "evalue": "only size-1 arrays can be converted to Python scalars",
     "output_type": "error",
     "traceback": [
      "\u001b[0;31m---------------------------------------------------------------------------\u001b[0m",
      "\u001b[0;31mTypeError\u001b[0m                                 Traceback (most recent call last)",
      "\u001b[0;31mTypeError\u001b[0m: only size-1 arrays can be converted to Python scalars"
     ]
    },
    {
     "name": "stderr",
     "output_type": "stream",
     "text": [
      "Exception ignored in: '_cython_magic_ebc84f9105788ae415378d81cb7decd3.gini_index'\n",
      "Traceback (most recent call last):\n",
      "  File \"/tmp/ipykernel_629611/1138057044.py\", line 105, in _build\n",
      "TypeError: only size-1 arrays can be converted to Python scalars\n"
     ]
    },
    {
     "name": "stdout",
     "output_type": "stream",
     "text": [
      "g 0.0 bg 0.0\n",
      "[1.0, 1.0, 1.0, 1.0, 0.0, 1.0, 1.0, 1.0, 1.0] [0.0, 0.0, 0.0, 0.0, 0.0, 0.0, 1.0]\n",
      "gini_ys [0.0, 0.0, 0.0, 0.0, 0.0, 0.0, 1.0] [1.0, 1.0, 1.0, 1.0, 0.0, 1.0, 1.0, 1.0, 1.0]\n",
      "[0.0, 0.0, 0.0, 0.0, 0.0, 0.0, 1.0, 1.0, 1.0, 1.0, 1.0, 0.0, 1.0, 1.0, 1.0, 1.0]\n",
      "7 16 0.4375\n",
      "0.5625\n"
     ]
    },
    {
     "ename": "TypeError",
     "evalue": "only size-1 arrays can be converted to Python scalars",
     "output_type": "error",
     "traceback": [
      "\u001b[0;31m---------------------------------------------------------------------------\u001b[0m",
      "\u001b[0;31mTypeError\u001b[0m                                 Traceback (most recent call last)",
      "\u001b[0;31mTypeError\u001b[0m: only size-1 arrays can be converted to Python scalars"
     ]
    },
    {
     "name": "stderr",
     "output_type": "stream",
     "text": [
      "Exception ignored in: '_cython_magic_ebc84f9105788ae415378d81cb7decd3.gini_index'\n",
      "Traceback (most recent call last):\n",
      "  File \"/tmp/ipykernel_629611/1138057044.py\", line 105, in _build\n",
      "TypeError: only size-1 arrays can be converted to Python scalars\n"
     ]
    },
    {
     "name": "stdout",
     "output_type": "stream",
     "text": [
      "g 0.0 bg 0.0\n",
      "[1.0, 1.0, 1.0, 1.0, 0.0, 1.0, 1.0, 1.0] [0.0, 0.0, 1.0, 0.0, 0.0, 0.0, 0.0, 1.0]\n",
      "gini_ys [0.0, 0.0, 1.0, 0.0, 0.0, 0.0, 0.0, 1.0] [1.0, 1.0, 1.0, 1.0, 0.0, 1.0, 1.0, 1.0]\n",
      "[0.0, 0.0, 1.0, 0.0, 0.0, 0.0, 0.0, 1.0, 1.0, 1.0, 1.0, 1.0, 0.0, 1.0, 1.0, 1.0]\n",
      "8 16 0.5\n",
      "0.5\n"
     ]
    },
    {
     "ename": "TypeError",
     "evalue": "only size-1 arrays can be converted to Python scalars",
     "output_type": "error",
     "traceback": [
      "\u001b[0;31m---------------------------------------------------------------------------\u001b[0m",
      "\u001b[0;31mTypeError\u001b[0m                                 Traceback (most recent call last)",
      "\u001b[0;31mTypeError\u001b[0m: only size-1 arrays can be converted to Python scalars"
     ]
    },
    {
     "name": "stderr",
     "output_type": "stream",
     "text": [
      "Exception ignored in: '_cython_magic_ebc84f9105788ae415378d81cb7decd3.gini_index'\n",
      "Traceback (most recent call last):\n",
      "  File \"/tmp/ipykernel_629611/1138057044.py\", line 105, in _build\n",
      "TypeError: only size-1 arrays can be converted to Python scalars\n"
     ]
    },
    {
     "name": "stdout",
     "output_type": "stream",
     "text": [
      "g 0.0 bg 0.0\n",
      "[1.0, 1.0, 1.0, 1.0, 1.0, 1.0, 1.0] [0.0, 0.0, 0.0, 1.0, 0.0, 0.0, 0.0, 0.0, 1.0]\n",
      "gini_ys [0.0, 0.0, 0.0, 1.0, 0.0, 0.0, 0.0, 0.0, 1.0] [1.0, 1.0, 1.0, 1.0, 1.0, 1.0, 1.0]\n",
      "[0.0, 0.0, 0.0, 1.0, 0.0, 0.0, 0.0, 0.0, 1.0, 1.0, 1.0, 1.0, 1.0, 1.0, 1.0, 1.0]\n",
      "9 16 0.5625\n",
      "0.4375\n"
     ]
    },
    {
     "ename": "TypeError",
     "evalue": "only size-1 arrays can be converted to Python scalars",
     "output_type": "error",
     "traceback": [
      "\u001b[0;31m---------------------------------------------------------------------------\u001b[0m",
      "\u001b[0;31mTypeError\u001b[0m                                 Traceback (most recent call last)",
      "\u001b[0;31mTypeError\u001b[0m: only size-1 arrays can be converted to Python scalars"
     ]
    },
    {
     "name": "stderr",
     "output_type": "stream",
     "text": [
      "Exception ignored in: '_cython_magic_ebc84f9105788ae415378d81cb7decd3.gini_index'\n",
      "Traceback (most recent call last):\n",
      "  File \"/tmp/ipykernel_629611/1138057044.py\", line 105, in _build\n",
      "TypeError: only size-1 arrays can be converted to Python scalars\n"
     ]
    },
    {
     "name": "stdout",
     "output_type": "stream",
     "text": [
      "g 0.0 bg 0.0\n",
      "[1.0, 1.0, 1.0, 1.0, 1.0, 1.0] [1.0, 0.0, 0.0, 0.0, 1.0, 0.0, 0.0, 0.0, 0.0, 1.0]\n",
      "gini_ys [1.0, 0.0, 0.0, 0.0, 1.0, 0.0, 0.0, 0.0, 0.0, 1.0] [1.0, 1.0, 1.0, 1.0, 1.0, 1.0]\n",
      "[1.0, 0.0, 0.0, 0.0, 1.0, 0.0, 0.0, 0.0, 0.0, 1.0, 1.0, 1.0, 1.0, 1.0, 1.0, 1.0]\n",
      "10 16 0.625\n",
      "0.375\n"
     ]
    },
    {
     "ename": "TypeError",
     "evalue": "only size-1 arrays can be converted to Python scalars",
     "output_type": "error",
     "traceback": [
      "\u001b[0;31m---------------------------------------------------------------------------\u001b[0m",
      "\u001b[0;31mTypeError\u001b[0m                                 Traceback (most recent call last)",
      "\u001b[0;31mTypeError\u001b[0m: only size-1 arrays can be converted to Python scalars"
     ]
    },
    {
     "name": "stderr",
     "output_type": "stream",
     "text": [
      "Exception ignored in: '_cython_magic_ebc84f9105788ae415378d81cb7decd3.gini_index'\n",
      "Traceback (most recent call last):\n",
      "  File \"/tmp/ipykernel_629611/1138057044.py\", line 105, in _build\n",
      "TypeError: only size-1 arrays can be converted to Python scalars\n"
     ]
    },
    {
     "name": "stdout",
     "output_type": "stream",
     "text": [
      "g 0.0 bg 0.0\n",
      "[1.0, 1.0, 1.0, 1.0, 1.0] [1.0, 0.0, 1.0, 0.0, 0.0, 1.0, 0.0, 0.0, 0.0, 0.0, 1.0]\n",
      "gini_ys [1.0, 0.0, 1.0, 0.0, 0.0, 1.0, 0.0, 0.0, 0.0, 0.0, 1.0] [1.0, 1.0, 1.0, 1.0, 1.0]\n",
      "[1.0, 0.0, 1.0, 0.0, 0.0, 1.0, 0.0, 0.0, 0.0, 0.0, 1.0, 1.0, 1.0, 1.0, 1.0, 1.0]\n",
      "11 16 0.6875\n",
      "0.3125\n"
     ]
    },
    {
     "ename": "TypeError",
     "evalue": "only size-1 arrays can be converted to Python scalars",
     "output_type": "error",
     "traceback": [
      "\u001b[0;31m---------------------------------------------------------------------------\u001b[0m",
      "\u001b[0;31mTypeError\u001b[0m                                 Traceback (most recent call last)",
      "\u001b[0;31mTypeError\u001b[0m: only size-1 arrays can be converted to Python scalars"
     ]
    },
    {
     "name": "stderr",
     "output_type": "stream",
     "text": [
      "Exception ignored in: '_cython_magic_ebc84f9105788ae415378d81cb7decd3.gini_index'\n",
      "Traceback (most recent call last):\n",
      "  File \"/tmp/ipykernel_629611/1138057044.py\", line 105, in _build\n",
      "TypeError: only size-1 arrays can be converted to Python scalars\n"
     ]
    },
    {
     "name": "stdout",
     "output_type": "stream",
     "text": [
      "g 0.0 bg 0.0\n",
      "[1.0, 1.0, 1.0, 1.0] [1.0, 0.0, 1.0, 0.0, 1.0, 0.0, 1.0, 0.0, 0.0, 0.0, 0.0, 1.0]\n",
      "gini_ys [1.0, 0.0, 1.0, 0.0, 1.0, 0.0, 1.0, 0.0, 0.0, 0.0, 0.0, 1.0] [1.0, 1.0, 1.0, 1.0]\n",
      "[1.0, 0.0, 1.0, 0.0, 1.0, 0.0, 1.0, 0.0, 0.0, 0.0, 0.0, 1.0, 1.0, 1.0, 1.0, 1.0]\n",
      "12 16 0.75\n",
      "0.25\n"
     ]
    },
    {
     "ename": "TypeError",
     "evalue": "only size-1 arrays can be converted to Python scalars",
     "output_type": "error",
     "traceback": [
      "\u001b[0;31m---------------------------------------------------------------------------\u001b[0m",
      "\u001b[0;31mTypeError\u001b[0m                                 Traceback (most recent call last)",
      "\u001b[0;31mTypeError\u001b[0m: only size-1 arrays can be converted to Python scalars"
     ]
    },
    {
     "name": "stderr",
     "output_type": "stream",
     "text": [
      "Exception ignored in: '_cython_magic_ebc84f9105788ae415378d81cb7decd3.gini_index'\n",
      "Traceback (most recent call last):\n",
      "  File \"/tmp/ipykernel_629611/1138057044.py\", line 105, in _build\n",
      "TypeError: only size-1 arrays can be converted to Python scalars\n"
     ]
    },
    {
     "name": "stdout",
     "output_type": "stream",
     "text": [
      "g 0.0 bg 0.0\n",
      "[1.0, 1.0, 1.0] [1.0, 0.0, 1.0, 0.0, 1.0, 0.0, 1.0, 0.0, 0.0, 0.0, 0.0, 1.0, 1.0]\n",
      "gini_ys [1.0, 0.0, 1.0, 0.0, 1.0, 0.0, 1.0, 0.0, 0.0, 0.0, 0.0, 1.0, 1.0] [1.0, 1.0, 1.0]\n",
      "[1.0, 0.0, 1.0, 0.0, 1.0, 0.0, 1.0, 0.0, 0.0, 0.0, 0.0, 1.0, 1.0, 1.0, 1.0, 1.0]\n",
      "13 16 0.8125\n",
      "0.1875\n"
     ]
    },
    {
     "ename": "TypeError",
     "evalue": "only size-1 arrays can be converted to Python scalars",
     "output_type": "error",
     "traceback": [
      "\u001b[0;31m---------------------------------------------------------------------------\u001b[0m",
      "\u001b[0;31mTypeError\u001b[0m                                 Traceback (most recent call last)",
      "\u001b[0;31mTypeError\u001b[0m: only size-1 arrays can be converted to Python scalars"
     ]
    },
    {
     "name": "stderr",
     "output_type": "stream",
     "text": [
      "Exception ignored in: '_cython_magic_ebc84f9105788ae415378d81cb7decd3.gini_index'\n",
      "Traceback (most recent call last):\n",
      "  File \"/tmp/ipykernel_629611/1138057044.py\", line 105, in _build\n",
      "TypeError: only size-1 arrays can be converted to Python scalars\n"
     ]
    },
    {
     "name": "stdout",
     "output_type": "stream",
     "text": [
      "g 0.0 bg 0.0\n",
      "[1.0, 1.0] [1.0, 0.0, 1.0, 1.0, 0.0, 1.0, 0.0, 1.0, 0.0, 0.0, 0.0, 0.0, 1.0, 1.0]\n",
      "gini_ys [1.0, 0.0, 1.0, 1.0, 0.0, 1.0, 0.0, 1.0, 0.0, 0.0, 0.0, 0.0, 1.0, 1.0] [1.0, 1.0]\n",
      "[1.0, 0.0, 1.0, 1.0, 0.0, 1.0, 0.0, 1.0, 0.0, 0.0, 0.0, 0.0, 1.0, 1.0, 1.0, 1.0]\n",
      "14 16 0.875\n",
      "0.125\n"
     ]
    },
    {
     "ename": "TypeError",
     "evalue": "only size-1 arrays can be converted to Python scalars",
     "output_type": "error",
     "traceback": [
      "\u001b[0;31m---------------------------------------------------------------------------\u001b[0m",
      "\u001b[0;31mTypeError\u001b[0m                                 Traceback (most recent call last)",
      "\u001b[0;31mTypeError\u001b[0m: only size-1 arrays can be converted to Python scalars"
     ]
    },
    {
     "name": "stderr",
     "output_type": "stream",
     "text": [
      "Exception ignored in: '_cython_magic_ebc84f9105788ae415378d81cb7decd3.gini_index'\n",
      "Traceback (most recent call last):\n",
      "  File \"/tmp/ipykernel_629611/1138057044.py\", line 105, in _build\n",
      "TypeError: only size-1 arrays can be converted to Python scalars\n"
     ]
    },
    {
     "name": "stdout",
     "output_type": "stream",
     "text": [
      "g 0.0 bg 0.0\n",
      "[1.0] [1.0, 0.0, 1.0, 1.0, 0.0, 1.0, 1.0, 0.0, 1.0, 0.0, 0.0, 0.0, 0.0, 1.0, 1.0]\n",
      "gini_ys [1.0, 0.0, 1.0, 1.0, 0.0, 1.0, 1.0, 0.0, 1.0, 0.0, 0.0, 0.0, 0.0, 1.0, 1.0] [1.0]\n",
      "[1.0, 0.0, 1.0, 1.0, 0.0, 1.0, 1.0, 0.0, 1.0, 0.0, 0.0, 0.0, 0.0, 1.0, 1.0, 1.0]\n",
      "15 16 0.9375\n",
      "0.0625\n"
     ]
    },
    {
     "ename": "TypeError",
     "evalue": "only size-1 arrays can be converted to Python scalars",
     "output_type": "error",
     "traceback": [
      "\u001b[0;31m---------------------------------------------------------------------------\u001b[0m",
      "\u001b[0;31mTypeError\u001b[0m                                 Traceback (most recent call last)",
      "\u001b[0;31mTypeError\u001b[0m: only size-1 arrays can be converted to Python scalars"
     ]
    },
    {
     "name": "stderr",
     "output_type": "stream",
     "text": [
      "Exception ignored in: '_cython_magic_ebc84f9105788ae415378d81cb7decd3.gini_index'\n",
      "Traceback (most recent call last):\n",
      "  File \"/tmp/ipykernel_629611/1138057044.py\", line 105, in _build\n",
      "TypeError: only size-1 arrays can be converted to Python scalars\n"
     ]
    },
    {
     "name": "stdout",
     "output_type": "stream",
     "text": [
      "g 0.0 bg 0.0\n",
      "[] [1.0, 1.0, 0.0, 1.0, 1.0, 0.0, 1.0, 1.0, 0.0, 1.0, 0.0, 0.0, 0.0, 0.0, 1.0, 1.0]\n",
      "gini_ys [1.0, 1.0, 0.0, 1.0, 1.0, 0.0, 1.0, 1.0, 0.0, 1.0, 0.0, 0.0, 0.0, 0.0, 1.0, 1.0] []\n",
      "[1.0, 1.0, 0.0, 1.0, 1.0, 0.0, 1.0, 1.0, 0.0, 1.0, 0.0, 0.0, 0.0, 0.0, 1.0, 1.0]\n",
      "16 16 1.0\n",
      "0.0\n"
     ]
    },
    {
     "ename": "TypeError",
     "evalue": "only size-1 arrays can be converted to Python scalars",
     "output_type": "error",
     "traceback": [
      "\u001b[0;31m---------------------------------------------------------------------------\u001b[0m",
      "\u001b[0;31mTypeError\u001b[0m                                 Traceback (most recent call last)",
      "\u001b[0;31mTypeError\u001b[0m: only size-1 arrays can be converted to Python scalars"
     ]
    },
    {
     "name": "stderr",
     "output_type": "stream",
     "text": [
      "Exception ignored in: '_cython_magic_ebc84f9105788ae415378d81cb7decd3.gini_index'\n",
      "Traceback (most recent call last):\n",
      "  File \"/tmp/ipykernel_629611/1138057044.py\", line 105, in _build\n",
      "TypeError: only size-1 arrays can be converted to Python scalars\n"
     ]
    },
    {
     "name": "stdout",
     "output_type": "stream",
     "text": [
      "g 0.0 bg 0.0\n",
      "1\n",
      "[1.0, 0.0, 1.0, 1.0, 0.0, 1.0, 1.0, 0.0, 1.0, 0.0, 0.0, 0.0, 1.0, 1.0] [1.0, 0.0]\n",
      "gini_ys [1.0, 0.0] [1.0, 0.0, 1.0, 1.0, 0.0, 1.0, 1.0, 0.0, 1.0, 0.0, 0.0, 0.0, 1.0, 1.0]\n",
      "[1.0, 0.0, 1.0, 0.0, 1.0, 1.0, 0.0, 1.0, 1.0, 0.0, 1.0, 0.0, 0.0, 0.0, 1.0, 1.0]\n",
      "2 16 0.125\n",
      "0.875\n"
     ]
    },
    {
     "ename": "TypeError",
     "evalue": "only size-1 arrays can be converted to Python scalars",
     "output_type": "error",
     "traceback": [
      "\u001b[0;31m---------------------------------------------------------------------------\u001b[0m",
      "\u001b[0;31mTypeError\u001b[0m                                 Traceback (most recent call last)",
      "\u001b[0;31mTypeError\u001b[0m: only size-1 arrays can be converted to Python scalars"
     ]
    },
    {
     "name": "stderr",
     "output_type": "stream",
     "text": [
      "Exception ignored in: '_cython_magic_ebc84f9105788ae415378d81cb7decd3.gini_index'\n",
      "Traceback (most recent call last):\n",
      "  File \"/tmp/ipykernel_629611/1138057044.py\", line 105, in _build\n",
      "TypeError: only size-1 arrays can be converted to Python scalars\n"
     ]
    },
    {
     "name": "stdout",
     "output_type": "stream",
     "text": [
      "g 0.0 bg 0.0\n",
      "[1.0, 0.0, 1.0, 1.0, 0.0, 1.0, 1.0, 0.0, 1.0, 0.0, 0.0, 0.0, 1.0] [1.0, 0.0, 1.0]\n",
      "gini_ys [1.0, 0.0, 1.0] [1.0, 0.0, 1.0, 1.0, 0.0, 1.0, 1.0, 0.0, 1.0, 0.0, 0.0, 0.0, 1.0]\n",
      "[1.0, 0.0, 1.0, 1.0, 0.0, 1.0, 1.0, 0.0, 1.0, 1.0, 0.0, 1.0, 0.0, 0.0, 0.0, 1.0]\n",
      "3 16 0.1875\n",
      "0.8125\n"
     ]
    },
    {
     "ename": "TypeError",
     "evalue": "only size-1 arrays can be converted to Python scalars",
     "output_type": "error",
     "traceback": [
      "\u001b[0;31m---------------------------------------------------------------------------\u001b[0m",
      "\u001b[0;31mTypeError\u001b[0m                                 Traceback (most recent call last)",
      "\u001b[0;31mTypeError\u001b[0m: only size-1 arrays can be converted to Python scalars"
     ]
    },
    {
     "name": "stderr",
     "output_type": "stream",
     "text": [
      "Exception ignored in: '_cython_magic_ebc84f9105788ae415378d81cb7decd3.gini_index'\n",
      "Traceback (most recent call last):\n",
      "  File \"/tmp/ipykernel_629611/1138057044.py\", line 105, in _build\n",
      "TypeError: only size-1 arrays can be converted to Python scalars\n"
     ]
    },
    {
     "name": "stdout",
     "output_type": "stream",
     "text": [
      "g 0.0 bg 0.0\n",
      "[1.0, 0.0, 1.0, 1.0, 0.0, 1.0, 1.0, 0.0, 0.0, 0.0, 0.0, 1.0] [1.0, 1.0, 0.0, 1.0]\n",
      "gini_ys [1.0, 1.0, 0.0, 1.0] [1.0, 0.0, 1.0, 1.0, 0.0, 1.0, 1.0, 0.0, 0.0, 0.0, 0.0, 1.0]\n",
      "[1.0, 1.0, 0.0, 1.0, 1.0, 0.0, 1.0, 1.0, 0.0, 1.0, 1.0, 0.0, 0.0, 0.0, 0.0, 1.0]\n",
      "4 16 0.25\n",
      "0.75\n"
     ]
    },
    {
     "ename": "TypeError",
     "evalue": "only size-1 arrays can be converted to Python scalars",
     "output_type": "error",
     "traceback": [
      "\u001b[0;31m---------------------------------------------------------------------------\u001b[0m",
      "\u001b[0;31mTypeError\u001b[0m                                 Traceback (most recent call last)",
      "\u001b[0;31mTypeError\u001b[0m: only size-1 arrays can be converted to Python scalars"
     ]
    },
    {
     "name": "stderr",
     "output_type": "stream",
     "text": [
      "Exception ignored in: '_cython_magic_ebc84f9105788ae415378d81cb7decd3.gini_index'\n",
      "Traceback (most recent call last):\n",
      "  File \"/tmp/ipykernel_629611/1138057044.py\", line 105, in _build\n",
      "TypeError: only size-1 arrays can be converted to Python scalars\n"
     ]
    },
    {
     "name": "stdout",
     "output_type": "stream",
     "text": [
      "g 0.0 bg 0.0\n",
      "[1.0, 0.0, 0.0, 1.0, 1.0, 0.0, 0.0, 0.0, 0.0, 1.0] [1.0, 1.0, 1.0, 1.0, 0.0, 1.0]\n",
      "gini_ys [1.0, 1.0, 1.0, 1.0, 0.0, 1.0] [1.0, 0.0, 0.0, 1.0, 1.0, 0.0, 0.0, 0.0, 0.0, 1.0]\n",
      "[1.0, 1.0, 1.0, 1.0, 0.0, 1.0, 1.0, 0.0, 0.0, 1.0, 1.0, 0.0, 0.0, 0.0, 0.0, 1.0]\n",
      "6 16 0.375\n",
      "0.625\n"
     ]
    },
    {
     "ename": "TypeError",
     "evalue": "only size-1 arrays can be converted to Python scalars",
     "output_type": "error",
     "traceback": [
      "\u001b[0;31m---------------------------------------------------------------------------\u001b[0m",
      "\u001b[0;31mTypeError\u001b[0m                                 Traceback (most recent call last)",
      "\u001b[0;31mTypeError\u001b[0m: only size-1 arrays can be converted to Python scalars"
     ]
    },
    {
     "name": "stderr",
     "output_type": "stream",
     "text": [
      "Exception ignored in: '_cython_magic_ebc84f9105788ae415378d81cb7decd3.gini_index'\n",
      "Traceback (most recent call last):\n",
      "  File \"/tmp/ipykernel_629611/1138057044.py\", line 105, in _build\n",
      "TypeError: only size-1 arrays can be converted to Python scalars\n"
     ]
    },
    {
     "name": "stdout",
     "output_type": "stream",
     "text": [
      "g 0.0 bg 0.0\n",
      "[1.0, 0.0, 0.0, 1.0, 0.0, 0.0, 0.0, 0.0, 1.0] [1.0, 1.0, 1.0, 1.0, 1.0, 0.0, 1.0]\n",
      "gini_ys [1.0, 1.0, 1.0, 1.0, 1.0, 0.0, 1.0] [1.0, 0.0, 0.0, 1.0, 0.0, 0.0, 0.0, 0.0, 1.0]\n",
      "[1.0, 1.0, 1.0, 1.0, 1.0, 0.0, 1.0, 1.0, 0.0, 0.0, 1.0, 0.0, 0.0, 0.0, 0.0, 1.0]\n",
      "7 16 0.4375\n",
      "0.5625\n"
     ]
    },
    {
     "ename": "TypeError",
     "evalue": "only size-1 arrays can be converted to Python scalars",
     "output_type": "error",
     "traceback": [
      "\u001b[0;31m---------------------------------------------------------------------------\u001b[0m",
      "\u001b[0;31mTypeError\u001b[0m                                 Traceback (most recent call last)",
      "\u001b[0;31mTypeError\u001b[0m: only size-1 arrays can be converted to Python scalars"
     ]
    },
    {
     "name": "stderr",
     "output_type": "stream",
     "text": [
      "Exception ignored in: '_cython_magic_ebc84f9105788ae415378d81cb7decd3.gini_index'\n",
      "Traceback (most recent call last):\n",
      "  File \"/tmp/ipykernel_629611/1138057044.py\", line 105, in _build\n",
      "TypeError: only size-1 arrays can be converted to Python scalars\n"
     ]
    },
    {
     "name": "stdout",
     "output_type": "stream",
     "text": [
      "g 0.0 bg 0.0\n",
      "[1.0, 0.0, 0.0, 1.0, 0.0, 0.0, 0.0, 1.0] [1.0, 1.0, 1.0, 1.0, 1.0, 0.0, 0.0, 1.0]\n",
      "gini_ys [1.0, 1.0, 1.0, 1.0, 1.0, 0.0, 0.0, 1.0] [1.0, 0.0, 0.0, 1.0, 0.0, 0.0, 0.0, 1.0]\n",
      "[1.0, 1.0, 1.0, 1.0, 1.0, 0.0, 0.0, 1.0, 1.0, 0.0, 0.0, 1.0, 0.0, 0.0, 0.0, 1.0]\n",
      "8 16 0.5\n",
      "0.5\n"
     ]
    },
    {
     "ename": "TypeError",
     "evalue": "only size-1 arrays can be converted to Python scalars",
     "output_type": "error",
     "traceback": [
      "\u001b[0;31m---------------------------------------------------------------------------\u001b[0m",
      "\u001b[0;31mTypeError\u001b[0m                                 Traceback (most recent call last)",
      "\u001b[0;31mTypeError\u001b[0m: only size-1 arrays can be converted to Python scalars"
     ]
    },
    {
     "name": "stderr",
     "output_type": "stream",
     "text": [
      "Exception ignored in: '_cython_magic_ebc84f9105788ae415378d81cb7decd3.gini_index'\n",
      "Traceback (most recent call last):\n",
      "  File \"/tmp/ipykernel_629611/1138057044.py\", line 105, in _build\n",
      "TypeError: only size-1 arrays can be converted to Python scalars\n"
     ]
    },
    {
     "name": "stdout",
     "output_type": "stream",
     "text": [
      "g 0.0 bg 0.0\n",
      "[0.0, 0.0, 1.0, 0.0, 0.0, 0.0, 1.0] [1.0, 1.0, 1.0, 1.0, 1.0, 1.0, 0.0, 0.0, 1.0]\n",
      "gini_ys [1.0, 1.0, 1.0, 1.0, 1.0, 1.0, 0.0, 0.0, 1.0] [0.0, 0.0, 1.0, 0.0, 0.0, 0.0, 1.0]\n",
      "[1.0, 1.0, 1.0, 1.0, 1.0, 1.0, 0.0, 0.0, 1.0, 0.0, 0.0, 1.0, 0.0, 0.0, 0.0, 1.0]\n",
      "9 16 0.5625\n",
      "0.4375\n"
     ]
    },
    {
     "ename": "TypeError",
     "evalue": "only size-1 arrays can be converted to Python scalars",
     "output_type": "error",
     "traceback": [
      "\u001b[0;31m---------------------------------------------------------------------------\u001b[0m",
      "\u001b[0;31mTypeError\u001b[0m                                 Traceback (most recent call last)",
      "\u001b[0;31mTypeError\u001b[0m: only size-1 arrays can be converted to Python scalars"
     ]
    },
    {
     "name": "stderr",
     "output_type": "stream",
     "text": [
      "Exception ignored in: '_cython_magic_ebc84f9105788ae415378d81cb7decd3.gini_index'\n",
      "Traceback (most recent call last):\n",
      "  File \"/tmp/ipykernel_629611/1138057044.py\", line 105, in _build\n",
      "TypeError: only size-1 arrays can be converted to Python scalars\n"
     ]
    },
    {
     "name": "stdout",
     "output_type": "stream",
     "text": [
      "g 0.0 bg 0.0\n",
      "[0.0, 1.0, 0.0, 0.0] [1.0, 1.0, 0.0, 1.0, 1.0, 1.0, 1.0, 0.0, 0.0, 0.0, 1.0, 1.0]\n",
      "gini_ys [1.0, 1.0, 0.0, 1.0, 1.0, 1.0, 1.0, 0.0, 0.0, 0.0, 1.0, 1.0] [0.0, 1.0, 0.0, 0.0]\n",
      "[1.0, 1.0, 0.0, 1.0, 1.0, 1.0, 1.0, 0.0, 0.0, 0.0, 1.0, 1.0, 0.0, 1.0, 0.0, 0.0]\n",
      "12 16 0.75\n",
      "0.25\n"
     ]
    },
    {
     "ename": "TypeError",
     "evalue": "only size-1 arrays can be converted to Python scalars",
     "output_type": "error",
     "traceback": [
      "\u001b[0;31m---------------------------------------------------------------------------\u001b[0m",
      "\u001b[0;31mTypeError\u001b[0m                                 Traceback (most recent call last)",
      "\u001b[0;31mTypeError\u001b[0m: only size-1 arrays can be converted to Python scalars"
     ]
    },
    {
     "name": "stderr",
     "output_type": "stream",
     "text": [
      "Exception ignored in: '_cython_magic_ebc84f9105788ae415378d81cb7decd3.gini_index'\n",
      "Traceback (most recent call last):\n",
      "  File \"/tmp/ipykernel_629611/1138057044.py\", line 105, in _build\n",
      "TypeError: only size-1 arrays can be converted to Python scalars\n"
     ]
    },
    {
     "name": "stdout",
     "output_type": "stream",
     "text": [
      "g 0.0 bg 0.0\n",
      "[0.0, 0.0, 0.0] [1.0, 1.0, 0.0, 1.0, 1.0, 1.0, 1.0, 1.0, 0.0, 0.0, 0.0, 1.0, 1.0]\n",
      "gini_ys [1.0, 1.0, 0.0, 1.0, 1.0, 1.0, 1.0, 1.0, 0.0, 0.0, 0.0, 1.0, 1.0] [0.0, 0.0, 0.0]\n",
      "[1.0, 1.0, 0.0, 1.0, 1.0, 1.0, 1.0, 1.0, 0.0, 0.0, 0.0, 1.0, 1.0, 0.0, 0.0, 0.0]\n",
      "13 16 0.8125\n",
      "0.1875\n"
     ]
    },
    {
     "ename": "TypeError",
     "evalue": "only size-1 arrays can be converted to Python scalars",
     "output_type": "error",
     "traceback": [
      "\u001b[0;31m---------------------------------------------------------------------------\u001b[0m",
      "\u001b[0;31mTypeError\u001b[0m                                 Traceback (most recent call last)",
      "\u001b[0;31mTypeError\u001b[0m: only size-1 arrays can be converted to Python scalars"
     ]
    },
    {
     "name": "stderr",
     "output_type": "stream",
     "text": [
      "Exception ignored in: '_cython_magic_ebc84f9105788ae415378d81cb7decd3.gini_index'\n",
      "Traceback (most recent call last):\n",
      "  File \"/tmp/ipykernel_629611/1138057044.py\", line 105, in _build\n",
      "TypeError: only size-1 arrays can be converted to Python scalars\n"
     ]
    },
    {
     "name": "stdout",
     "output_type": "stream",
     "text": [
      "g 0.0 bg 0.0\n",
      "[0.0, 0.0] [1.0, 1.0, 0.0, 1.0, 1.0, 1.0, 1.0, 0.0, 1.0, 0.0, 0.0, 0.0, 1.0, 1.0]\n",
      "gini_ys [1.0, 1.0, 0.0, 1.0, 1.0, 1.0, 1.0, 0.0, 1.0, 0.0, 0.0, 0.0, 1.0, 1.0] [0.0, 0.0]\n",
      "[1.0, 1.0, 0.0, 1.0, 1.0, 1.0, 1.0, 0.0, 1.0, 0.0, 0.0, 0.0, 1.0, 1.0, 0.0, 0.0]\n",
      "14 16 0.875\n",
      "0.125\n"
     ]
    },
    {
     "ename": "TypeError",
     "evalue": "only size-1 arrays can be converted to Python scalars",
     "output_type": "error",
     "traceback": [
      "\u001b[0;31m---------------------------------------------------------------------------\u001b[0m",
      "\u001b[0;31mTypeError\u001b[0m                                 Traceback (most recent call last)",
      "\u001b[0;31mTypeError\u001b[0m: only size-1 arrays can be converted to Python scalars"
     ]
    },
    {
     "name": "stderr",
     "output_type": "stream",
     "text": [
      "Exception ignored in: '_cython_magic_ebc84f9105788ae415378d81cb7decd3.gini_index'\n",
      "Traceback (most recent call last):\n",
      "  File \"/tmp/ipykernel_629611/1138057044.py\", line 105, in _build\n",
      "TypeError: only size-1 arrays can be converted to Python scalars\n"
     ]
    },
    {
     "name": "stdout",
     "output_type": "stream",
     "text": [
      "g 0.0 bg 0.0\n",
      "[0.0] [1.0, 1.0, 0.0, 1.0, 1.0, 0.0, 1.0, 1.0, 0.0, 1.0, 0.0, 0.0, 0.0, 1.0, 1.0]\n",
      "gini_ys [1.0, 1.0, 0.0, 1.0, 1.0, 0.0, 1.0, 1.0, 0.0, 1.0, 0.0, 0.0, 0.0, 1.0, 1.0] [0.0]\n",
      "[1.0, 1.0, 0.0, 1.0, 1.0, 0.0, 1.0, 1.0, 0.0, 1.0, 0.0, 0.0, 0.0, 1.0, 1.0, 0.0]\n",
      "15 16 0.9375\n",
      "0.0625\n"
     ]
    },
    {
     "ename": "TypeError",
     "evalue": "only size-1 arrays can be converted to Python scalars",
     "output_type": "error",
     "traceback": [
      "\u001b[0;31m---------------------------------------------------------------------------\u001b[0m",
      "\u001b[0;31mTypeError\u001b[0m                                 Traceback (most recent call last)",
      "\u001b[0;31mTypeError\u001b[0m: only size-1 arrays can be converted to Python scalars"
     ]
    },
    {
     "name": "stderr",
     "output_type": "stream",
     "text": [
      "Exception ignored in: '_cython_magic_ebc84f9105788ae415378d81cb7decd3.gini_index'\n",
      "Traceback (most recent call last):\n",
      "  File \"/tmp/ipykernel_629611/1138057044.py\", line 105, in _build\n",
      "TypeError: only size-1 arrays can be converted to Python scalars\n"
     ]
    },
    {
     "name": "stdout",
     "output_type": "stream",
     "text": [
      "g 0.0 bg 0.0\n",
      "[] [1.0, 1.0, 0.0, 1.0, 1.0, 0.0, 1.0, 1.0, 0.0, 1.0, 0.0, 0.0, 0.0, 0.0, 1.0, 1.0]\n",
      "gini_ys [1.0, 1.0, 0.0, 1.0, 1.0, 0.0, 1.0, 1.0, 0.0, 1.0, 0.0, 0.0, 0.0, 0.0, 1.0, 1.0] []\n",
      "[1.0, 1.0, 0.0, 1.0, 1.0, 0.0, 1.0, 1.0, 0.0, 1.0, 0.0, 0.0, 0.0, 0.0, 1.0, 1.0]\n",
      "16 16 1.0\n",
      "0.0\n"
     ]
    },
    {
     "ename": "TypeError",
     "evalue": "only size-1 arrays can be converted to Python scalars",
     "output_type": "error",
     "traceback": [
      "\u001b[0;31m---------------------------------------------------------------------------\u001b[0m",
      "\u001b[0;31mTypeError\u001b[0m                                 Traceback (most recent call last)",
      "\u001b[0;31mTypeError\u001b[0m: only size-1 arrays can be converted to Python scalars"
     ]
    },
    {
     "name": "stderr",
     "output_type": "stream",
     "text": [
      "Exception ignored in: '_cython_magic_ebc84f9105788ae415378d81cb7decd3.gini_index'\n",
      "Traceback (most recent call last):\n",
      "  File \"/tmp/ipykernel_629611/1138057044.py\", line 105, in _build\n",
      "TypeError: only size-1 arrays can be converted to Python scalars\n"
     ]
    },
    {
     "name": "stdout",
     "output_type": "stream",
     "text": [
      "g 0.0 bg 0.0\n",
      "2\n",
      "[1.0, 1.0, 1.0, 1.0, 0.0, 1.0, 1.0, 0.0, 1.0, 0.0, 0.0, 0.0, 1.0, 1.0] [0.0, 0.0]\n",
      "gini_ys [0.0, 0.0] [1.0, 1.0, 1.0, 1.0, 0.0, 1.0, 1.0, 0.0, 1.0, 0.0, 0.0, 0.0, 1.0, 1.0]\n",
      "[0.0, 0.0, 1.0, 1.0, 1.0, 1.0, 0.0, 1.0, 1.0, 0.0, 1.0, 0.0, 0.0, 0.0, 1.0, 1.0]\n",
      "2 16 0.125\n",
      "0.875\n"
     ]
    },
    {
     "ename": "TypeError",
     "evalue": "only size-1 arrays can be converted to Python scalars",
     "output_type": "error",
     "traceback": [
      "\u001b[0;31m---------------------------------------------------------------------------\u001b[0m",
      "\u001b[0;31mTypeError\u001b[0m                                 Traceback (most recent call last)",
      "\u001b[0;31mTypeError\u001b[0m: only size-1 arrays can be converted to Python scalars"
     ]
    },
    {
     "name": "stderr",
     "output_type": "stream",
     "text": [
      "Exception ignored in: '_cython_magic_ebc84f9105788ae415378d81cb7decd3.gini_index'\n",
      "Traceback (most recent call last):\n",
      "  File \"/tmp/ipykernel_629611/1138057044.py\", line 105, in _build\n",
      "TypeError: only size-1 arrays can be converted to Python scalars\n"
     ]
    },
    {
     "name": "stdout",
     "output_type": "stream",
     "text": [
      "g 0.0 bg 0.0\n",
      "[1.0, 1.0, 1.0, 1.0, 0.0, 1.0, 1.0, 0.0, 1.0, 0.0, 1.0, 1.0] [0.0, 0.0, 0.0, 0.0]\n",
      "gini_ys [0.0, 0.0, 0.0, 0.0] [1.0, 1.0, 1.0, 1.0, 0.0, 1.0, 1.0, 0.0, 1.0, 0.0, 1.0, 1.0]\n",
      "[0.0, 0.0, 0.0, 0.0, 1.0, 1.0, 1.0, 1.0, 0.0, 1.0, 1.0, 0.0, 1.0, 0.0, 1.0, 1.0]\n",
      "4 16 0.25\n",
      "0.75\n"
     ]
    },
    {
     "ename": "TypeError",
     "evalue": "only size-1 arrays can be converted to Python scalars",
     "output_type": "error",
     "traceback": [
      "\u001b[0;31m---------------------------------------------------------------------------\u001b[0m",
      "\u001b[0;31mTypeError\u001b[0m                                 Traceback (most recent call last)",
      "\u001b[0;31mTypeError\u001b[0m: only size-1 arrays can be converted to Python scalars"
     ]
    },
    {
     "name": "stderr",
     "output_type": "stream",
     "text": [
      "Exception ignored in: '_cython_magic_ebc84f9105788ae415378d81cb7decd3.gini_index'\n",
      "Traceback (most recent call last):\n",
      "  File \"/tmp/ipykernel_629611/1138057044.py\", line 105, in _build\n",
      "TypeError: only size-1 arrays can be converted to Python scalars\n"
     ]
    },
    {
     "name": "stdout",
     "output_type": "stream",
     "text": [
      "g 0.0 bg 0.0\n",
      "[1.0, 1.0, 1.0, 1.0, 1.0, 1.0, 0.0, 1.0, 0.0, 1.0, 1.0] [0.0, 0.0, 0.0, 0.0, 0.0]\n",
      "gini_ys [0.0, 0.0, 0.0, 0.0, 0.0] [1.0, 1.0, 1.0, 1.0, 1.0, 1.0, 0.0, 1.0, 0.0, 1.0, 1.0]\n",
      "[0.0, 0.0, 0.0, 0.0, 0.0, 1.0, 1.0, 1.0, 1.0, 1.0, 1.0, 0.0, 1.0, 0.0, 1.0, 1.0]\n",
      "5 16 0.3125\n",
      "0.6875\n"
     ]
    },
    {
     "ename": "TypeError",
     "evalue": "only size-1 arrays can be converted to Python scalars",
     "output_type": "error",
     "traceback": [
      "\u001b[0;31m---------------------------------------------------------------------------\u001b[0m",
      "\u001b[0;31mTypeError\u001b[0m                                 Traceback (most recent call last)",
      "\u001b[0;31mTypeError\u001b[0m: only size-1 arrays can be converted to Python scalars"
     ]
    },
    {
     "name": "stderr",
     "output_type": "stream",
     "text": [
      "Exception ignored in: '_cython_magic_ebc84f9105788ae415378d81cb7decd3.gini_index'\n",
      "Traceback (most recent call last):\n",
      "  File \"/tmp/ipykernel_629611/1138057044.py\", line 105, in _build\n",
      "TypeError: only size-1 arrays can be converted to Python scalars\n"
     ]
    },
    {
     "name": "stdout",
     "output_type": "stream",
     "text": [
      "g 0.0 bg 0.0\n",
      "[1.0, 1.0, 1.0, 1.0, 1.0, 1.0, 1.0, 1.0, 1.0] [0.0, 0.0, 0.0, 0.0, 0.0, 0.0, 0.0]\n",
      "gini_ys [0.0, 0.0, 0.0, 0.0, 0.0, 0.0, 0.0] [1.0, 1.0, 1.0, 1.0, 1.0, 1.0, 1.0, 1.0, 1.0]\n",
      "[0.0, 0.0, 0.0, 0.0, 0.0, 0.0, 0.0, 1.0, 1.0, 1.0, 1.0, 1.0, 1.0, 1.0, 1.0, 1.0]\n",
      "7 16 0.4375\n",
      "0.5625\n"
     ]
    },
    {
     "ename": "TypeError",
     "evalue": "only size-1 arrays can be converted to Python scalars",
     "output_type": "error",
     "traceback": [
      "\u001b[0;31m---------------------------------------------------------------------------\u001b[0m",
      "\u001b[0;31mTypeError\u001b[0m                                 Traceback (most recent call last)",
      "\u001b[0;31mTypeError\u001b[0m: only size-1 arrays can be converted to Python scalars"
     ]
    },
    {
     "name": "stderr",
     "output_type": "stream",
     "text": [
      "Exception ignored in: '_cython_magic_ebc84f9105788ae415378d81cb7decd3.gini_index'\n",
      "Traceback (most recent call last):\n",
      "  File \"/tmp/ipykernel_629611/1138057044.py\", line 105, in _build\n",
      "TypeError: only size-1 arrays can be converted to Python scalars\n"
     ]
    },
    {
     "name": "stdout",
     "output_type": "stream",
     "text": [
      "g 0.0 bg 0.0\n",
      "[1.0, 1.0, 1.0, 1.0, 1.0, 1.0, 1.0, 1.0] [0.0, 0.0, 0.0, 0.0, 0.0, 0.0, 0.0, 1.0]\n",
      "gini_ys [0.0, 0.0, 0.0, 0.0, 0.0, 0.0, 0.0, 1.0] [1.0, 1.0, 1.0, 1.0, 1.0, 1.0, 1.0, 1.0]\n",
      "[0.0, 0.0, 0.0, 0.0, 0.0, 0.0, 0.0, 1.0, 1.0, 1.0, 1.0, 1.0, 1.0, 1.0, 1.0, 1.0]\n",
      "8 16 0.5\n",
      "0.5\n"
     ]
    },
    {
     "ename": "TypeError",
     "evalue": "only size-1 arrays can be converted to Python scalars",
     "output_type": "error",
     "traceback": [
      "\u001b[0;31m---------------------------------------------------------------------------\u001b[0m",
      "\u001b[0;31mTypeError\u001b[0m                                 Traceback (most recent call last)",
      "\u001b[0;31mTypeError\u001b[0m: only size-1 arrays can be converted to Python scalars"
     ]
    },
    {
     "name": "stderr",
     "output_type": "stream",
     "text": [
      "Exception ignored in: '_cython_magic_ebc84f9105788ae415378d81cb7decd3.gini_index'\n",
      "Traceback (most recent call last):\n",
      "  File \"/tmp/ipykernel_629611/1138057044.py\", line 105, in _build\n",
      "TypeError: only size-1 arrays can be converted to Python scalars\n"
     ]
    },
    {
     "name": "stdout",
     "output_type": "stream",
     "text": [
      "g 0.0 bg 0.0\n",
      "[1.0, 1.0, 1.0, 1.0, 1.0, 1.0, 1.0] [0.0, 0.0, 0.0, 1.0, 0.0, 0.0, 0.0, 0.0, 1.0]\n",
      "gini_ys [0.0, 0.0, 0.0, 1.0, 0.0, 0.0, 0.0, 0.0, 1.0] [1.0, 1.0, 1.0, 1.0, 1.0, 1.0, 1.0]\n",
      "[0.0, 0.0, 0.0, 1.0, 0.0, 0.0, 0.0, 0.0, 1.0, 1.0, 1.0, 1.0, 1.0, 1.0, 1.0, 1.0]\n",
      "9 16 0.5625\n",
      "0.4375\n"
     ]
    },
    {
     "ename": "TypeError",
     "evalue": "only size-1 arrays can be converted to Python scalars",
     "output_type": "error",
     "traceback": [
      "\u001b[0;31m---------------------------------------------------------------------------\u001b[0m",
      "\u001b[0;31mTypeError\u001b[0m                                 Traceback (most recent call last)",
      "\u001b[0;31mTypeError\u001b[0m: only size-1 arrays can be converted to Python scalars"
     ]
    },
    {
     "name": "stderr",
     "output_type": "stream",
     "text": [
      "Exception ignored in: '_cython_magic_ebc84f9105788ae415378d81cb7decd3.gini_index'\n",
      "Traceback (most recent call last):\n",
      "  File \"/tmp/ipykernel_629611/1138057044.py\", line 105, in _build\n",
      "TypeError: only size-1 arrays can be converted to Python scalars\n"
     ]
    },
    {
     "name": "stdout",
     "output_type": "stream",
     "text": [
      "g 0.0 bg 0.0\n",
      "[1.0, 1.0, 1.0, 1.0, 1.0, 1.0] [1.0, 0.0, 0.0, 0.0, 1.0, 0.0, 0.0, 0.0, 0.0, 1.0]\n",
      "gini_ys [1.0, 0.0, 0.0, 0.0, 1.0, 0.0, 0.0, 0.0, 0.0, 1.0] [1.0, 1.0, 1.0, 1.0, 1.0, 1.0]\n",
      "[1.0, 0.0, 0.0, 0.0, 1.0, 0.0, 0.0, 0.0, 0.0, 1.0, 1.0, 1.0, 1.0, 1.0, 1.0, 1.0]\n",
      "10 16 0.625\n",
      "0.375\n"
     ]
    },
    {
     "ename": "TypeError",
     "evalue": "only size-1 arrays can be converted to Python scalars",
     "output_type": "error",
     "traceback": [
      "\u001b[0;31m---------------------------------------------------------------------------\u001b[0m",
      "\u001b[0;31mTypeError\u001b[0m                                 Traceback (most recent call last)",
      "\u001b[0;31mTypeError\u001b[0m: only size-1 arrays can be converted to Python scalars"
     ]
    },
    {
     "name": "stderr",
     "output_type": "stream",
     "text": [
      "Exception ignored in: '_cython_magic_ebc84f9105788ae415378d81cb7decd3.gini_index'\n",
      "Traceback (most recent call last):\n",
      "  File \"/tmp/ipykernel_629611/1138057044.py\", line 105, in _build\n",
      "TypeError: only size-1 arrays can be converted to Python scalars\n"
     ]
    },
    {
     "name": "stdout",
     "output_type": "stream",
     "text": [
      "g 0.0 bg 0.0\n",
      "[1.0, 1.0, 1.0, 1.0] [1.0, 0.0, 1.0, 0.0, 0.0, 1.0, 0.0, 0.0, 0.0, 0.0, 1.0, 1.0]\n",
      "gini_ys [1.0, 0.0, 1.0, 0.0, 0.0, 1.0, 0.0, 0.0, 0.0, 0.0, 1.0, 1.0] [1.0, 1.0, 1.0, 1.0]\n",
      "[1.0, 0.0, 1.0, 0.0, 0.0, 1.0, 0.0, 0.0, 0.0, 0.0, 1.0, 1.0, 1.0, 1.0, 1.0, 1.0]\n",
      "12 16 0.75\n",
      "0.25\n"
     ]
    },
    {
     "ename": "TypeError",
     "evalue": "only size-1 arrays can be converted to Python scalars",
     "output_type": "error",
     "traceback": [
      "\u001b[0;31m---------------------------------------------------------------------------\u001b[0m",
      "\u001b[0;31mTypeError\u001b[0m                                 Traceback (most recent call last)",
      "\u001b[0;31mTypeError\u001b[0m: only size-1 arrays can be converted to Python scalars"
     ]
    },
    {
     "name": "stderr",
     "output_type": "stream",
     "text": [
      "Exception ignored in: '_cython_magic_ebc84f9105788ae415378d81cb7decd3.gini_index'\n",
      "Traceback (most recent call last):\n",
      "  File \"/tmp/ipykernel_629611/1138057044.py\", line 105, in _build\n",
      "TypeError: only size-1 arrays can be converted to Python scalars\n"
     ]
    },
    {
     "name": "stdout",
     "output_type": "stream",
     "text": [
      "g 0.0 bg 0.0\n",
      "[1.0, 1.0] [1.0, 0.0, 1.0, 1.0, 0.0, 1.0, 0.0, 1.0, 0.0, 0.0, 0.0, 0.0, 1.0, 1.0]\n",
      "gini_ys [1.0, 0.0, 1.0, 1.0, 0.0, 1.0, 0.0, 1.0, 0.0, 0.0, 0.0, 0.0, 1.0, 1.0] [1.0, 1.0]\n",
      "[1.0, 0.0, 1.0, 1.0, 0.0, 1.0, 0.0, 1.0, 0.0, 0.0, 0.0, 0.0, 1.0, 1.0, 1.0, 1.0]\n",
      "14 16 0.875\n",
      "0.125\n"
     ]
    },
    {
     "ename": "TypeError",
     "evalue": "only size-1 arrays can be converted to Python scalars",
     "output_type": "error",
     "traceback": [
      "\u001b[0;31m---------------------------------------------------------------------------\u001b[0m",
      "\u001b[0;31mTypeError\u001b[0m                                 Traceback (most recent call last)",
      "\u001b[0;31mTypeError\u001b[0m: only size-1 arrays can be converted to Python scalars"
     ]
    },
    {
     "name": "stderr",
     "output_type": "stream",
     "text": [
      "Exception ignored in: '_cython_magic_ebc84f9105788ae415378d81cb7decd3.gini_index'\n",
      "Traceback (most recent call last):\n",
      "  File \"/tmp/ipykernel_629611/1138057044.py\", line 105, in _build\n",
      "TypeError: only size-1 arrays can be converted to Python scalars\n"
     ]
    },
    {
     "name": "stdout",
     "output_type": "stream",
     "text": [
      "g 0.0 bg 0.0\n",
      "[1.0] [1.0, 0.0, 1.0, 1.0, 0.0, 1.0, 1.0, 0.0, 1.0, 0.0, 0.0, 0.0, 0.0, 1.0, 1.0]\n",
      "gini_ys [1.0, 0.0, 1.0, 1.0, 0.0, 1.0, 1.0, 0.0, 1.0, 0.0, 0.0, 0.0, 0.0, 1.0, 1.0] [1.0]\n",
      "[1.0, 0.0, 1.0, 1.0, 0.0, 1.0, 1.0, 0.0, 1.0, 0.0, 0.0, 0.0, 0.0, 1.0, 1.0, 1.0]\n",
      "15 16 0.9375\n",
      "0.0625\n"
     ]
    },
    {
     "ename": "TypeError",
     "evalue": "only size-1 arrays can be converted to Python scalars",
     "output_type": "error",
     "traceback": [
      "\u001b[0;31m---------------------------------------------------------------------------\u001b[0m",
      "\u001b[0;31mTypeError\u001b[0m                                 Traceback (most recent call last)",
      "\u001b[0;31mTypeError\u001b[0m: only size-1 arrays can be converted to Python scalars"
     ]
    },
    {
     "name": "stderr",
     "output_type": "stream",
     "text": [
      "Exception ignored in: '_cython_magic_ebc84f9105788ae415378d81cb7decd3.gini_index'\n",
      "Traceback (most recent call last):\n",
      "  File \"/tmp/ipykernel_629611/1138057044.py\", line 105, in _build\n",
      "TypeError: only size-1 arrays can be converted to Python scalars\n"
     ]
    },
    {
     "name": "stdout",
     "output_type": "stream",
     "text": [
      "g 0.0 bg 0.0\n",
      "[] [1.0, 1.0, 0.0, 1.0, 1.0, 0.0, 1.0, 1.0, 0.0, 1.0, 0.0, 0.0, 0.0, 0.0, 1.0, 1.0]\n",
      "gini_ys [1.0, 1.0, 0.0, 1.0, 1.0, 0.0, 1.0, 1.0, 0.0, 1.0, 0.0, 0.0, 0.0, 0.0, 1.0, 1.0] []\n",
      "[1.0, 1.0, 0.0, 1.0, 1.0, 0.0, 1.0, 1.0, 0.0, 1.0, 0.0, 0.0, 0.0, 0.0, 1.0, 1.0]\n",
      "16 16 1.0\n",
      "0.0\n"
     ]
    },
    {
     "ename": "TypeError",
     "evalue": "only size-1 arrays can be converted to Python scalars",
     "output_type": "error",
     "traceback": [
      "\u001b[0;31m---------------------------------------------------------------------------\u001b[0m",
      "\u001b[0;31mTypeError\u001b[0m                                 Traceback (most recent call last)",
      "\u001b[0;31mTypeError\u001b[0m: only size-1 arrays can be converted to Python scalars"
     ]
    },
    {
     "name": "stderr",
     "output_type": "stream",
     "text": [
      "Exception ignored in: '_cython_magic_ebc84f9105788ae415378d81cb7decd3.gini_index'\n",
      "Traceback (most recent call last):\n",
      "  File \"/tmp/ipykernel_629611/1138057044.py\", line 105, in _build\n",
      "TypeError: only size-1 arrays can be converted to Python scalars\n"
     ]
    },
    {
     "name": "stdout",
     "output_type": "stream",
     "text": [
      "g 0.0 bg 0.0\n",
      "3\n",
      "[1.0, 1.0, 1.0, 1.0, 1.0, 1.0, 0.0, 1.0, 0.0, 0.0, 1.0, 1.0] [0.0, 0.0, 0.0, 0.0]\n",
      "gini_ys [0.0, 0.0, 0.0, 0.0] [1.0, 1.0, 1.0, 1.0, 1.0, 1.0, 0.0, 1.0, 0.0, 0.0, 1.0, 1.0]\n",
      "[0.0, 0.0, 0.0, 0.0, 1.0, 1.0, 1.0, 1.0, 1.0, 1.0, 0.0, 1.0, 0.0, 0.0, 1.0, 1.0]\n",
      "4 16 0.25\n",
      "0.75\n"
     ]
    },
    {
     "ename": "TypeError",
     "evalue": "only size-1 arrays can be converted to Python scalars",
     "output_type": "error",
     "traceback": [
      "\u001b[0;31m---------------------------------------------------------------------------\u001b[0m",
      "\u001b[0;31mTypeError\u001b[0m                                 Traceback (most recent call last)",
      "\u001b[0;31mTypeError\u001b[0m: only size-1 arrays can be converted to Python scalars"
     ]
    },
    {
     "name": "stderr",
     "output_type": "stream",
     "text": [
      "Exception ignored in: '_cython_magic_ebc84f9105788ae415378d81cb7decd3.gini_index'\n",
      "Traceback (most recent call last):\n",
      "  File \"/tmp/ipykernel_629611/1138057044.py\", line 105, in _build\n",
      "TypeError: only size-1 arrays can be converted to Python scalars\n"
     ]
    },
    {
     "name": "stdout",
     "output_type": "stream",
     "text": [
      "g 0.0 bg 0.0\n",
      "[1.0, 1.0, 1.0, 1.0, 1.0, 1.0, 0.0, 1.0, 1.0, 1.0] [0.0, 0.0, 0.0, 0.0, 0.0, 0.0]\n",
      "gini_ys [0.0, 0.0, 0.0, 0.0, 0.0, 0.0] [1.0, 1.0, 1.0, 1.0, 1.0, 1.0, 0.0, 1.0, 1.0, 1.0]\n",
      "[0.0, 0.0, 0.0, 0.0, 0.0, 0.0, 1.0, 1.0, 1.0, 1.0, 1.0, 1.0, 0.0, 1.0, 1.0, 1.0]\n",
      "6 16 0.375\n",
      "0.625\n"
     ]
    },
    {
     "ename": "TypeError",
     "evalue": "only size-1 arrays can be converted to Python scalars",
     "output_type": "error",
     "traceback": [
      "\u001b[0;31m---------------------------------------------------------------------------\u001b[0m",
      "\u001b[0;31mTypeError\u001b[0m                                 Traceback (most recent call last)",
      "\u001b[0;31mTypeError\u001b[0m: only size-1 arrays can be converted to Python scalars"
     ]
    },
    {
     "name": "stderr",
     "output_type": "stream",
     "text": [
      "Exception ignored in: '_cython_magic_ebc84f9105788ae415378d81cb7decd3.gini_index'\n",
      "Traceback (most recent call last):\n",
      "  File \"/tmp/ipykernel_629611/1138057044.py\", line 105, in _build\n",
      "TypeError: only size-1 arrays can be converted to Python scalars\n"
     ]
    },
    {
     "name": "stdout",
     "output_type": "stream",
     "text": [
      "g 0.0 bg 0.0\n",
      "[1.0, 1.0, 1.0, 1.0, 1.0, 1.0, 1.0, 1.0, 1.0] [0.0, 0.0, 0.0, 0.0, 0.0, 0.0, 0.0]\n",
      "gini_ys [0.0, 0.0, 0.0, 0.0, 0.0, 0.0, 0.0] [1.0, 1.0, 1.0, 1.0, 1.0, 1.0, 1.0, 1.0, 1.0]\n",
      "[0.0, 0.0, 0.0, 0.0, 0.0, 0.0, 0.0, 1.0, 1.0, 1.0, 1.0, 1.0, 1.0, 1.0, 1.0, 1.0]\n",
      "7 16 0.4375\n",
      "0.5625\n"
     ]
    },
    {
     "ename": "TypeError",
     "evalue": "only size-1 arrays can be converted to Python scalars",
     "output_type": "error",
     "traceback": [
      "\u001b[0;31m---------------------------------------------------------------------------\u001b[0m",
      "\u001b[0;31mTypeError\u001b[0m                                 Traceback (most recent call last)",
      "\u001b[0;31mTypeError\u001b[0m: only size-1 arrays can be converted to Python scalars"
     ]
    },
    {
     "name": "stderr",
     "output_type": "stream",
     "text": [
      "Exception ignored in: '_cython_magic_ebc84f9105788ae415378d81cb7decd3.gini_index'\n",
      "Traceback (most recent call last):\n",
      "  File \"/tmp/ipykernel_629611/1138057044.py\", line 105, in _build\n",
      "TypeError: only size-1 arrays can be converted to Python scalars\n"
     ]
    },
    {
     "name": "stdout",
     "output_type": "stream",
     "text": [
      "g 0.0 bg 0.0\n",
      "[1.0, 1.0, 1.0, 1.0, 1.0, 1.0, 1.0, 1.0] [0.0, 0.0, 0.0, 0.0, 0.0, 0.0, 0.0, 1.0]\n",
      "gini_ys [0.0, 0.0, 0.0, 0.0, 0.0, 0.0, 0.0, 1.0] [1.0, 1.0, 1.0, 1.0, 1.0, 1.0, 1.0, 1.0]\n",
      "[0.0, 0.0, 0.0, 0.0, 0.0, 0.0, 0.0, 1.0, 1.0, 1.0, 1.0, 1.0, 1.0, 1.0, 1.0, 1.0]\n",
      "8 16 0.5\n",
      "0.5\n"
     ]
    },
    {
     "ename": "TypeError",
     "evalue": "only size-1 arrays can be converted to Python scalars",
     "output_type": "error",
     "traceback": [
      "\u001b[0;31m---------------------------------------------------------------------------\u001b[0m",
      "\u001b[0;31mTypeError\u001b[0m                                 Traceback (most recent call last)",
      "\u001b[0;31mTypeError\u001b[0m: only size-1 arrays can be converted to Python scalars"
     ]
    },
    {
     "name": "stderr",
     "output_type": "stream",
     "text": [
      "Exception ignored in: '_cython_magic_ebc84f9105788ae415378d81cb7decd3.gini_index'\n",
      "Traceback (most recent call last):\n",
      "  File \"/tmp/ipykernel_629611/1138057044.py\", line 105, in _build\n",
      "TypeError: only size-1 arrays can be converted to Python scalars\n"
     ]
    },
    {
     "name": "stdout",
     "output_type": "stream",
     "text": [
      "g 0.0 bg 0.0\n",
      "[1.0, 1.0, 1.0, 1.0, 1.0] [1.0, 0.0, 1.0, 0.0, 1.0, 0.0, 0.0, 0.0, 0.0, 0.0, 1.0]\n",
      "gini_ys [1.0, 0.0, 1.0, 0.0, 1.0, 0.0, 0.0, 0.0, 0.0, 0.0, 1.0] [1.0, 1.0, 1.0, 1.0, 1.0]\n",
      "[1.0, 0.0, 1.0, 0.0, 1.0, 0.0, 0.0, 0.0, 0.0, 0.0, 1.0, 1.0, 1.0, 1.0, 1.0, 1.0]\n",
      "11 16 0.6875\n",
      "0.3125\n"
     ]
    },
    {
     "ename": "TypeError",
     "evalue": "only size-1 arrays can be converted to Python scalars",
     "output_type": "error",
     "traceback": [
      "\u001b[0;31m---------------------------------------------------------------------------\u001b[0m",
      "\u001b[0;31mTypeError\u001b[0m                                 Traceback (most recent call last)",
      "\u001b[0;31mTypeError\u001b[0m: only size-1 arrays can be converted to Python scalars"
     ]
    },
    {
     "name": "stderr",
     "output_type": "stream",
     "text": [
      "Exception ignored in: '_cython_magic_ebc84f9105788ae415378d81cb7decd3.gini_index'\n",
      "Traceback (most recent call last):\n",
      "  File \"/tmp/ipykernel_629611/1138057044.py\", line 105, in _build\n",
      "TypeError: only size-1 arrays can be converted to Python scalars\n"
     ]
    },
    {
     "name": "stdout",
     "output_type": "stream",
     "text": [
      "g 0.0 bg 0.0\n",
      "[1.0, 1.0, 1.0, 1.0] [1.0, 0.0, 1.0, 0.0, 1.0, 0.0, 1.0, 0.0, 0.0, 0.0, 0.0, 1.0]\n",
      "gini_ys [1.0, 0.0, 1.0, 0.0, 1.0, 0.0, 1.0, 0.0, 0.0, 0.0, 0.0, 1.0] [1.0, 1.0, 1.0, 1.0]\n",
      "[1.0, 0.0, 1.0, 0.0, 1.0, 0.0, 1.0, 0.0, 0.0, 0.0, 0.0, 1.0, 1.0, 1.0, 1.0, 1.0]\n",
      "12 16 0.75\n",
      "0.25\n"
     ]
    },
    {
     "ename": "TypeError",
     "evalue": "only size-1 arrays can be converted to Python scalars",
     "output_type": "error",
     "traceback": [
      "\u001b[0;31m---------------------------------------------------------------------------\u001b[0m",
      "\u001b[0;31mTypeError\u001b[0m                                 Traceback (most recent call last)",
      "\u001b[0;31mTypeError\u001b[0m: only size-1 arrays can be converted to Python scalars"
     ]
    },
    {
     "name": "stderr",
     "output_type": "stream",
     "text": [
      "Exception ignored in: '_cython_magic_ebc84f9105788ae415378d81cb7decd3.gini_index'\n",
      "Traceback (most recent call last):\n",
      "  File \"/tmp/ipykernel_629611/1138057044.py\", line 105, in _build\n",
      "TypeError: only size-1 arrays can be converted to Python scalars\n"
     ]
    },
    {
     "name": "stdout",
     "output_type": "stream",
     "text": [
      "g 0.0 bg 0.0\n",
      "[1.0] [1.0, 1.0, 0.0, 1.0, 1.0, 0.0, 1.0, 0.0, 1.0, 0.0, 0.0, 0.0, 0.0, 1.0, 1.0]\n",
      "gini_ys [1.0, 1.0, 0.0, 1.0, 1.0, 0.0, 1.0, 0.0, 1.0, 0.0, 0.0, 0.0, 0.0, 1.0, 1.0] [1.0]\n",
      "[1.0, 1.0, 0.0, 1.0, 1.0, 0.0, 1.0, 0.0, 1.0, 0.0, 0.0, 0.0, 0.0, 1.0, 1.0, 1.0]\n",
      "15 16 0.9375\n",
      "0.0625\n"
     ]
    },
    {
     "ename": "TypeError",
     "evalue": "only size-1 arrays can be converted to Python scalars",
     "output_type": "error",
     "traceback": [
      "\u001b[0;31m---------------------------------------------------------------------------\u001b[0m",
      "\u001b[0;31mTypeError\u001b[0m                                 Traceback (most recent call last)",
      "\u001b[0;31mTypeError\u001b[0m: only size-1 arrays can be converted to Python scalars"
     ]
    },
    {
     "name": "stderr",
     "output_type": "stream",
     "text": [
      "Exception ignored in: '_cython_magic_ebc84f9105788ae415378d81cb7decd3.gini_index'\n",
      "Traceback (most recent call last):\n",
      "  File \"/tmp/ipykernel_629611/1138057044.py\", line 105, in _build\n",
      "TypeError: only size-1 arrays can be converted to Python scalars\n"
     ]
    },
    {
     "name": "stdout",
     "output_type": "stream",
     "text": [
      "g 0.0 bg 0.0\n",
      "[] [1.0, 1.0, 0.0, 1.0, 1.0, 0.0, 1.0, 1.0, 0.0, 1.0, 0.0, 0.0, 0.0, 0.0, 1.0, 1.0]\n",
      "gini_ys [1.0, 1.0, 0.0, 1.0, 1.0, 0.0, 1.0, 1.0, 0.0, 1.0, 0.0, 0.0, 0.0, 0.0, 1.0, 1.0] []\n",
      "[1.0, 1.0, 0.0, 1.0, 1.0, 0.0, 1.0, 1.0, 0.0, 1.0, 0.0, 0.0, 0.0, 0.0, 1.0, 1.0]\n",
      "16 16 1.0\n",
      "0.0\n"
     ]
    },
    {
     "ename": "TypeError",
     "evalue": "only size-1 arrays can be converted to Python scalars",
     "output_type": "error",
     "traceback": [
      "\u001b[0;31m---------------------------------------------------------------------------\u001b[0m",
      "\u001b[0;31mTypeError\u001b[0m                                 Traceback (most recent call last)",
      "\u001b[0;31mTypeError\u001b[0m: only size-1 arrays can be converted to Python scalars"
     ]
    },
    {
     "name": "stderr",
     "output_type": "stream",
     "text": [
      "Exception ignored in: '_cython_magic_ebc84f9105788ae415378d81cb7decd3.gini_index'\n",
      "Traceback (most recent call last):\n",
      "  File \"/tmp/ipykernel_629611/1138057044.py\", line 105, in _build\n",
      "TypeError: only size-1 arrays can be converted to Python scalars\n"
     ]
    },
    {
     "name": "stdout",
     "output_type": "stream",
     "text": [
      "g 0.0 bg 0.0\n",
      "4\n",
      "[1.0, 1.0, 1.0, 1.0, 1.0, 1.0, 1.0, 1.0, 1.0] [0.0, 0.0, 0.0, 0.0, 0.0, 0.0, 0.0]\n",
      "gini_ys [0.0, 0.0, 0.0, 0.0, 0.0, 0.0, 0.0] [1.0, 1.0, 1.0, 1.0, 1.0, 1.0, 1.0, 1.0, 1.0]\n",
      "[0.0, 0.0, 0.0, 0.0, 0.0, 0.0, 0.0, 1.0, 1.0, 1.0, 1.0, 1.0, 1.0, 1.0, 1.0, 1.0]\n",
      "7 16 0.4375\n",
      "0.5625\n"
     ]
    },
    {
     "ename": "TypeError",
     "evalue": "only size-1 arrays can be converted to Python scalars",
     "output_type": "error",
     "traceback": [
      "\u001b[0;31m---------------------------------------------------------------------------\u001b[0m",
      "\u001b[0;31mTypeError\u001b[0m                                 Traceback (most recent call last)",
      "\u001b[0;31mTypeError\u001b[0m: only size-1 arrays can be converted to Python scalars"
     ]
    },
    {
     "name": "stderr",
     "output_type": "stream",
     "text": [
      "Exception ignored in: '_cython_magic_ebc84f9105788ae415378d81cb7decd3.gini_index'\n",
      "Traceback (most recent call last):\n",
      "  File \"/tmp/ipykernel_629611/1138057044.py\", line 105, in _build\n",
      "TypeError: only size-1 arrays can be converted to Python scalars\n"
     ]
    },
    {
     "name": "stdout",
     "output_type": "stream",
     "text": [
      "g 0.0 bg 0.0\n",
      "[] [1.0, 1.0, 0.0, 1.0, 1.0, 0.0, 1.0, 1.0, 0.0, 1.0, 0.0, 0.0, 0.0, 0.0, 1.0, 1.0]\n",
      "gini_ys [1.0, 1.0, 0.0, 1.0, 1.0, 0.0, 1.0, 1.0, 0.0, 1.0, 0.0, 0.0, 0.0, 0.0, 1.0, 1.0] []\n",
      "[1.0, 1.0, 0.0, 1.0, 1.0, 0.0, 1.0, 1.0, 0.0, 1.0, 0.0, 0.0, 0.0, 0.0, 1.0, 1.0]\n",
      "16 16 1.0\n",
      "0.0\n"
     ]
    },
    {
     "ename": "TypeError",
     "evalue": "only size-1 arrays can be converted to Python scalars",
     "output_type": "error",
     "traceback": [
      "\u001b[0;31m---------------------------------------------------------------------------\u001b[0m",
      "\u001b[0;31mTypeError\u001b[0m                                 Traceback (most recent call last)",
      "\u001b[0;31mTypeError\u001b[0m: only size-1 arrays can be converted to Python scalars"
     ]
    },
    {
     "name": "stderr",
     "output_type": "stream",
     "text": [
      "Exception ignored in: '_cython_magic_ebc84f9105788ae415378d81cb7decd3.gini_index'\n",
      "Traceback (most recent call last):\n",
      "  File \"/tmp/ipykernel_629611/1138057044.py\", line 105, in _build\n",
      "TypeError: only size-1 arrays can be converted to Python scalars\n"
     ]
    },
    {
     "name": "stdout",
     "output_type": "stream",
     "text": [
      "g 0.0 bg 0.0\n",
      "{'feature_index': 4, 'split_point': 4.4, 'y_left': [0.0], 'y_right': [1.0, 1.0, 1.0, 1.0, 0.0, 1.0, 1.0, 0.0, 1.0, 0.0, 0.0, 0.0, 0.0, 1.0, 1.0], 'samples_left': [2], 'samples_right': [0, 1, 3, 4, 5, 6, 7, 8, 9, 10, 11, 12, 13, 14, 15], 'predictor': 0, 'gini': 0.0}\n"
     ]
    },
    {
     "ename": "SystemExit",
     "evalue": "",
     "output_type": "error",
     "traceback": [
      "An exception has occurred, use %tb to see the full traceback.\n",
      "\u001b[0;31mSystemExit\u001b[0m\n"
     ]
    }
   ],
   "source": [
    "class Node:\n",
    "    '''\n",
    "    Helper class which implements a single tree node.\n",
    "    '''\n",
    "    def __init__(self, feature=None, threshold=None, data_left=None, data_right=None, gini=None, value=None, gini_dict=None):\n",
    "        self.feature = feature\n",
    "        self.threshold = threshold\n",
    "        self.data_left = data_left\n",
    "        self.data_right = data_right\n",
    "        self.gini = gini\n",
    "        self.value = value\n",
    "        self.gini_dict = gini_dict\n",
    "import warnings\n",
    "warnings.filterwarnings('ignore')\n",
    "def _make_estimator(base_estimator, append=True, random_state=None):\n",
    "    \"\"\"Make and configure a copy of the `base_estimator_` attribute.\n",
    "\n",
    "    Warning: This method should be used to properly instantiate new\n",
    "    sub-estimators.\n",
    "    \"\"\"\n",
    "    estimator = base_estimator\n",
    "    # estimator.set_params(**{p: getattr(self, p) for p in self.estimator_params})\n",
    "    \n",
    "    estimators_= list()\n",
    "    if append:\n",
    "        estimators_.append(estimator)\n",
    "        return estimators_\n",
    "    else:\n",
    "        return estimator\n",
    "\n",
    "class DecisionTree:\n",
    "    '''\n",
    "    Class which implements a decision tree classifier algorithm.\n",
    "    '''\n",
    "    def __init__(self, min_samples_split=3, max_depth=50, random_state=5):\n",
    "        self.min_samples_split = min_samples_split\n",
    "        self.max_depth = max_depth\n",
    "        # self.max_features = max_features\n",
    "        self.root = None\n",
    "        self.nodes = []\n",
    "        self.n_features_ = 0\n",
    "        self.random_state = random_state\n",
    "        \n",
    "\n",
    "    def _best_split(self, X, y):\n",
    "        '''\n",
    "        Helper function, calculates the best split for given features and target\n",
    "        \n",
    "        :param X: np.array, features\n",
    "        :param y: np.array or list, target\n",
    "        :return: dict\n",
    "        '''\n",
    "        n, m = X.shape\n",
    "\n",
    "#         max_features = max(1, int(np.sqrt(m)))\n",
    "        X_subset = np.zeros((n, 1))  # initiating nested array with array number = # of samples\n",
    "        \n",
    "        #features_subset = np.random.choice(X.shape[1], max_features, replace=False)\n",
    "#         random_instance = np.random.RandomState(self.random_state)\n",
    "#         features_subset = random_instance.randint(0, m, max_features)\n",
    "        features_subset = np.array(range(0, m))\n",
    "\n",
    "        scaler = StandardScaler()\n",
    "        for f_idx in features_subset:\n",
    "            #pca_df = scaler.fit_transform(X[:, indeces])\n",
    "            df = X[:, f_idx]# takes value for relevant feature in all training samples\n",
    "            df = np.array([[i] for i in df])\n",
    "            X_subset = np.append(X_subset, df, axis=1)\n",
    "\n",
    "        X_subset = X_subset[:, 1:]\n",
    "#         X_subset = scaler.fit_transform(X_subset)\n",
    "\n",
    "        df_subset = np.concatenate((X_subset, np.array(y).reshape(1, -1).T), axis=1)\n",
    "        print(df_subset.shape)\n",
    "        # node_dict = {}\n",
    "        node_dict = get_best_split(df_subset) #features_subset)\n",
    "        # sys.exit()\n",
    "        return node_dict\n",
    "\n",
    "    def _build(self, X, y, depth=0):\n",
    "        '''\n",
    "        Helper recursive function, used to build a decision tree from the input data.\n",
    "        \n",
    "        :param X: np.array, features\n",
    "        :param y: np.array or list, target\n",
    "        :param depth: current depth of a tree, used as a stopping criteria\n",
    "        :return: Node\n",
    "        '''\n",
    "        n_rows, n_cols = X.shape\n",
    "        self.random_state+=1\n",
    "    # # CHECK Zero-Node left or right => both have same class\n",
    "    #     if node['left'].shape[0] == 0 or node['right'].shape[0] == 0:\n",
    "    #         if node['left'].shape[0] == 0:\n",
    "    #             node['left'] = node['right']\n",
    "    #         else:\n",
    "    #             node['right'] = node['left']\n",
    "    #         add_endnode(node, left=True, right=True)\n",
    "    #         if depth == 1:\n",
    "    #             return node\n",
    "    #         return\n",
    "        # best = self._best_split(X, y)\n",
    "        # print(best)\n",
    "        df_subset = np.concatenate((X, np.array(y).reshape(1, -1).T), axis=1)\n",
    "\n",
    "        root_node = get_best_split(df_subset)\n",
    "        sys.exit()\n",
    "        tree = recurse_tree(root_node, 1,  100, 100)\n",
    "        print(tree)\n",
    "        return tree\n",
    "#     # CHECK Zero-Node left or right => both have same class\n",
    "#         if len(best['y_left']) == 0 or len(best['y_right']) == 0:\n",
    "#             if len(best['y_left']) == 0:\n",
    "#                 best['y_left'] = best['y_right']\n",
    "#             else:\n",
    "#                 best['y_right'] = best['y_right']\n",
    "#             add_endnode(best, left=True, right=True)\n",
    "#             if depth == 1:\n",
    "#                 return node\n",
    "#             return\n",
    "#         # Check to see if a node should be leaf node\n",
    "#         if n_rows >= self.min_samples_split and depth <= self.max_depth:\n",
    "\n",
    "#             # Get the best split\n",
    "#             best = self._best_split(X, y)\n",
    "            \n",
    "#             if best == {}:\n",
    "#                 print('this is it')\n",
    "#                 pass\n",
    "#             #If the split isn't pure\n",
    "#             if best['gini'] > 0:\n",
    "#                 #self.random_state+=1\n",
    "#                 self.nodes.append(best)\n",
    "#                 # Build a tree on the left\n",
    "#                 left = self._build(\n",
    "#                     X=X[best['samples_left'], :], \n",
    "#                     y=best['y_left'], \n",
    "#                     depth=depth + 1,\n",
    "#                     # random_state = random_state + 1\n",
    "#                 )\n",
    "#                 right = self._build(\n",
    "#                     X=X[best['samples_right'], :], \n",
    "#                     y=best['y_right'], \n",
    "#                     depth=depth + 1,\n",
    "#                     # random_state = random_state + 1\n",
    "#                 )\n",
    "# #                 return Node(\n",
    "# #                         feature=best['predictor'], \n",
    "# #                         threshold=best['split_point'], \n",
    "# #                         data_left=left, \n",
    "# #                         data_right=right, \n",
    "# #                         gini=best['gini']\n",
    "# #                 )\n",
    "# #         value=Counter(y).most_common(1)[0][0]\n",
    "# #         return Node(\n",
    "# #             value=Counter(y).most_common(1)[0][0]\n",
    "# #         )\n",
    "#                 node={\n",
    "#                         'feature':best['predictor'], \n",
    "#                         'threshold':best['split_point'], \n",
    "#                         'data_left':left, \n",
    "#                         'data_right':right, \n",
    "#                         'gini':best['gini']}\n",
    "#         node = {'value':Counter(y).most_common(1)[0][0]}\n",
    "#         #print('node-val', node)\n",
    "#         return node\n",
    "    \n",
    "    def fit(self, X, y, random_state):\n",
    "        '''\n",
    "        Function used to train a decision tree classifier model.\n",
    "        \n",
    "        :param X: np.array, features\n",
    "        :param y: np.array or list, target\n",
    "        :return: None\n",
    "        '''\n",
    "        # Call a recursive function to build the tree\n",
    "        n, m = X.shape\n",
    "        self.n_features_ = m\n",
    "        #self.random_state = random_state\n",
    "        self.root = self._build(X, y)\n",
    "        \n",
    "        self.nodes.append(self.root)\n",
    "        self.update_feature_importances()\n",
    "        # f = open(\"nodes_100T_50nn.txt\", \"a\")\n",
    "        # f.write(repr(self.nodes))\n",
    "        # f.close()\n",
    "        \n",
    "    def _predict(self, x, tree):\n",
    "        '''\n",
    "        Helper recursive function, used to predict a single instance (tree traversal).\n",
    "        \n",
    "        :param x: single observation\n",
    "        :param tree: built tree\n",
    "        :return: float, predicted class\n",
    "        '''\n",
    "\n",
    "# #         # Leaf node\n",
    "#         print(tree)\n",
    "        if tree['value'] != None:\n",
    "            return tree['value']\n",
    "        \n",
    "#          #scaled_x = (x[tree.feature]-tree.mean)/tree.variance # scaling x based on node\n",
    "        \n",
    "#         # this needs to be multiplied with the loading of feature \n",
    "        feature_value = x[tree['predictor']]\n",
    "        print(feature_value, tree['threshold'])\n",
    "        \n",
    "        # Go to the left\n",
    "        if feature_value <= tree['threshold']:\n",
    "            print('left')\n",
    "            return self._predict(x=x, tree=tree['data_left'])\n",
    "        \n",
    "        # Go to the right\n",
    "        if feature_value > tree['threshold']:\n",
    "            print('right')\n",
    "            return self._predict(x=x, tree=tree['data_right'])\n",
    "#         if tree.value != None:\n",
    "#             return tree.value\n",
    "#         feature_value = x[tree.feature]\n",
    "        \n",
    "#         # Go to the left\n",
    "#         if feature_value <= tree.threshold:\n",
    "#             return self._predict(x=x, tree=tree.data_left)\n",
    "        \n",
    "#         # Go to the right\n",
    "#         if feature_value > tree.threshold:\n",
    "#             return self._predict(x=x, tree=tree.data_right)\n",
    "        \n",
    "        \n",
    "    def predict(self, X):\n",
    "        '''\n",
    "        Function used to classify new instances.\n",
    "        \n",
    "        :param X: np.array, features\n",
    "        :return: np.array, predicted classes\n",
    "        '''\n",
    "        print(self.root)\n",
    "        # Call the _predict() function for every observation\n",
    "        return [self._predict(x, self.root) for x in X]\n",
    "    \n",
    "    def get_feature_importances(self):\n",
    "        return self.feature_importances_\n",
    "\n",
    "    def update_feature_importances(self):\n",
    "        if self.n_features_ == 0:\n",
    "            return None\n",
    "        self.feature_importances_ = np.zeros(self.n_features_)\n",
    "        J = len(self.nodes)\n",
    "        if J > 0:\n",
    "            for j, node in enumerate(self.nodes[:-1]):\n",
    "                print('node', node)\n",
    "                # pd.DataFrame(node).to_csv('leaves_lavaset10v2.csv', mode='a')\n",
    "                predictor = node['predictor']\n",
    "                value = node['gini']\n",
    "                self.feature_importances_[predictor] += value\n",
    "        self.feature_importances_ /= sum(self.feature_importances_)\n",
    "\n",
    "        return self.feature_importances_ \n",
    "    \n",
    "nmr_peaks = pd.read_csv('~/Documents/IBS/NMR_data/IBS_HNMR_data_n267.csv')\n",
    "\n",
    "# y = np.array(nmr_peaks.iloc[:, 1])\n",
    "\n",
    "\n",
    "# X = np.array(nmr_peaks.iloc[:50, 15000:16000])\n",
    "# #y = np.array(nmr_peaks.iloc[:, 1])\n",
    "# y = pd.read_csv('testing/formate_cluster_labels.txt', header=None).iloc[:50, 0].to_numpy(dtype=int)\n",
    "iris = datasets.load_iris()\n",
    "X = iris.data[40:60]  \n",
    "y = iris.target[40:60]\n",
    "X_train, X_test, y_train, y_test = train_test_split(X, y, test_size=0.2, random_state=180)\n",
    "# print(pd.DataFrame(X_train))\n",
    "\n",
    "scaler = StandardScaler()\n",
    "scaler.fit(X_train)\n",
    "X_test = scaler.transform(X_test)\n",
    "\n",
    "start = time.time()\n",
    "model = DecisionTree()\n",
    "model.fit(X_train, y_train, random_state=10)\n",
    "preds = model.predict(X_test)\n",
    "print(preds)\n",
    "print(accuracy_score(preds, y_test))\n",
    "feat = model.get_feature_importances()\n",
    "print(feat)\n",
    "end = time.time()\n",
    "print(end-start)\n"
   ]
  },
  {
   "cell_type": "markdown",
   "id": "6708f46e-9262-42b5-9919-cf7f7038f9a2",
   "metadata": {},
   "source": [
    "error is found in endnode calculation -- at this moment when the gini statement is not true, so gini is not better than next gini the function returns an empty dictionary. this empty dict has no value for gini so when it goes through the `_build` function it returns the this is it statement and a KeyError for not finding gini\n",
    "\n",
    "- therefore need to fix how to calculate and add an endnote \n",
    "- and also split to the last leaf nodes "
   ]
  },
  {
   "cell_type": "code",
   "execution_count": 40,
   "id": "a073c5b7",
   "metadata": {},
   "outputs": [
    {
     "data": {
      "text/html": [
       "<div>\n",
       "<style scoped>\n",
       "    .dataframe tbody tr th:only-of-type {\n",
       "        vertical-align: middle;\n",
       "    }\n",
       "\n",
       "    .dataframe tbody tr th {\n",
       "        vertical-align: top;\n",
       "    }\n",
       "\n",
       "    .dataframe thead th {\n",
       "        text-align: right;\n",
       "    }\n",
       "</style>\n",
       "<table border=\"1\" class=\"dataframe\">\n",
       "  <thead>\n",
       "    <tr style=\"text-align: right;\">\n",
       "      <th></th>\n",
       "      <th>0</th>\n",
       "      <th>1</th>\n",
       "      <th>2</th>\n",
       "      <th>3</th>\n",
       "    </tr>\n",
       "  </thead>\n",
       "  <tbody>\n",
       "    <tr>\n",
       "      <th>0</th>\n",
       "      <td>5.0</td>\n",
       "      <td>3.5</td>\n",
       "      <td>1.3</td>\n",
       "      <td>0.3</td>\n",
       "    </tr>\n",
       "    <tr>\n",
       "      <th>0</th>\n",
       "      <td>4.5</td>\n",
       "      <td>2.3</td>\n",
       "      <td>1.3</td>\n",
       "      <td>0.3</td>\n",
       "    </tr>\n",
       "    <tr>\n",
       "      <th>0</th>\n",
       "      <td>4.4</td>\n",
       "      <td>3.2</td>\n",
       "      <td>1.3</td>\n",
       "      <td>0.2</td>\n",
       "    </tr>\n",
       "    <tr>\n",
       "      <th>0</th>\n",
       "      <td>5.0</td>\n",
       "      <td>3.5</td>\n",
       "      <td>1.6</td>\n",
       "      <td>0.6</td>\n",
       "    </tr>\n",
       "    <tr>\n",
       "      <th>0</th>\n",
       "      <td>5.1</td>\n",
       "      <td>3.8</td>\n",
       "      <td>1.9</td>\n",
       "      <td>0.4</td>\n",
       "    </tr>\n",
       "    <tr>\n",
       "      <th>0</th>\n",
       "      <td>4.8</td>\n",
       "      <td>3.0</td>\n",
       "      <td>1.4</td>\n",
       "      <td>0.3</td>\n",
       "    </tr>\n",
       "    <tr>\n",
       "      <th>0</th>\n",
       "      <td>5.1</td>\n",
       "      <td>3.8</td>\n",
       "      <td>1.6</td>\n",
       "      <td>0.2</td>\n",
       "    </tr>\n",
       "    <tr>\n",
       "      <th>0</th>\n",
       "      <td>4.6</td>\n",
       "      <td>3.2</td>\n",
       "      <td>1.4</td>\n",
       "      <td>0.2</td>\n",
       "    </tr>\n",
       "    <tr>\n",
       "      <th>0</th>\n",
       "      <td>5.3</td>\n",
       "      <td>3.7</td>\n",
       "      <td>1.5</td>\n",
       "      <td>0.2</td>\n",
       "    </tr>\n",
       "    <tr>\n",
       "      <th>0</th>\n",
       "      <td>5.0</td>\n",
       "      <td>3.3</td>\n",
       "      <td>1.4</td>\n",
       "      <td>0.2</td>\n",
       "    </tr>\n",
       "    <tr>\n",
       "      <th>1</th>\n",
       "      <td>7.0</td>\n",
       "      <td>3.2</td>\n",
       "      <td>4.7</td>\n",
       "      <td>1.4</td>\n",
       "    </tr>\n",
       "    <tr>\n",
       "      <th>1</th>\n",
       "      <td>6.4</td>\n",
       "      <td>3.2</td>\n",
       "      <td>4.5</td>\n",
       "      <td>1.5</td>\n",
       "    </tr>\n",
       "    <tr>\n",
       "      <th>1</th>\n",
       "      <td>6.9</td>\n",
       "      <td>3.1</td>\n",
       "      <td>4.9</td>\n",
       "      <td>1.5</td>\n",
       "    </tr>\n",
       "    <tr>\n",
       "      <th>1</th>\n",
       "      <td>5.5</td>\n",
       "      <td>2.3</td>\n",
       "      <td>4.0</td>\n",
       "      <td>1.3</td>\n",
       "    </tr>\n",
       "    <tr>\n",
       "      <th>1</th>\n",
       "      <td>6.5</td>\n",
       "      <td>2.8</td>\n",
       "      <td>4.6</td>\n",
       "      <td>1.5</td>\n",
       "    </tr>\n",
       "    <tr>\n",
       "      <th>1</th>\n",
       "      <td>5.7</td>\n",
       "      <td>2.8</td>\n",
       "      <td>4.5</td>\n",
       "      <td>1.3</td>\n",
       "    </tr>\n",
       "    <tr>\n",
       "      <th>1</th>\n",
       "      <td>6.3</td>\n",
       "      <td>3.3</td>\n",
       "      <td>4.7</td>\n",
       "      <td>1.6</td>\n",
       "    </tr>\n",
       "    <tr>\n",
       "      <th>1</th>\n",
       "      <td>4.9</td>\n",
       "      <td>2.4</td>\n",
       "      <td>3.3</td>\n",
       "      <td>1.0</td>\n",
       "    </tr>\n",
       "    <tr>\n",
       "      <th>1</th>\n",
       "      <td>6.6</td>\n",
       "      <td>2.9</td>\n",
       "      <td>4.6</td>\n",
       "      <td>1.3</td>\n",
       "    </tr>\n",
       "    <tr>\n",
       "      <th>1</th>\n",
       "      <td>5.2</td>\n",
       "      <td>2.7</td>\n",
       "      <td>3.9</td>\n",
       "      <td>1.4</td>\n",
       "    </tr>\n",
       "  </tbody>\n",
       "</table>\n",
       "</div>"
      ],
      "text/plain": [
       "     0    1    2    3\n",
       "0  5.0  3.5  1.3  0.3\n",
       "0  4.5  2.3  1.3  0.3\n",
       "0  4.4  3.2  1.3  0.2\n",
       "0  5.0  3.5  1.6  0.6\n",
       "0  5.1  3.8  1.9  0.4\n",
       "0  4.8  3.0  1.4  0.3\n",
       "0  5.1  3.8  1.6  0.2\n",
       "0  4.6  3.2  1.4  0.2\n",
       "0  5.3  3.7  1.5  0.2\n",
       "0  5.0  3.3  1.4  0.2\n",
       "1  7.0  3.2  4.7  1.4\n",
       "1  6.4  3.2  4.5  1.5\n",
       "1  6.9  3.1  4.9  1.5\n",
       "1  5.5  2.3  4.0  1.3\n",
       "1  6.5  2.8  4.6  1.5\n",
       "1  5.7  2.8  4.5  1.3\n",
       "1  6.3  3.3  4.7  1.6\n",
       "1  4.9  2.4  3.3  1.0\n",
       "1  6.6  2.9  4.6  1.3\n",
       "1  5.2  2.7  3.9  1.4"
      ]
     },
     "execution_count": 40,
     "metadata": {},
     "output_type": "execute_result"
    }
   ],
   "source": [
    "iris = datasets.load_iris()\n",
    "X = iris.data[40:60]  \n",
    "y = iris.target[40:60]\n",
    "pd.DataFrame(X, y)"
   ]
  },
  {
   "cell_type": "code",
   "execution_count": 5,
   "id": "dce3085a",
   "metadata": {},
   "outputs": [
    {
     "name": "stdout",
     "output_type": "stream",
     "text": [
      "[0 0 0 0] [0 0 0 1]\n",
      "0.75\n",
      "              precision    recall  f1-score   support\n",
      "\n",
      "           0       1.00      0.75      0.86         4\n",
      "           1       0.00      0.00      0.00         0\n",
      "\n",
      "    accuracy                           0.75         4\n",
      "   macro avg       0.50      0.38      0.43         4\n",
      "weighted avg       1.00      0.75      0.86         4\n",
      "\n"
     ]
    },
    {
     "data": {
      "image/png": "[encoded data removed]",
      "text/plain": [
       "<Figure size 432x288 with 1 Axes>"
      ]
     },
     "metadata": {
      "needs_background": "light"
     },
     "output_type": "display_data"
    },
    {
     "name": "stdout",
     "output_type": "stream",
     "text": [
      "[0. 0. 1. 0.]\n"
     ]
    }
   ],
   "source": [
    "### nmr_peaks = pd.read_csv('~/Documents/IBS/NMR_data/IBS_HNMR_data_n267.csv')\n",
    "\n",
    "# X = np.array(nmr_peaks.iloc[:50, 15000:16000])\n",
    "# #y = np.array(nmr_peaks.iloc[:, 1])\n",
    "# y = pd.read_csv('testing/formate_cluster_labels.txt', header=None).iloc[:50, 0].to_numpy(dtype=int)\n",
    "iris = datasets.load_iris()\n",
    "X = iris.data[40:60]   \n",
    "y = iris.target[40:60] \n",
    "X_train, X_test, y_train, y_test = train_test_split(X, y, test_size=0.2, random_state=180)\n",
    "\n",
    "scaler = StandardScaler()\n",
    "scaler.fit(X_train)\n",
    "X_test = scaler.transform(X_test)\n",
    "model = DecisionTreeClassifier(max_features=None)\n",
    "model.fit(X_train, y_train)\n",
    "preds = model.predict(X_test)\n",
    "print(preds, y_test)\n",
    "print(accuracy_score(preds, y_test))\n",
    "print(classification_report(preds,y_test))\n",
    "\n",
    "from sklearn import tree\n",
    "tree.plot_tree(model)\n",
    "plt.show()\n",
    "print(model.feature_importances_)"
   ]
  },
  {
   "cell_type": "code",
   "execution_count": null,
   "id": "02bbdf63",
   "metadata": {},
   "outputs": [],
   "source": [
    "class RandomForest:\n",
    "    '''\n",
    "    A class that implements Random Forest algorithm from scratch.\n",
    "    '''\n",
    "    def __init__(self, num_trees=1000, min_samples_split=3, max_depth=1000, max_samples=70):\n",
    "        self.num_trees = num_trees\n",
    "        self.min_samples_split = min_samples_split\n",
    "        self.max_depth = max_depth\n",
    "        self.max_samples = max_samples\n",
    "        # Will store individually trained decision trees\n",
    "        self.decision_trees = []\n",
    "    \n",
    "\n",
    "    @staticmethod\n",
    "    def _generate_sample_indices(random_state, n_samples, max_samples):\n",
    "        random_instance = np.random.RandomState(random_state)\n",
    "        sample_indices = random_instance.randint(0, n_samples, max_samples)\n",
    "        return sample_indices\n",
    "\n",
    "    def _parallel_build_trees(self, tree, X, y, idx):\n",
    "\n",
    "        print(\"building tree %d of %d\" % (idx + 1, self.num_trees))\n",
    "        # Obtain data sample\n",
    "        # n_rows, n_cols = X.shape\n",
    "        #     # Sample with replacement\n",
    "        # samples = np.random.choice(a=n_rows, size=int(n_rows/2), replace=True)\n",
    "        indices = self._generate_sample_indices(idx, X.shape[0], 10)\n",
    "        # # this shuffles features for max_features to be different in trees \n",
    "        # f_indices = self._generate_feature_indices(idx, X.shape[1])\n",
    "        # print(f_indices)\n",
    "        X_sub = X[indices, :]\n",
    "        # X_sub = X_sub[:, f_indices]\n",
    "        _y_sub = y[indices]\n",
    "        df_train = pd.DataFrame(X_sub)\n",
    "        df_train[-1] = _y_sub\n",
    "        # Train\n",
    "        tree.fit(X_sub, _y_sub, random_state=idx)\n",
    "        # Save the classifier\n",
    "        self.decision_trees.append(tree)\n",
    "        return tree\n",
    "\n",
    "\n",
    "    def fit(self, X, y):\n",
    "        '''\n",
    "        Trains a Random Forest classifier.\n",
    "\n",
    "        :param X: np.array, features\n",
    "        :param y: np.array, target\n",
    "        :return: None\n",
    "        '''\n",
    "        n_more_dts = self.num_trees - len(self.decision_trees)\n",
    "        # trees = _make_estimator(DecisionTree(), append=True)\n",
    "\n",
    "        trees = [_make_estimator(DecisionTree(), append=False)\n",
    "                for i in range(n_more_dts)\n",
    "                ]\n",
    "\n",
    "        # print('make estimator results', trees)\n",
    "        trees = Parallel(\n",
    "                n_jobs=-1,\n",
    "                verbose=5,\n",
    "                backend='multiprocessing')(delayed(self._parallel_build_trees)(tree, X, y, i) \n",
    "                for i, tree in enumerate(trees)\n",
    "            )\n",
    "\n",
    "        self.decision_trees.extend(trees)\n",
    "\n",
    "    def predict(self, X):\n",
    "        '''\n",
    "        Predicts class labels for new data instances.\n",
    "\n",
    "        :param X: np.array, new instances to predict\n",
    "        :return: \n",
    "        '''\n",
    "            # Make predictions with every tree in the forest\n",
    "        y = []\n",
    "        for tree in self.decision_trees:\n",
    "            y.append(tree.predict(X))\n",
    "            # Reshape so we can find the most common value\n",
    "        y = np.swapaxes(a=y, axis1=0, axis2=1)\n",
    "\n",
    "            # Use majority voting for the final prediction\n",
    "        predictions = []\n",
    "\n",
    "        for i, preds in enumerate(y):\n",
    "            counter = Counter(y[i])\n",
    "            predictions.append(counter.most_common(1)[0][0])\n",
    "        return predictions\n",
    "        \n",
    "    def get_importances(self, X):\n",
    "        all_importances = np.zeros(X.shape[1])\n",
    "        for tree in self.decision_trees:\n",
    "            importance_per_tree = np.array(tree.feature_importances_)\n",
    "            # all_importances = np.concatenate(all_importances, importance_per_tree)\n",
    "            all_importances = np.vstack((all_importances, importance_per_tree))\n",
    "\n",
    "        all_importances = np.mean(all_importances, axis=0, dtype=np.float64)\n",
    "        return all_importances / np.sum(all_importances)"
   ]
  },
  {
   "cell_type": "code",
   "execution_count": null,
   "id": "70f3d7cc-ae36-4a01-a201-ca7fc6695f78",
   "metadata": {},
   "outputs": [],
   "source": [
    "nmr_peaks = pd.read_csv('~/Documents/IBS/NMR_data/IBS_HNMR_data_n267.csv')\n",
    "X = np.array(nmr_peaks.iloc[:55, 3:])\n",
    "y = np.array(nmr_peaks.iloc[:55, 1])\n",
    "\n",
    "from sklearn.model_selection import train_test_split\n",
    "\n",
    "X_train, X_test, y_train, y_test = train_test_split(X, y, test_size=0.2, random_state=140)\n",
    "# print(pd.DataFrame(X_train))\n",
    "\n",
    "scaler = StandardScaler()\n",
    "scaler.fit(X_train)\n",
    "X_test = scaler.transform(X_test)\n",
    "# model = RandomForestClassifier(n_estimators=7)\n",
    "# model.fit(X_train, y_train)\n",
    "# preds = model.predict(X_test)\n",
    "# print(preds)\n",
    "# print(accuracy_score(y_test, preds))\n",
    "X_test.min()"
   ]
  },
  {
   "cell_type": "code",
   "execution_count": null,
   "id": "118853d9-6f9c-4fc4-8b35-1c03c7c97951",
   "metadata": {},
   "outputs": [],
   "source": [
    "accuracy_score([1.0, 1.0, 1.0, 1.0, 1.0, 1.0, 1.0, 1.0, 1.0, 1.0, 1.0, 1.0, 1.0, 1.0, 1.0, 1.0, 1.0, 1.0, 1.0, 1.0, 1.0, 1.0, 1.0, 1.0, 1.0, 1.0, 1.0, 1.0, 1.0, 1.0, 1.0, 1.0, 1.0, 1.0, 1.0, 1.0, 1.0, 1.0, 1.0, 1.0, 1.0, 1.0, 1.0, 1.0, 1.0, 1.0, 1.0, 1.0, 1.0, 1.0, 1.0, 1.0, 1.0, 1.0], y_test)"
   ]
  },
  {
   "cell_type": "code",
   "execution_count": null,
   "id": "0f0ae48b-8719-463f-8cd7-e8d3384cf3a2",
   "metadata": {},
   "outputs": [],
   "source": [
    "# def add_endnode(node, left, right):\n",
    "#     if left:\n",
    "#         most_common_class = np.bincount(node['left'][:, -1].astype('int')).argmax()\n",
    "#         node['left_node'] = {'end_node': True, 'y_hat': most_common_class}\n",
    "#         del node['left']\n",
    "#     if right:\n",
    "#         most_common_class = np.bincount(node['right'][:, -1].astype('int')).argmax()\n",
    "#         node['right_node'] = {'end_node': True, 'y_hat': most_common_class}\n",
    "#         del node['right']"
   ]
  },
  {
   "cell_type": "code",
   "execution_count": null,
   "id": "0e88949a-6b8f-4074-955c-1eccbccc77ef",
   "metadata": {},
   "outputs": [],
   "source": [
    "# import sys\n",
    "\n",
    "# def _make_estimator(base_estimator, append=True, random_state=None):\n",
    "#     \"\"\"Make and configure a copy of the `base_estimator_` attribute.\n",
    "\n",
    "#     Warning: This method should be used to properly instantiate new\n",
    "#     sub-estimators.\n",
    "#     \"\"\"\n",
    "#     estimator = base_estimator\n",
    "#     # estimator.set_params(**{p: getattr(self, p) for p in self.estimator_params})\n",
    "    \n",
    "#     estimators_= list()\n",
    "#     if append:\n",
    "#         estimators_.append(estimator)\n",
    "#         return estimators_\n",
    "#     else:\n",
    "#         return estimator\n",
    "\n",
    "# class DecisionTree:\n",
    "#     def __init__(self,  min_samples_split=2, max_depth=100):\n",
    "\n",
    "#         self.min_samples_split = min_samples_split\n",
    "#         self.max_depth = max_depth\n",
    "        \n",
    "# def best_split (self, X, y)\n",
    "#     n, m = X.shape\n",
    "#     # self.n_features_ = n_cols\n",
    "\n",
    "#     max_features = max(1, int(np.sqrt(m)))\n",
    "#     X_pca = np.zeros((X.shape[0], 1))  # initiating nested array with array number = # of samples\n",
    "#     # loadings = np.zeros(((5*2+1), self.max_features))\n",
    "#     loadings = dict()\n",
    "\n",
    "#     features_subset = list()\n",
    "#     while len(features_subset) < max_features:\n",
    "#         index = randrange(n)\n",
    "#         if index not in features_subset:\n",
    "#             features_subset.append(index)\n",
    "#     # indexes = pd.read_csv('~/Documents/cmr_rf/nmr_knn_index2.csv')\n",
    "#     indexes = pd.read_csv('~/Documents/cmr_rf/nmr_knn_index_10k1050.csv').to_numpy()\n",
    "#     loadings = {}\n",
    "#     scaler = StandardScaler()\n",
    "\n",
    "#         # indexes = pd.read_csv('~/Documents/cmr_rf/nmr_knn_index_10k15k.csv')\n",
    "#     for f_idx in features_subset:\n",
    "#         indeces = indexes[f_idx].tolist()\n",
    "#         pca_df = scaler.fit_transform(X[:, indeces])  # takes value for relevant feature in all training samples\n",
    "#         # print(pd.DataFrame(pca_df))\n",
    "#         pca = PCA(n_components=1)\n",
    "#         X_pca = np.append(X_pca, pca.fit_transform(pca_df), axis=1)\n",
    "#         loadings[f_idx] = np.ravel(pca.components_.T)\n",
    "\n",
    "#     X_pca = X_pca[:, 1:]  # remove the 0s from initialising array\n",
    "#     best_split = get_best_split(X_pca,features_subset, loadings, indexes)\n",
    "#     print(pd.DataFrame(X_pca), features_subset, loadings, indexes)\n",
    "\n",
    "# def is_pure(self, Y):\n",
    "#     return np.unique(Y).size == 1\n",
    "\n",
    "# def add_endnode(self, node, left, right):\n",
    "#     if left:\n",
    "#         most_common_class = np.bincount(node['left'][:, -1].astype('int')).argmax()\n",
    "#         node['left_node'] = {'end_node': True, 'y_hat': most_common_class}\n",
    "#         del node['left']\n",
    "#     if right:\n",
    "#         most_common_class = np.bincount(node['right'][:, -1].astype('int')).argmax()\n",
    "#         node['right_node'] = {'end_node': True, 'y_hat': most_common_class}\n",
    "#         del node['right']\n",
    "\n",
    "# def build (self, X,y, node, depth, max_depth, max_x): # resurse tree function  \n",
    "#      # CHECK Zero-Node left or right => both have same class\n",
    "#     if node['left'].shape[0] == 0 or node['right'].shape[0] == 0:\n",
    "#         if node['left'].shape[0] == 0:\n",
    "#             node['left'] = node['right']\n",
    "#         else:\n",
    "#             node['right'] = node['left']\n",
    "#         add_endnode(node, left=True, right=True)\n",
    "#         if depth == 1:\n",
    "#             return node\n",
    "#         return\n",
    "\n",
    "#     # CHECK branch depth\n",
    "#     if depth >= max_depth:\n",
    "#         add_endnode(node, left=True, right=True)\n",
    "#         return\n",
    "    \n",
    "#     # CHECK max_x & convergence else: recurse further\n",
    "#     if node['left'].shape[0] <= max_x or is_pure(node['left'][:, -1].astype('int')):\n",
    "#         add_endnode(node, left=True, right=False)\n",
    "#     else:\n",
    "#         left_node = get_best_split(node['left'], features, indexes, loadings)\n",
    "#         del node['left']\n",
    "#         node['left_node'] = left_node\n",
    "#         recurse_tree(node['left_node'], depth+1, max_depth, max_x)\n",
    "\n",
    "#     if node['right'].shape[0] <= max_x or is_pure(node['right'][:, -1].astype('int')):\n",
    "#         add_endnode(node, right=True, left=False)\n",
    "#     else:\n",
    "#         right_node = get_best_split(node['right'], features, indexes, loadings)\n",
    "#         del node['right']\n",
    "#         node['right_node'] = right_node\n",
    "#         recurse_tree(node['right_node'], depth+1, max_depth, max_x)\n",
    "\n",
    "#     # entire decision-tree\n",
    "#     return node\n",
    "\n",
    "# def fit(self, X, y):\n",
    "#     data = pd.DataFrame(X)\n",
    "#     data[-1] = y\n",
    "#     root_node = best_split(data)\n",
    "#     tree = build(root_node, 1, max_depth, max_x)\n",
    "#     decision_tree.append(tree)\n",
    "\n",
    "# class RandomForest:\n",
    "#     '''\n",
    "#     A class that implements Random Forest algorithm from scratch.\n",
    "#     '''\n",
    "#     def __init__(self, num_trees=10, min_samples_split=2, max_depth=100):\n",
    "#         self.num_trees = num_trees\n",
    "#         self.min_samples_split = min_samples_split\n",
    "#         self.max_depth = max_depth\n",
    "#         # Will store individually trained decision trees\n",
    "#         # self.decision_trees = []\n",
    "    \n",
    "#     def pca_loading_best_split(X, y):\n",
    "#         '''\n",
    "#     Helper function, calculates the best split for given features and target\n",
    "\n",
    "#     :param X: np.array, features\n",
    "#     :param y: np.array or list, target\n",
    "#     :return: dict\n",
    "#         '''\n",
    "#         n, m = X.shape\n",
    "#         # self.n_features_ = n_cols\n",
    "\n",
    "#         max_features = max(1, int(np.sqrt(m)))\n",
    "#         X_pca = np.zeros((X.shape[0], 1))  # initiating nested array with array number = # of samples\n",
    "#         # loadings = np.zeros(((5*2+1), self.max_features))\n",
    "#         loadings = dict()\n",
    "\n",
    "#         features_subset = list()\n",
    "#         while len(features_subset) < max_features:\n",
    "#             index = randrange(n)\n",
    "#             if index not in features_subset:\n",
    "#                 features_subset.append(index)\n",
    "#         # indexes = pd.read_csv('~/Documents/cmr_rf/nmr_knn_index2.csv')\n",
    "#         indexes = pd.read_csv('~/Documents/cmr_rf/nmr_knn_index_10k1050.csv').to_numpy()\n",
    "#         loadings = {}\n",
    "#         scaler = StandardScaler()\n",
    "\n",
    "#             # indexes = pd.read_csv('~/Documents/cmr_rf/nmr_knn_index_10k15k.csv')\n",
    "#         for f_idx in features_subset:\n",
    "#             indeces = indexes[f_idx].tolist()\n",
    "#             pca_df = scaler.fit_transform(X[:, indeces])  # takes value for relevant feature in all training samples\n",
    "#             # print(pd.DataFrame(pca_df))\n",
    "#             pca = PCA(n_components=1)\n",
    "#             X_pca = np.append(X_pca, pca.fit_transform(pca_df), axis=1)\n",
    "#             loadings[f_idx] = np.ravel(pca.components_.T)\n",
    "            \n",
    "#         X_pca = X_pca[:, 1:]  # remove the 0s from initialising array\n",
    "#         best_split = get_best_split(X_pca)\n",
    "#         print(pd.DataFrame(X_pca), features_subset, loadings, indexes)\n",
    "#         return features_subset, X_pca, loadings, indexes\n",
    "\n",
    "#     @staticmethod\n",
    "#     def _generate_sample_indices(random_state, n_samples, max_samples=100):\n",
    "#         random_instance = np.random.RandomState(random_state)\n",
    "#         sample_indices = random_instance.randint(0, n_samples, 100)\n",
    "\n",
    "#         return sample_indices\n",
    "\n",
    "\n",
    "#     def _sample(X, y):\n",
    "#             '''\n",
    "#             Helper function used for boostrap sampling.\n",
    "\n",
    "#             :param X: np.array, features\n",
    "#             :param y: np.array, target\n",
    "#             :return: tuple (sample of features, sample of target)\n",
    "#             '''\n",
    "#             n_rows, n_cols = X.shape\n",
    "#             # Sample with replacement\n",
    "#             samples = np.random.choice(a=n_rows, size=int(n_rows/2), replace=False)\n",
    "#             print(samples)\n",
    "#             return X[samples], y[samples]\n",
    "\n",
    "#     def _parallel_build_trees(self, tree, X, y, idx):\n",
    "\n",
    "#         print(\"building tree %d of %d\" % (idx + 1, self.num_trees))\n",
    "#         # Obtain data sample\n",
    "#         # n_rows, n_cols = X.shape\n",
    "#         #     # Sample with replacement\n",
    "#         # samples = np.random.choice(a=n_rows, size=int(n_rows/2), replace=True)\n",
    "#         indices = self._generate_sample_indices(idx, X.shape[0], 100)\n",
    "#         X_sub = X[indices]\n",
    "#         _y_sub = y[indices]\n",
    "#         df_train = pd.DataFrame(X_sub)\n",
    "#         df_train[-1] = _y_sub\n",
    "#         # Train\n",
    "#         #tree.fit(X, _y)\n",
    "#         tree = create_tree(df_train.values, max_depth=10000, max_x=2)[1]\n",
    "#         print(tree)\n",
    "#         # predictions = decision_tree.predict(df_test.values)\n",
    "#         # Save the classifier\n",
    "#         #self.decision_trees.append(tree)\n",
    "#         return tree\n",
    "\n",
    "\n",
    "#     def fit(self, X, y):\n",
    "#         '''\n",
    "#         Trains a Random Forest classifier.\n",
    "\n",
    "#         :param X: np.array, features\n",
    "#         :param y: np.array, target\n",
    "#         :return: None\n",
    "#         '''\n",
    "#         # Reset\n",
    "#         # if len(self.decision_trees) > 0:\n",
    "#         #     self.decision_trees = []\n",
    "\n",
    "#         # Build each tree of the forest\n",
    "#         # num_built = 0\n",
    "#         self.decision_trees = []\n",
    "#         n_more_dts = self.num_trees - len(self.decision_trees)\n",
    "#         # trees = _make_estimator(DecisionTree(), append=True)\n",
    "\n",
    "#         trees = [_make_estimator(create_tree, append=False)\n",
    "#                 for i in range(n_more_dts)\n",
    "#                 ]\n",
    "#         print(trees)\n",
    "#         # print('make estimator results', trees)\n",
    "#         trees = Parallel(\n",
    "#                 n_jobs=-1,\n",
    "#                 verbose=5,\n",
    "#                 backend='multiprocessing')(delayed(self._parallel_build_trees)(tree, X, y, i) \n",
    "#                 for i, tree in enumerate(trees)\n",
    "#             )\n",
    "#         # print(trees)\n",
    "#         self.decision_trees.extend(trees)\n",
    "#         print(self.decision_trees)\n",
    "\n",
    "\n",
    "#     def predict_recursive(self, node, data_row):\n",
    "#         if 'end_node' in node:\n",
    "#             return node['y_hat']\n",
    "\n",
    "#         if data_row[node['predictor']] < node['split_point']:\n",
    "#             return self.predict_recursive(node['left_node'], data_row)\n",
    "#         else:\n",
    "#             return self.predict_recursive(node['right_node'], data_row)\n",
    "    \n",
    "#     def predict(self,data):\n",
    "#         y_hat = []\n",
    "#         for tree in self.decision_trees:\n",
    "#             y_hat.append([self.predict_recursive(tree, x) for x in data])\n",
    "#         y_hat = np.swapaxes(a=y_hat, axis1=0, axis2=1)\n",
    "        \n",
    "#         predictions = []\n",
    "        \n",
    "#         for i, preds in enumerate(y_hat):\n",
    "#             counter = Counter(y_hat[i])\n",
    "#             predictions.append(counter.most_common(1)[0][0])\n",
    "#         return predictions\n",
    "\n"
   ]
  },
  {
   "cell_type": "code",
   "execution_count": 26,
   "id": "77ca7e06-734a-4320-87ef-c292259e0696",
   "metadata": {},
   "outputs": [
    {
     "name": "stderr",
     "output_type": "stream",
     "text": [
      "cc1plus: warning: command line option ‘-Wstrict-prototypes’ is valid for C/ObjC but not for C++\n",
      "In file included from /home/mk218/anaconda3/envs/py38/lib/python3.8/site-packages/numpy/core/include/numpy/ndarraytypes.h:1969,\n",
      "                 from /home/mk218/anaconda3/envs/py38/lib/python3.8/site-packages/numpy/core/include/numpy/ndarrayobject.h:12,\n",
      "                 from /home/mk218/anaconda3/envs/py38/lib/python3.8/site-packages/numpy/core/include/numpy/arrayobject.h:4,\n",
      "                 from /home/mk218/.cache/ipython/cython/_cython_magic_82f70519bea0eedf9ca95addada78092.cpp:743:\n",
      "/home/mk218/anaconda3/envs/py38/lib/python3.8/site-packages/numpy/core/include/numpy/npy_1_7_deprecated_api.h:17:2: warning: #warning \"Using deprecated NumPy API, disable it with \" \"#define NPY_NO_DEPRECATED_API NPY_1_7_API_VERSION\" [-Wcpp]\n",
      "   17 | #warning \"Using deprecated NumPy API, disable it with \" \\\n",
      "      |  ^~~~~~~\n",
      "/home/mk218/.cache/ipython/cython/_cython_magic_82f70519bea0eedf9ca95addada78092.cpp: In function ‘PyArrayObject* __pyx_f_46_cython_magic_82f70519bea0eedf9ca95addada78092_12RandomForest_predict(__pyx_obj_46_cython_magic_82f70519bea0eedf9ca95addada78092_RandomForest*, PyArrayObject*, int)’:\n",
      "/home/mk218/.cache/ipython/cython/_cython_magic_82f70519bea0eedf9ca95addada78092.cpp:2499:33: warning: comparison of integer expressions of different signedness: ‘size_t’ {aka ‘long unsigned int’} and ‘npy_intp’ {aka ‘long int’} [-Wsign-compare]\n",
      " 2499 |   for (__pyx_t_9 = 0; __pyx_t_9 < __pyx_t_8; __pyx_t_9+=1) {\n",
      "      |                       ~~~~~~~~~~^~~~~~~~~~~\n",
      "/home/mk218/.cache/ipython/cython/_cython_magic_82f70519bea0eedf9ca95addada78092.cpp: In function ‘PyObject* __pyx_f_46_cython_magic_82f70519bea0eedf9ca95addada78092_create_forest(PyArrayObject*, int, int, int, int)’:\n",
      "/home/mk218/.cache/ipython/cython/_cython_magic_82f70519bea0eedf9ca95addada78092.cpp:5420:33: warning: comparison of integer expressions of different signedness: ‘size_t’ {aka ‘long unsigned int’} and ‘int’ [-Wsign-compare]\n",
      " 5420 |   for (__pyx_t_4 = 0; __pyx_t_4 < __pyx_t_3; __pyx_t_4+=1) {\n",
      "      |                       ~~~~~~~~~~^~~~~~~~~~~\n",
      "/home/mk218/.cache/ipython/cython/_cython_magic_82f70519bea0eedf9ca95addada78092.cpp: In function ‘PyObject* __pyx_f_46_cython_magic_82f70519bea0eedf9ca95addada78092_get_best_split(PyArrayObject*, int)’:\n",
      "/home/mk218/.cache/ipython/cython/_cython_magic_82f70519bea0eedf9ca95addada78092.cpp:10813:34: warning: ‘__pyx_v_b_predictor’ may be used uninitialized in this function [-Wmaybe-uninitialized]\n",
      "10813 |             return PyInt_FromLong((long) value);\n",
      "      |                                  ^\n",
      "/home/mk218/.cache/ipython/cython/_cython_magic_82f70519bea0eedf9ca95addada78092.cpp:4197:7: note: ‘__pyx_v_b_predictor’ was declared here\n",
      " 4197 |   int __pyx_v_b_predictor;\n",
      "      |       ^~~~~~~~~~~~~~~~~~~\n",
      "/home/mk218/.cache/ipython/cython/_cython_magic_82f70519bea0eedf9ca95addada78092.cpp:4632:33: warning: ‘__pyx_v_b_split_point’ may be used uninitialized in this function [-Wmaybe-uninitialized]\n",
      " 4632 |   __pyx_t_4 = PyFloat_FromDouble(__pyx_v_b_split_point); if (unlikely(!__pyx_t_4)) __PYX_ERR(0, 149, __pyx_L1_error)\n",
      "      |               ~~~~~~~~~~~~~~~~~~^~~~~~~~~~~~~~~~~~~~~~~\n"
     ]
    }
   ],
   "source": [
    "%%cython\n",
    "# distutils: language=c++\n",
    "import numpy as np\n",
    "cimport numpy as np\n",
    "cimport cython\n",
    "from numpy cimport ndarray, float64_t, int_t\n",
    "from libcpp cimport bool\n",
    "from libc.math cimport ceil, sqrt\n",
    "from cython.parallel import prange, parallel\n",
    "\n",
    "# cdef int predict_recursive(node, data_row):\n",
    "#     if 'end_node' in node:\n",
    "#         return node['y_hat']\n",
    "\n",
    "#     if data_row[node['predictor']] < node['split_point']:\n",
    "#         return predict_recursive(node['left_node'], data_row)\n",
    "#     else:\n",
    "#         return predict_recursive(node['right_node'], data_row)\n",
    "\n",
    "# cdef class DecisionTree:\n",
    "#     cdef list decision_tree\n",
    "\n",
    "#     def __cinit__(self, list decision_tree):\n",
    "#         self.decision_tree = decision_tree\n",
    "\n",
    "#     cpdef ndarray[int_t] predict(self, ndarray[float64_t, ndim=2] data):\n",
    "#         cdef:\n",
    "#             ndarray[int_t] predictions = np.array([], dtype=np.int)\n",
    "#             int prediction\n",
    "#             size_t i\n",
    "\n",
    "#         for i in range(data.shape[0]):\n",
    "#             prediction = predict_recursive(self.tree, data[i])\n",
    "#             predictions = np.append(predictions, prediction)\n",
    "\n",
    "#         return predictions\n",
    "\n",
    "cdef int predict_recursive(node, data_row):\n",
    "    if 'end_node' in node:\n",
    "        return node['y_hat']\n",
    "\n",
    "    if data_row[node['predictor']] < node['split_point']:\n",
    "        return predict_recursive(node['left_node'], data_row)\n",
    "    else:\n",
    "        return predict_recursive(node['right_node'], data_row)\n",
    "\n",
    "\n",
    "cdef class RandomForest:\n",
    "    cdef list random_forest\n",
    "\n",
    "    def __cinit__(self, list random_forest):\n",
    "        self.random_forest = random_forest\n",
    "\n",
    "    cpdef ndarray[int_t] predict(self, ndarray[float64_t, ndim=2] data):\n",
    "        cdef:\n",
    "            ndarray[int_t] predictions = np.array([], dtype=np.int)\n",
    "            int prediction\n",
    "            size_t i\n",
    "\n",
    "        for i in range(data.shape[0]):\n",
    "            prediction = self.get_random_forest_prediction(data[i])\n",
    "            predictions = np.append(predictions, prediction)\n",
    "\n",
    "        return predictions\n",
    "\n",
    "    cdef int get_random_forest_prediction(self, data_row):\n",
    "        cdef ndarray[int_t] predictions = np.array([], dtype=np.int)\n",
    "\n",
    "        for tree in self.random_forest:\n",
    "            y_hat = predict_recursive(tree, data_row)\n",
    "            predictions = np.append(predictions, y_hat)\n",
    "        \n",
    "        return np.bincount(predictions).argmax()\n",
    "\n",
    "\n",
    "'''-------------------------------------------------------------------------------------------------------'''\n",
    "\n",
    "\n",
    "cdef ndarray[float64_t, ndim=2] get_bootstrap(ndarray[float64_t, ndim=2] data):\n",
    "    return data[np.random.choice(data.shape[0], 100, replace=True), :]\n",
    "\n",
    "cdef bool is_pure(ndarray[int_t, ndim=1] Y):\n",
    "    return np.unique(Y).size == 1\n",
    "\n",
    "cdef add_endnode(dict node, bool left, bool right):\n",
    "    cdef int most_common_class\n",
    "    if left:\n",
    "        most_common_class = np.bincount(node['left'][:, -1].astype('int')).argmax()\n",
    "        node['left_node'] = {'end_node': True, 'y_hat': most_common_class}\n",
    "        del node['left']\n",
    "    if right:\n",
    "        most_common_class = np.bincount(node['right'][:, -1].astype('int')).argmax()\n",
    "        node['right_node'] = {'end_node': True, 'y_hat': most_common_class}\n",
    "        del node['right']\n",
    "\n",
    "\n",
    "#@cython.wraparound(False)\n",
    "@cython.boundscheck(False)\n",
    "@cython.cdivision(True)\n",
    "cpdef double gini_index(ndarray[float64_t, ndim=2] left, ndarray[float64_t, ndim=2] right):\n",
    "    cdef:\n",
    "        double purity = 0.0\n",
    "        double class_ratio\n",
    "        ndarray[float64_t, ndim=2] split\n",
    "        ndarray[int_t, ndim=1] class_counts, unique_classes\n",
    "        int total_classes, bi, i\n",
    "\n",
    "    for bi in range(2):\n",
    "        if bi == 0:\n",
    "            split = left\n",
    "        else:\n",
    "            split = right\n",
    "        \n",
    "        class_counts = np.bincount(split[:, -1].astype('int'))\n",
    "        unique_classes = np.array(np.nonzero(class_counts))[0]\n",
    "        \n",
    "        for i in range(unique_classes.shape[0]):\n",
    "            class_ratio = <double>class_counts[unique_classes[i]] / split.shape[0]\n",
    "            purity += class_ratio * (1 - class_ratio)\n",
    "    \n",
    "    return purity\n",
    "\n",
    "\n",
    "@cython.boundscheck(False)\n",
    "@cython.wraparound(False)\n",
    "@cython.cdivision(True)\n",
    "cpdef dict get_best_split(ndarray[float64_t, ndim=2] data):\n",
    "    cdef:\n",
    "        ndarray[float64_t, ndim=2] left, right, b_left, b_right\n",
    "        double split_point, b_split_point, gini, b_gini = 999.9\n",
    "        int b_predictor, pred_i, predictor, row_i\n",
    "        int num_random_predictors = <int>ceil(sqrt(data.shape[1]-1)) # size of random_predictors array\n",
    "        ndarray[int_t, ndim=1] random_predictors = np.random.choice(data.shape[1]-1, num_random_predictors, replace=False)\n",
    "    \n",
    "    for pred_i in range(random_predictors.shape[0]):\n",
    "        predictor = random_predictors[pred_i]\n",
    "        # Split data 1. For every predictor value => For every row, to get best left / right split\n",
    "        for row_i in range(data.shape[0]):\n",
    "            split_point = data[row_i][predictor]\n",
    "            left = data[data[:, predictor] < split_point]\n",
    "            right = data[data[:, predictor] >= split_point]\n",
    "            \n",
    "            gini = gini_index(left, right)\n",
    "\n",
    "            if gini < b_gini:\n",
    "                b_gini, b_split_point, b_predictor = gini, split_point, predictor\n",
    "                b_left, b_right = left.copy(), right.copy()\n",
    "\n",
    "    # TODO add proportional gini change for Variable-Importance measure\n",
    "    return {'left': b_left, 'right': b_right, 'split_point': b_split_point, 'predictor': b_predictor, 'gini': b_gini}\n",
    "\n",
    "\n",
    "@cython.boundscheck(False)\n",
    "@cython.wraparound(False)\n",
    "@cython.cdivision(True)\n",
    "cdef dict recurse_tree(dict node, int depth, int max_depth, int max_x):\n",
    "    cdef:\n",
    "        dict left_node, right_node\n",
    "\n",
    "    # CHECK Zero-Node left or right => both have same class\n",
    "    if node['left'].shape[0] == 0 or node['right'].shape[0] == 0:\n",
    "        if node['left'].shape[0] == 0:\n",
    "            node['left'] = node['right']\n",
    "        else:\n",
    "            node['right'] = node['left']\n",
    "        add_endnode(node, left=True, right=True)\n",
    "        if depth == 1:\n",
    "            return node\n",
    "        return\n",
    "\n",
    "    # CHECK branch depth\n",
    "    if depth >= max_depth:\n",
    "        add_endnode(node, left=True, right=True)\n",
    "        return\n",
    "    \n",
    "    # CHECK max_x & convergence else: recurse further\n",
    "    if node['left'].shape[0] <= max_x or is_pure(node['left'][:, -1].astype('int')):\n",
    "        add_endnode(node, left=True, right=False)\n",
    "    else:\n",
    "        left_node = get_best_split(node['left'])\n",
    "        del node['left']\n",
    "        node['left_node'] = left_node\n",
    "        recurse_tree(node['left_node'], depth+1, max_depth, max_x)\n",
    "\n",
    "\n",
    "    if node['right'].shape[0] <= max_x or is_pure(node['right'][:, -1].astype('int')):\n",
    "        add_endnode(node, right=True, left=False)\n",
    "    else:\n",
    "        right_node = get_best_split(node['right'])\n",
    "        del node['right']\n",
    "        node['right_node'] = right_node\n",
    "        recurse_tree(node['right_node'], depth+1, max_depth, max_x)\n",
    "\n",
    "    # entire decision-tree\n",
    "    return node\n",
    "\n",
    "\n",
    "# labels have to be last column\n",
    "cpdef create_forest(ndarray[float64_t, ndim=2] data, int n_trees, int max_depth, int max_x):\n",
    "    cdef:\n",
    "        list random_forest = []\n",
    "        dict tree, root_node\n",
    "        # ndarray[float64_t, ndim=2] subsample\n",
    "        # ndarray[float64_t, ndim=2] subsample2\n",
    "        # ndarray[float64_t, ndim=2] subsample3\n",
    "        # ndarray[float64_t, ndim=2] subsample_all\n",
    "        size_t i\n",
    "    # with nogil, parallel(num_threads=8):\n",
    "    for i in range(n_trees):\n",
    "        print(\"building tree %d of %d\" % (i, n_trees))\n",
    "        # subsample = get_bootstrap(data)\n",
    "        # subsample2 = get_bootstrap(data)\n",
    "        # subsample3 = get_bootstrap(data)\n",
    "        # subsample_all = np.array(subsample, subsample2, subsample3)     \n",
    "        # with nogil, parallel(num_threads=12):\n",
    "        # root_node = get_best_split(subsample_all[i])\n",
    "        root_node = get_best_split(get_bootstrap(data))\n",
    "        tree = recurse_tree(root_node, 1, max_depth, max_x)\n",
    "        print(tree)\n",
    "        random_forest.append(tree)\n",
    "    \n",
    "    return RandomForest(random_forest)\n",
    "\n",
    "\n"
   ]
  },
  {
   "cell_type": "code",
   "execution_count": 27,
   "id": "27624794-ab8d-4d07-8195-17a74029812e",
   "metadata": {},
   "outputs": [
    {
     "data": {
      "text/plain": [
       "(64, 998)"
      ]
     },
     "metadata": {},
     "output_type": "display_data"
    },
    {
     "ename": "TypeError",
     "evalue": "__cinit__() takes exactly 1 positional argument (0 given)",
     "output_type": "error",
     "traceback": [
      "\u001b[0;31m---------------------------------------------------------------------------\u001b[0m",
      "\u001b[0;31mTypeError\u001b[0m                                 Traceback (most recent call last)",
      "\u001b[0;32m/tmp/ipykernel_578272/596663340.py\u001b[0m in \u001b[0;36m<module>\u001b[0;34m\u001b[0m\n\u001b[1;32m     32\u001b[0m \u001b[0;31m# print(datetime.now())\u001b[0m\u001b[0;34m\u001b[0m\u001b[0;34m\u001b[0m\u001b[0;34m\u001b[0m\u001b[0m\n\u001b[1;32m     33\u001b[0m \u001b[0mstart\u001b[0m \u001b[0;34m=\u001b[0m \u001b[0mtime\u001b[0m\u001b[0;34m.\u001b[0m\u001b[0mperf_counter\u001b[0m\u001b[0;34m(\u001b[0m\u001b[0;34m)\u001b[0m\u001b[0;34m\u001b[0m\u001b[0;34m\u001b[0m\u001b[0m\n\u001b[0;32m---> 34\u001b[0;31m \u001b[0mmodel\u001b[0m \u001b[0;34m=\u001b[0m \u001b[0mRandomForest\u001b[0m\u001b[0;34m(\u001b[0m\u001b[0;34m)\u001b[0m\u001b[0;34m\u001b[0m\u001b[0;34m\u001b[0m\u001b[0m\n\u001b[0m\u001b[1;32m     35\u001b[0m \u001b[0mmodel\u001b[0m\u001b[0;34m.\u001b[0m\u001b[0mfit\u001b[0m\u001b[0;34m(\u001b[0m\u001b[0mX_train\u001b[0m\u001b[0;34m,\u001b[0m \u001b[0my_train\u001b[0m\u001b[0;34m)\u001b[0m\u001b[0;34m\u001b[0m\u001b[0;34m\u001b[0m\u001b[0m\n\u001b[1;32m     36\u001b[0m \u001b[0;31m# decision_tree = create_tree(df_train.values, max_depth=10000, max_x=2)[0]\u001b[0m\u001b[0;34m\u001b[0m\u001b[0;34m\u001b[0m\u001b[0;34m\u001b[0m\u001b[0m\n",
      "\u001b[0;32m_cython_magic_82f70519bea0eedf9ca95addada78092.pyx\u001b[0m in \u001b[0;36m_cython_magic_82f70519bea0eedf9ca95addada78092.RandomForest.__cinit__\u001b[0;34m()\u001b[0m\n",
      "\u001b[0;31mTypeError\u001b[0m: __cinit__() takes exactly 1 positional argument (0 given)"
     ]
    }
   ],
   "source": [
    "# test gini_index\n",
    "from datetime import datetime\n",
    "\n",
    "# test get_best_split\n",
    "nmr_peaks = pd.read_csv('~/Documents/IBS/NMR_data/IBS_HNMR_data_n267.csv')\n",
    "# X = nmr_peaks.iloc[:, 15000:15500]\n",
    "# X = np.array(nmr_peaks.iloc[:, 3:])\n",
    "\n",
    "X = np.array(nmr_peaks.iloc[:80, 3:1000])\n",
    "# print(pd.DataFrame(X))\n",
    "# y = np.array(nmr_peaks.iloc[:, 2])\n",
    "y = np.array(nmr_peaks.iloc[:80, 1])\n",
    "\n",
    "\n",
    "from sklearn.model_selection import train_test_split\n",
    "\n",
    "X_train, X_test, y_train, y_test = train_test_split(X, y, test_size=0.2, random_state=70)\n",
    "# print(pd.DataFrame(X_train))\n",
    "\n",
    "scaler = StandardScaler()\n",
    "X_train = scaler.fit_transform(X_train)\n",
    "X_test = scaler.transform(X_test)\n",
    "\n",
    "df_train = pd.DataFrame(X_train)\n",
    "df_train[-1] = y_train\n",
    "display(df_train.shape)\n",
    "df_test = pd.DataFrame(X_test)\n",
    "df_test[-1] = y_test\n",
    "df_test\n",
    "# split_data = get_best_split(df2.values)\n",
    "#print(split_data)\n",
    "# print(datetime.now())\n",
    "start = time.perf_counter()\n",
    "model = RandomForest()\n",
    "model.fit(X_train, y_train)\n",
    "# decision_tree = create_tree(df_train.values, max_depth=10000, max_x=2)[0]\n",
    "predictions = model.predict(df_test.values)\n",
    "end = time.perf_counter()\n",
    "print(\"Elapsed (after compilation) = {}s\".format((end - start)))\n",
    "# for i in range(1000):\n",
    "#     split_data = get_best_split(df.values)\n",
    "\n",
    "# print(datetime.now())\n",
    "\n",
    "# # test create_tree / recurse_tree\n",
    "# #print(create_tree(df.as_matrix(), n_trees=2, max_depth=3, max_x=5))\n",
    "# train_data, test_data = df.iloc[:120, [3, 4, -1]].as_matrix(), df.iloc[120:, [3, 4, -1]].as_matrix()\n",
    "# random_forest = create_forest(train_data, n_trees=450, max_depth=15, max_x=3)\n",
    "# predictions = random_forest.predict(test_data)\n",
    "\n",
    "# correct = 0\n",
    "# for i in range(len(predictions)):\n",
    "#     if predictions[i] == df.iloc[120+i, -1]:\n",
    "#         correct += 1\n",
    "    \n",
    "# print(predictions)\n",
    "# print(\"Ratio Correct:\", correct / len(predictions))"
   ]
  },
  {
   "cell_type": "code",
   "execution_count": null,
   "id": "c4643019-862a-413f-a87c-bcc819ac7917",
   "metadata": {},
   "outputs": [],
   "source": [
    "predictions "
   ]
  },
  {
   "cell_type": "code",
   "execution_count": null,
   "id": "db400061-bb4a-4f8e-ae2a-b4a58dd4a69c",
   "metadata": {},
   "outputs": [],
   "source": [
    "y_test"
   ]
  },
  {
   "cell_type": "code",
   "execution_count": null,
   "id": "e2ca001e-a39b-411e-986b-ae9b3143ab85",
   "metadata": {},
   "outputs": [],
   "source": [
    "from sklearn.metrics import accuracy_score\n",
    "\n",
    "print(accuracy_score(y_test, predictions))"
   ]
  },
  {
   "cell_type": "code",
   "execution_count": null,
   "id": "5829ef37-c95d-4521-b8a1-f83fb1edd409",
   "metadata": {},
   "outputs": [],
   "source": []
  }
 ],
 "metadata": {
  "kernelspec": {
   "display_name": "py38",
   "language": "python",
   "name": "py38"
  },
  "language_info": {
   "codemirror_mode": {
    "name": "ipython",
    "version": 3
   },
   "file_extension": ".py",
   "mimetype": "text/x-python",
   "name": "python",
   "nbconvert_exporter": "python",
   "pygments_lexer": "ipython3",
   "version": "3.8.12"
  },
  "vscode": {
   "interpreter": {
    "hash": "f6e2dfc68791f1f0dc0e41fd4086dd60ac80459d8906db29f1a908fe08bd1d7f"
   }
  }
 },
 "nbformat": 4,
 "nbformat_minor": 5
}
